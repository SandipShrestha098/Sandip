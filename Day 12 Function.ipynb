{
 "cells": [
  {
   "cell_type": "code",
   "execution_count": 1,
   "id": "b76ce42f",
   "metadata": {},
   "outputs": [],
   "source": [
    "# builtin scope => print,sum,input,reversed\n",
    "# global scope => module / file level\n",
    "# local scope => function level\n",
    "# non local scope => neither global nor local scope"
   ]
  },
  {
   "cell_type": "code",
   "execution_count": 4,
   "id": "b46a7250",
   "metadata": {},
   "outputs": [
    {
     "name": "stdout",
     "output_type": "stream",
     "text": [
      "hello world\n"
     ]
    },
    {
     "ename": "NameError",
     "evalue": "name 'y' is not defined",
     "output_type": "error",
     "traceback": [
      "\u001b[1;31m---------------------------------------------------------------------------\u001b[0m",
      "\u001b[1;31mNameError\u001b[0m                                 Traceback (most recent call last)",
      "Cell \u001b[1;32mIn [4], line 8\u001b[0m\n\u001b[0;32m      6\u001b[0m hi()\n\u001b[0;32m      7\u001b[0m \u001b[38;5;28mprint\u001b[39m(x)\n\u001b[1;32m----> 8\u001b[0m \u001b[38;5;28mprint\u001b[39m (\u001b[43my\u001b[49m)\n",
      "\u001b[1;31mNameError\u001b[0m: name 'y' is not defined"
     ]
    }
   ],
   "source": [
    "x = 'hello world' # global\n",
    "\n",
    "def hi():\n",
    "    y = 'hi' # local\n",
    "\n",
    "hi()\n",
    "print(x)\n",
    "print (y)"
   ]
  },
  {
   "cell_type": "code",
   "execution_count": 6,
   "id": "8e39d0c1",
   "metadata": {},
   "outputs": [
    {
     "name": "stdout",
     "output_type": "stream",
     "text": [
      "hello world\n",
      "hi\n",
      "hello world\n"
     ]
    }
   ],
   "source": [
    "y = 'hello world' # global\n",
    "\n",
    "def hi():\n",
    "    y = 'hi' # local\n",
    "    print(y)\n",
    "    \n",
    "print(y)\n",
    "hi()\n",
    "print (y)"
   ]
  },
  {
   "cell_type": "code",
   "execution_count": 9,
   "id": "a43889fa",
   "metadata": {},
   "outputs": [
    {
     "name": "stdout",
     "output_type": "stream",
     "text": [
      "5\n"
     ]
    },
    {
     "ename": "UnboundLocalError",
     "evalue": "local variable 'x' referenced before assignment",
     "output_type": "error",
     "traceback": [
      "\u001b[1;31m---------------------------------------------------------------------------\u001b[0m",
      "\u001b[1;31mUnboundLocalError\u001b[0m                         Traceback (most recent call last)",
      "Cell \u001b[1;32mIn [9], line 8\u001b[0m\n\u001b[0;32m      5\u001b[0m     \u001b[38;5;28mprint\u001b[39m(x)\n\u001b[0;32m      7\u001b[0m \u001b[38;5;28mprint\u001b[39m(x)\n\u001b[1;32m----> 8\u001b[0m \u001b[43mhi\u001b[49m\u001b[43m(\u001b[49m\u001b[43m)\u001b[49m\n\u001b[0;32m      9\u001b[0m \u001b[38;5;28mprint\u001b[39m (x)\n",
      "Cell \u001b[1;32mIn [9], line 4\u001b[0m, in \u001b[0;36mhi\u001b[1;34m()\u001b[0m\n\u001b[0;32m      3\u001b[0m \u001b[38;5;28;01mdef\u001b[39;00m \u001b[38;5;21mhi\u001b[39m():\n\u001b[1;32m----> 4\u001b[0m     x \u001b[38;5;241m=\u001b[39m \u001b[43mx\u001b[49m\u001b[38;5;241m+\u001b[39m\u001b[38;5;241m5\u001b[39m \u001b[38;5;66;03m# local\u001b[39;00m\n\u001b[0;32m      5\u001b[0m     \u001b[38;5;28mprint\u001b[39m(x)\n",
      "\u001b[1;31mUnboundLocalError\u001b[0m: local variable 'x' referenced before assignment"
     ]
    }
   ],
   "source": [
    "x = 5 # global\n",
    "\n",
    "def hi():\n",
    "    x = x+5 # local\n",
    "    print(x)\n",
    "    \n",
    "print(x)\n",
    "hi()\n",
    "print (x)"
   ]
  },
  {
   "cell_type": "code",
   "execution_count": 8,
   "id": "f84e704f",
   "metadata": {},
   "outputs": [
    {
     "name": "stdout",
     "output_type": "stream",
     "text": [
      "5\n",
      "10\n",
      "5\n"
     ]
    }
   ],
   "source": [
    "x = 5 # global\n",
    "\n",
    "def hi():\n",
    "    x = 5\n",
    "    x = x+5 # local\n",
    "    print(x)\n",
    "    \n",
    "print(x)\n",
    "hi()\n",
    "print (x)"
   ]
  },
  {
   "cell_type": "code",
   "execution_count": 10,
   "id": "065bd679",
   "metadata": {},
   "outputs": [
    {
     "name": "stdout",
     "output_type": "stream",
     "text": [
      "5\n",
      "10\n",
      "10\n"
     ]
    }
   ],
   "source": [
    "x = 5 # global\n",
    "\n",
    "def hi():\n",
    "    global x #not recommended to use this method\n",
    "    x = x+5 # adding 5 to global x\n",
    "    print(x)\n",
    "    \n",
    "print(x)\n",
    "hi()\n",
    "print (x)"
   ]
  },
  {
   "cell_type": "code",
   "execution_count": 11,
   "id": "c5206f30",
   "metadata": {},
   "outputs": [
    {
     "name": "stdout",
     "output_type": "stream",
     "text": [
      "5\n",
      "10\n"
     ]
    },
    {
     "ename": "UnboundLocalError",
     "evalue": "local variable 'x' referenced before assignment",
     "output_type": "error",
     "traceback": [
      "\u001b[1;31m---------------------------------------------------------------------------\u001b[0m",
      "\u001b[1;31mUnboundLocalError\u001b[0m                         Traceback (most recent call last)",
      "Cell \u001b[1;32mIn [11], line 13\u001b[0m\n\u001b[0;32m     11\u001b[0m     \u001b[38;5;28mprint\u001b[39m(x)\n\u001b[0;32m     12\u001b[0m \u001b[38;5;28mprint\u001b[39m(x)\n\u001b[1;32m---> 13\u001b[0m \u001b[43mouter_func\u001b[49m\u001b[43m(\u001b[49m\u001b[43m)\u001b[49m\n\u001b[0;32m     14\u001b[0m \u001b[38;5;28mprint\u001b[39m (x)\n",
      "Cell \u001b[1;32mIn [11], line 10\u001b[0m, in \u001b[0;36mouter_func\u001b[1;34m()\u001b[0m\n\u001b[0;32m      8\u001b[0m     x \u001b[38;5;241m=\u001b[39m x \u001b[38;5;241m+\u001b[39m \u001b[38;5;241m5\u001b[39m\n\u001b[0;32m      9\u001b[0m     \u001b[38;5;28mprint\u001b[39m(x)\n\u001b[1;32m---> 10\u001b[0m \u001b[43minner_func\u001b[49m\u001b[43m(\u001b[49m\u001b[43m)\u001b[49m\n\u001b[0;32m     11\u001b[0m \u001b[38;5;28mprint\u001b[39m(x)\n",
      "Cell \u001b[1;32mIn [11], line 8\u001b[0m, in \u001b[0;36mouter_func.<locals>.inner_func\u001b[1;34m()\u001b[0m\n\u001b[0;32m      7\u001b[0m \u001b[38;5;28;01mdef\u001b[39;00m \u001b[38;5;21minner_func\u001b[39m():\n\u001b[1;32m----> 8\u001b[0m     x \u001b[38;5;241m=\u001b[39m \u001b[43mx\u001b[49m \u001b[38;5;241m+\u001b[39m \u001b[38;5;241m5\u001b[39m\n\u001b[0;32m      9\u001b[0m     \u001b[38;5;28mprint\u001b[39m(x)\n",
      "\u001b[1;31mUnboundLocalError\u001b[0m: local variable 'x' referenced before assignment"
     ]
    }
   ],
   "source": [
    "x = 5\n",
    "\n",
    "def outer_func():\n",
    "    x = 10\n",
    "    print(x)\n",
    "    \n",
    "    def inner_func():\n",
    "        x = x + 5 # x is in local scope?\n",
    "        print(x)\n",
    "    inner_func()\n",
    "    print(x)\n",
    "print(x)\n",
    "outer_func()\n",
    "print (x)"
   ]
  },
  {
   "cell_type": "code",
   "execution_count": 12,
   "id": "2706daaf",
   "metadata": {},
   "outputs": [
    {
     "name": "stdout",
     "output_type": "stream",
     "text": [
      "5\n",
      "10\n",
      "15\n",
      "15\n",
      "5\n"
     ]
    }
   ],
   "source": [
    "x = 5\n",
    "\n",
    "def outer_func():\n",
    "    x = 10\n",
    "    print(x) #2nd\n",
    "    \n",
    "    def inner_func():\n",
    "        nonlocal x\n",
    "        x = x + 5 # x is in local scope?\n",
    "        print(x) #3rd\n",
    "    inner_func()\n",
    "    print(x) #4th\n",
    "print(x) #1st\n",
    "outer_func() \n",
    "print (x) #5th"
   ]
  },
  {
   "cell_type": "code",
   "execution_count": 13,
   "id": "d19f35fa",
   "metadata": {},
   "outputs": [
    {
     "name": "stdout",
     "output_type": "stream",
     "text": [
      "5\n",
      "10\n",
      "10\n",
      "10\n",
      "10\n"
     ]
    }
   ],
   "source": [
    "x = 5\n",
    "\n",
    "def outer_func():\n",
    "    x = 10\n",
    "    print(x) #2nd\n",
    "    \n",
    "    def inner_func():\n",
    "        global x\n",
    "        x = x + 5 # x is in local scope?\n",
    "        print(x) #3rd\n",
    "    inner_func()\n",
    "    print(x) #4th\n",
    "print(x) #1st\n",
    "outer_func() \n",
    "print (x) #5th"
   ]
  },
  {
   "cell_type": "code",
   "execution_count": 15,
   "id": "d053ad28",
   "metadata": {},
   "outputs": [
    {
     "name": "stdout",
     "output_type": "stream",
     "text": [
      "30\n"
     ]
    }
   ],
   "source": [
    "def addition (a,b):\n",
    "    add = a+b\n",
    "    return add\n",
    "def multiplication(a,b):\n",
    "    mul = a*b\n",
    "    return mul\n",
    "\n",
    "result = multiplication(addition(5,10),2)\n",
    "print (result)"
   ]
  },
  {
   "cell_type": "code",
   "execution_count": 18,
   "id": "8dbf8b4f",
   "metadata": {},
   "outputs": [
    {
     "name": "stdout",
     "output_type": "stream",
     "text": [
      "52\n"
     ]
    }
   ],
   "source": [
    "result = multiplication(addition(multiplication(5,10),2),1)\n",
    "print (result)"
   ]
  },
  {
   "cell_type": "code",
   "execution_count": null,
   "id": "24ad3cce",
   "metadata": {},
   "outputs": [],
   "source": [
    "#recursion => calling itself\n",
    "# recursion function should have atleast one termination/base condition\n",
    "def hello():\n",
    "    print('hello')\n",
    "    hello()\n",
    "\n",
    "hello()"
   ]
  },
  {
   "cell_type": "code",
   "execution_count": 8,
   "id": "4f6d508d",
   "metadata": {},
   "outputs": [],
   "source": [
    "def factorial(number):\n",
    "    fact = 1\n",
    "    for i in range (1,number+1):\n",
    "        fact *= i\n",
    "    return fact"
   ]
  },
  {
   "cell_type": "code",
   "execution_count": 9,
   "id": "754704af",
   "metadata": {},
   "outputs": [
    {
     "data": {
      "text/plain": [
       "720"
      ]
     },
     "execution_count": 9,
     "metadata": {},
     "output_type": "execute_result"
    }
   ],
   "source": [
    "factorial(6)"
   ]
  },
  {
   "cell_type": "code",
   "execution_count": 1,
   "id": "c0c863c3",
   "metadata": {},
   "outputs": [],
   "source": [
    "def factorial_while(number):\n",
    "    fact = 1\n",
    "    while number > 0:\n",
    "        fact *= number\n",
    "        number-=1\n",
    "   \n",
    "    return fact"
   ]
  },
  {
   "cell_type": "code",
   "execution_count": 2,
   "id": "9a19585a",
   "metadata": {},
   "outputs": [
    {
     "data": {
      "text/plain": [
       "720"
      ]
     },
     "execution_count": 2,
     "metadata": {},
     "output_type": "execute_result"
    }
   ],
   "source": [
    "factorial_while(6)"
   ]
  },
  {
   "cell_type": "code",
   "execution_count": 3,
   "id": "3ba5293d",
   "metadata": {},
   "outputs": [],
   "source": [
    "def factorial_recursion(number): # 5 * (factorial (5-1))\n",
    "    if number <=1:\n",
    "        return 1\n",
    "    return number * factorial_recursion(number - 1)"
   ]
  },
  {
   "cell_type": "code",
   "execution_count": 4,
   "id": "d5960bf0",
   "metadata": {},
   "outputs": [
    {
     "data": {
      "text/plain": [
       "120"
      ]
     },
     "execution_count": 4,
     "metadata": {},
     "output_type": "execute_result"
    }
   ],
   "source": [
    "factorial_recursion(5)"
   ]
  },
  {
   "cell_type": "code",
   "execution_count": 6,
   "id": "98920751",
   "metadata": {},
   "outputs": [
    {
     "ename": "SyntaxError",
     "evalue": "cannot assign to literal here. Maybe you meant '==' instead of '='? (639148255.py, line 1)",
     "output_type": "error",
     "traceback": [
      "\u001b[1;36m  Cell \u001b[1;32mIn [6], line 1\u001b[1;36m\u001b[0m\n\u001b[1;33m    5 = 5 * factorial (4)\u001b[0m\n\u001b[1;37m    ^\u001b[0m\n\u001b[1;31mSyntaxError\u001b[0m\u001b[1;31m:\u001b[0m cannot assign to literal here. Maybe you meant '==' instead of '='?\n"
     ]
    }
   ],
   "source": [
    "5 = 5 * factorial (4)\n",
    "5 = 5 * 4 * factorial (3)\n",
    "5 = 5 * 4 * 3 * factorial (2)\n",
    "5 = 5 * 4 * 3 * 2 * factorial (1)\n",
    "5 = 5 * 4 * 3 * 2 * 1"
   ]
  },
  {
   "cell_type": "code",
   "execution_count": 27,
   "id": "9a4dc29f",
   "metadata": {},
   "outputs": [],
   "source": [
    "def addition(number):\n",
    "    if number <=0:\n",
    "        return 0\n",
    "    if number >=1: \n",
    "        return number + addition (number - 1)\n",
    "    "
   ]
  },
  {
   "cell_type": "code",
   "execution_count": 30,
   "id": "cda15d3f",
   "metadata": {},
   "outputs": [
    {
     "data": {
      "text/plain": [
       "55"
      ]
     },
     "execution_count": 30,
     "metadata": {},
     "output_type": "execute_result"
    }
   ],
   "source": [
    "addition(10)"
   ]
  },
  {
   "cell_type": "code",
   "execution_count": 15,
   "id": "235ee690",
   "metadata": {},
   "outputs": [],
   "source": [
    "def addition(number):\n",
    "    sum = 0\n",
    "    for i in range (0,number+1):\n",
    "        sum += i\n",
    "    return sum"
   ]
  },
  {
   "cell_type": "code",
   "execution_count": 18,
   "id": "64e96166",
   "metadata": {},
   "outputs": [
    {
     "data": {
      "text/plain": [
       "21"
      ]
     },
     "execution_count": 18,
     "metadata": {},
     "output_type": "execute_result"
    }
   ],
   "source": [
    "addition(6)"
   ]
  },
  {
   "cell_type": "code",
   "execution_count": 21,
   "id": "772cb234",
   "metadata": {},
   "outputs": [],
   "source": [
    "def addition_while(number):\n",
    "    sum = 0\n",
    "    while number > 0:\n",
    "        sum += number\n",
    "        number-=1\n",
    "   \n",
    "    return sum"
   ]
  },
  {
   "cell_type": "code",
   "execution_count": 22,
   "id": "9ac24433",
   "metadata": {},
   "outputs": [
    {
     "data": {
      "text/plain": [
       "21"
      ]
     },
     "execution_count": 22,
     "metadata": {},
     "output_type": "execute_result"
    }
   ],
   "source": [
    "addition_while(6)"
   ]
  },
  {
   "cell_type": "code",
   "execution_count": 40,
   "id": "18960dd5",
   "metadata": {},
   "outputs": [],
   "source": [
    "def double(number):\n",
    "    return number * 2"
   ]
  },
  {
   "cell_type": "code",
   "execution_count": 42,
   "id": "7b96ec20",
   "metadata": {},
   "outputs": [
    {
     "data": {
      "text/plain": [
       "14"
      ]
     },
     "execution_count": 42,
     "metadata": {},
     "output_type": "execute_result"
    }
   ],
   "source": [
    "double(7)"
   ]
  },
  {
   "cell_type": "code",
   "execution_count": 44,
   "id": "5edf23d4",
   "metadata": {},
   "outputs": [
    {
     "name": "stdout",
     "output_type": "stream",
     "text": [
      "12\n"
     ]
    }
   ],
   "source": [
    "double = lambda x: x*2\n",
    "\n",
    "print (double(6))"
   ]
  },
  {
   "cell_type": "code",
   "execution_count": 45,
   "id": "eef90a20",
   "metadata": {},
   "outputs": [],
   "source": [
    "def hello():\n",
    "    return \"hello\""
   ]
  },
  {
   "cell_type": "code",
   "execution_count": 51,
   "id": "f5db6eb5",
   "metadata": {},
   "outputs": [
    {
     "name": "stdout",
     "output_type": "stream",
     "text": [
      "hello\n"
     ]
    }
   ],
   "source": [
    "hello = lambda :\"hello\"\n",
    "print (hello())"
   ]
  },
  {
   "cell_type": "code",
   "execution_count": 52,
   "id": "61b0e4a4",
   "metadata": {},
   "outputs": [],
   "source": [
    "def sum(a,b):\n",
    "    return a+b"
   ]
  },
  {
   "cell_type": "code",
   "execution_count": 54,
   "id": "868c2dd6",
   "metadata": {},
   "outputs": [
    {
     "name": "stdout",
     "output_type": "stream",
     "text": [
      "9\n"
     ]
    }
   ],
   "source": [
    "sume = lambda a,b : a+ b\n",
    "print(sume (4,5))"
   ]
  },
  {
   "cell_type": "code",
   "execution_count": 61,
   "id": "12959ee8",
   "metadata": {},
   "outputs": [],
   "source": [
    "def is_even(num):\n",
    "    if num % 2== 0:\n",
    "        return True\n",
    "    return False"
   ]
  },
  {
   "cell_type": "code",
   "execution_count": 59,
   "id": "c4c3c5e7",
   "metadata": {},
   "outputs": [
    {
     "data": {
      "text/plain": [
       "False"
      ]
     },
     "execution_count": 59,
     "metadata": {},
     "output_type": "execute_result"
    }
   ],
   "source": [
    "is_even = lambda a : a %2 == 0 \n",
    "is_even(7)"
   ]
  },
  {
   "cell_type": "code",
   "execution_count": null,
   "id": "ee2668a2",
   "metadata": {},
   "outputs": [],
   "source": []
  },
  {
   "cell_type": "code",
   "execution_count": null,
   "id": "196adf3e",
   "metadata": {},
   "outputs": [],
   "source": []
  }
 ],
 "metadata": {
  "kernelspec": {
   "display_name": "Python 3 (ipykernel)",
   "language": "python",
   "name": "python3"
  },
  "language_info": {
   "codemirror_mode": {
    "name": "ipython",
    "version": 3
   },
   "file_extension": ".py",
   "mimetype": "text/x-python",
   "name": "python",
   "nbconvert_exporter": "python",
   "pygments_lexer": "ipython3",
   "version": "3.10.6"
  }
 },
 "nbformat": 4,
 "nbformat_minor": 5
}
