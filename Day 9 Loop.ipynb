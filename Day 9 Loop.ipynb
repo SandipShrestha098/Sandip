{
 "cells": [
  {
   "cell_type": "code",
   "execution_count": 1,
   "id": "155a6e43",
   "metadata": {},
   "outputs": [
    {
     "name": "stdout",
     "output_type": "stream",
     "text": [
      "1\n",
      "2\n",
      "3\n",
      "4\n",
      "5\n",
      "6\n",
      "7\n",
      "8\n"
     ]
    }
   ],
   "source": [
    "x = [1,2,3,4,5,6,7,8]\n",
    "\n",
    "for i in x:\n",
    "    print(i)"
   ]
  },
  {
   "cell_type": "code",
   "execution_count": 5,
   "id": "0c00f4f9",
   "metadata": {},
   "outputs": [
    {
     "name": "stdout",
     "output_type": "stream",
     "text": [
      "36\n",
      "4.5\n"
     ]
    }
   ],
   "source": [
    "x = [1,2,3,4,5,6,7,8]\n",
    "sum = 0\n",
    "\n",
    "for i in x:\n",
    "    sum += i\n",
    "print(sum)\n",
    "\n",
    "average = sum / len(x)\n",
    "print(average)"
   ]
  },
  {
   "cell_type": "code",
   "execution_count": 6,
   "id": "8fae891b",
   "metadata": {},
   "outputs": [
    {
     "name": "stdout",
     "output_type": "stream",
     "text": [
      "[1, 2, 3, 4, 5]\n"
     ]
    }
   ],
   "source": [
    "print(x[0:5])"
   ]
  },
  {
   "cell_type": "code",
   "execution_count": 7,
   "id": "5f4c0374",
   "metadata": {},
   "outputs": [
    {
     "name": "stdout",
     "output_type": "stream",
     "text": [
      "0\n",
      "1\n",
      "2\n",
      "3\n",
      "4\n"
     ]
    }
   ],
   "source": [
    "for i in range (0,5):\n",
    "    print(i)"
   ]
  },
  {
   "cell_type": "code",
   "execution_count": 8,
   "id": "ea98c80f",
   "metadata": {},
   "outputs": [
    {
     "name": "stdout",
     "output_type": "stream",
     "text": [
      "0\n",
      "1\n",
      "2\n",
      "3\n",
      "4\n"
     ]
    }
   ],
   "source": [
    "for i in range (5):\n",
    "    print(i)"
   ]
  },
  {
   "cell_type": "code",
   "execution_count": 11,
   "id": "db1d30cc",
   "metadata": {},
   "outputs": [
    {
     "name": "stdout",
     "output_type": "stream",
     "text": [
      "0\n",
      "1\n",
      "2\n",
      "3\n",
      "4\n"
     ]
    }
   ],
   "source": [
    "for i in range (0,5,1):\n",
    "    print(i)"
   ]
  },
  {
   "cell_type": "code",
   "execution_count": 12,
   "id": "1534f55f",
   "metadata": {},
   "outputs": [
    {
     "name": "stdout",
     "output_type": "stream",
     "text": [
      "0\n",
      "2\n",
      "4\n"
     ]
    }
   ],
   "source": [
    "for i in range (0,5,2):\n",
    "    print(i)"
   ]
  },
  {
   "cell_type": "code",
   "execution_count": 15,
   "id": "400d9744",
   "metadata": {},
   "outputs": [
    {
     "name": "stdout",
     "output_type": "stream",
     "text": [
      "5\n",
      "4\n",
      "3\n",
      "2\n",
      "1\n"
     ]
    }
   ],
   "source": [
    "for i in range (5,0,-1):\n",
    "    print(i)"
   ]
  },
  {
   "cell_type": "code",
   "execution_count": 16,
   "id": "c31030a2",
   "metadata": {},
   "outputs": [
    {
     "data": {
      "text/plain": [
       "range(0, 5)"
      ]
     },
     "execution_count": 16,
     "metadata": {},
     "output_type": "execute_result"
    }
   ],
   "source": [
    "range (0,5)"
   ]
  },
  {
   "cell_type": "code",
   "execution_count": 17,
   "id": "6e1d84b5",
   "metadata": {},
   "outputs": [
    {
     "name": "stdout",
     "output_type": "stream",
     "text": [
      "range(0, 5)\n"
     ]
    }
   ],
   "source": [
    "print (range (0,5))"
   ]
  },
  {
   "cell_type": "code",
   "execution_count": 18,
   "id": "bd046d40",
   "metadata": {},
   "outputs": [
    {
     "name": "stdout",
     "output_type": "stream",
     "text": [
      "[0, 1, 2, 3, 4]\n"
     ]
    }
   ],
   "source": [
    "print (list (range(0,5)))"
   ]
  },
  {
   "cell_type": "code",
   "execution_count": 27,
   "id": "97a7a42f",
   "metadata": {},
   "outputs": [
    {
     "name": "stdout",
     "output_type": "stream",
     "text": [
      "100\n"
     ]
    }
   ],
   "source": [
    "first_10_odd_number = list(range(1,10*2+1,2))\n",
    "sum = 0\n",
    "for i in first_10_odd_number:   \n",
    "    sum += i\n",
    "print(sum)"
   ]
  },
  {
   "cell_type": "code",
   "execution_count": 31,
   "id": "b2ec88d9",
   "metadata": {},
   "outputs": [
    {
     "name": "stdout",
     "output_type": "stream",
     "text": [
      "ram eats momo\n",
      "ram eats chowmin\n",
      "ram eats thukpa\n",
      "shyam eats momo\n",
      "shyam eats chowmin\n",
      "shyam eats thukpa\n",
      "sita eats momo\n",
      "sita eats chowmin\n",
      "sita eats thukpa\n"
     ]
    }
   ],
   "source": [
    "names = ['ram', 'shyam', 'sita']\n",
    "foods = ['momo', 'chowmin', 'thukpa']\n",
    "\n",
    "for i in names:\n",
    "    for j in foods:\n",
    "        print(f\"{i} eats {j}\")"
   ]
  },
  {
   "cell_type": "code",
   "execution_count": 34,
   "id": "e5ab52ca",
   "metadata": {},
   "outputs": [
    {
     "name": "stdout",
     "output_type": "stream",
     "text": [
      "ram 0\n",
      "shyam 1\n",
      "sita 2\n"
     ]
    }
   ],
   "source": [
    "names = ['ram', 'shyam', 'sita']\n",
    "index = 0\n",
    "for i in names:\n",
    "    print(i , index)\n",
    "    index += 1"
   ]
  },
  {
   "cell_type": "code",
   "execution_count": 35,
   "id": "94e2097f",
   "metadata": {},
   "outputs": [
    {
     "name": "stdout",
     "output_type": "stream",
     "text": [
      "ram 0\n",
      "shyam 1\n",
      "sita 2\n"
     ]
    }
   ],
   "source": [
    "names = ['ram', 'shyam', 'sita']\n",
    "\n",
    "for i in range(0, len(names)):\n",
    "    print(names[i],i)"
   ]
  },
  {
   "cell_type": "code",
   "execution_count": 40,
   "id": "c9003db3",
   "metadata": {},
   "outputs": [
    {
     "name": "stdout",
     "output_type": "stream",
     "text": [
      "one 0\n",
      "two 1\n",
      "three 2\n",
      "four 3\n",
      "five 4\n"
     ]
    }
   ],
   "source": [
    "x = [(0, 'one'), (1, 'two'), (2, 'three'), (3, 'four'), (4, 'five')] #better way\n",
    "\n",
    "for i,j in x:\n",
    "    print (j,i)"
   ]
  },
  {
   "cell_type": "code",
   "execution_count": 39,
   "id": "b7ce6605",
   "metadata": {},
   "outputs": [
    {
     "name": "stdout",
     "output_type": "stream",
     "text": [
      "one 0\n",
      "two 1\n",
      "three 2\n",
      "four 3\n",
      "five 4\n"
     ]
    }
   ],
   "source": [
    "x = [(0, 'one'), (1, 'two'), (2, 'three'), (3, 'four'), (4, 'five')]\n",
    "\n",
    "for i in x:\n",
    "    print (i[1],i[0])"
   ]
  },
  {
   "cell_type": "code",
   "execution_count": 42,
   "id": "092d15ea",
   "metadata": {},
   "outputs": [
    {
     "data": {
      "text/plain": [
       "[(0, 'ram'), (1, 'shyam'), (2, 'sita')]"
      ]
     },
     "execution_count": 42,
     "metadata": {},
     "output_type": "execute_result"
    }
   ],
   "source": [
    "names = ['ram', 'shyam', 'sita']\n",
    "list(enumerate(names))"
   ]
  },
  {
   "cell_type": "code",
   "execution_count": 45,
   "id": "1f38382b",
   "metadata": {},
   "outputs": [
    {
     "name": "stdout",
     "output_type": "stream",
     "text": [
      "ram 0\n",
      "shyam 1\n",
      "sita 2\n"
     ]
    }
   ],
   "source": [
    "names = ['ram', 'shyam', 'sita']\n",
    "\n",
    "for i, j  in enumerate(names): # no need to convert to list to iterate in loop\n",
    "    \n",
    "    print (j,i)"
   ]
  },
  {
   "cell_type": "code",
   "execution_count": 50,
   "id": "1ce9f2ba",
   "metadata": {},
   "outputs": [
    {
     "name": "stdout",
     "output_type": "stream",
     "text": [
      "286\n"
     ]
    }
   ],
   "source": [
    "marks = { 'Alan' : 99, 'Bill' : 55, 'Ram' : 55, 'cory': 77}\n",
    "sum = 0\n",
    "\n",
    "for name,mark in marks.items():\n",
    "    sum += mark\n",
    "print (sum)"
   ]
  },
  {
   "cell_type": "code",
   "execution_count": 51,
   "id": "5f99961f",
   "metadata": {},
   "outputs": [
    {
     "name": "stdout",
     "output_type": "stream",
     "text": [
      "286\n"
     ]
    }
   ],
   "source": [
    "marks = { 'Alan' : 99, 'Bill' : 55, 'Ram' : 55, 'cory': 77}\n",
    "sum = 0\n",
    "\n",
    "for mark in marks.values():\n",
    "    sum += mark\n",
    "print (sum)"
   ]
  },
  {
   "cell_type": "code",
   "execution_count": 53,
   "id": "1bfa31d4",
   "metadata": {},
   "outputs": [
    {
     "name": "stdout",
     "output_type": "stream",
     "text": [
      "231\n"
     ]
    }
   ],
   "source": [
    "marks = { 'Alan' : 99, 'Bill' : 55, 'Ram' : 55, 'cory': 77}\n",
    "sum = 0\n",
    "\n",
    "for name,mark in marks.items():\n",
    "    if name != 'Ram':\n",
    "        sum += mark\n",
    "print (sum)"
   ]
  },
  {
   "cell_type": "code",
   "execution_count": 55,
   "id": "2d0ef8c2",
   "metadata": {},
   "outputs": [
    {
     "name": "stdout",
     "output_type": "stream",
     "text": [
      "231\n"
     ]
    }
   ],
   "source": [
    "marks = { 'Alan' : 99, 'Bill' : 55, 'Ram' : 55, 'cory': 77}\n",
    "sum = 0\n",
    "\n",
    "for name,mark in marks.items():\n",
    "    if name == 'Ram':\n",
    "        continue\n",
    "    sum += mark\n",
    "print (sum)"
   ]
  },
  {
   "cell_type": "code",
   "execution_count": 58,
   "id": "d5372031",
   "metadata": {},
   "outputs": [
    {
     "name": "stdout",
     "output_type": "stream",
     "text": [
      "187\n"
     ]
    }
   ],
   "source": [
    "marks = { 'Alan' : 99, 'Bill' : 55, 'Ram' : 55, 'cory': 77}\n",
    "sum = 0\n",
    "\n",
    "for name,mark in marks.items():\n",
    "    if mark < 80:\n",
    "        sum += mark\n",
    "print (sum)"
   ]
  },
  {
   "cell_type": "code",
   "execution_count": 60,
   "id": "31bd7a0d",
   "metadata": {},
   "outputs": [
    {
     "name": "stdout",
     "output_type": "stream",
     "text": [
      "187\n"
     ]
    }
   ],
   "source": [
    "marks = { 'Alan' : 99, 'Bill' : 55, 'Ram' : 55, 'cory': 77}\n",
    "sum = 0\n",
    "\n",
    "for name,mark in marks.items():\n",
    "    if mark > 80:\n",
    "        continue\n",
    "    sum += mark\n",
    "print (sum)"
   ]
  },
  {
   "cell_type": "code",
   "execution_count": 63,
   "id": "a5809037",
   "metadata": {},
   "outputs": [
    {
     "name": "stdout",
     "output_type": "stream",
     "text": [
      "39\n"
     ]
    }
   ],
   "source": [
    "numbers = [1,2,3,4,5,6,7,8,9]\n",
    "sum = 0\n",
    "\n",
    "for i in numbers:\n",
    "    if i == 6:\n",
    "        continue\n",
    "    sum += i\n",
    "print (sum)"
   ]
  },
  {
   "cell_type": "code",
   "execution_count": 64,
   "id": "d1c2cd9a",
   "metadata": {},
   "outputs": [
    {
     "name": "stdout",
     "output_type": "stream",
     "text": [
      "15\n"
     ]
    }
   ],
   "source": [
    "numbers = [1,2,3,4,5,6,7,8,9]\n",
    "sum = 0\n",
    "\n",
    "for i in numbers:\n",
    "    if i == 6:\n",
    "        break\n",
    "    sum += i\n",
    "print (sum)"
   ]
  },
  {
   "cell_type": "code",
   "execution_count": 68,
   "id": "02f3720c",
   "metadata": {},
   "outputs": [
    {
     "name": "stdout",
     "output_type": "stream",
     "text": [
      "I will run successfully\n",
      "45\n"
     ]
    }
   ],
   "source": [
    "numbers = [1,2,3,4,5,6,7,8,9]\n",
    "sum = 0\n",
    "\n",
    "for i in numbers:\n",
    "    if i == 66:\n",
    "        break\n",
    "    sum += i\n",
    "else:\n",
    "    print (\"I will run successfully\")\n",
    "print (sum)"
   ]
  },
  {
   "cell_type": "code",
   "execution_count": null,
   "id": "3a2b644d",
   "metadata": {},
   "outputs": [],
   "source": [
    "#if break statement is not executed else gets executed"
   ]
  },
  {
   "cell_type": "code",
   "execution_count": 67,
   "id": "a5d0033a",
   "metadata": {},
   "outputs": [
    {
     "name": "stdout",
     "output_type": "stream",
     "text": [
      "I will run successfully\n",
      "39\n"
     ]
    }
   ],
   "source": [
    "numbers = [1,2,3,4,5,6,7,8,9]\n",
    "sum = 0\n",
    "\n",
    "for i in numbers:\n",
    "    if i == 6:\n",
    "        continue\n",
    "    sum += i\n",
    "else:\n",
    "    print (\"I will run successfully\")\n",
    "print (sum)"
   ]
  },
  {
   "cell_type": "code",
   "execution_count": 69,
   "id": "585d20b7",
   "metadata": {},
   "outputs": [],
   "source": [
    "def hello ():\n",
    "    pass\n",
    "hello()"
   ]
  },
  {
   "cell_type": "code",
   "execution_count": 70,
   "id": "de850f10",
   "metadata": {},
   "outputs": [
    {
     "ename": "IndentationError",
     "evalue": "expected an indented block after function definition on line 1 (1893915836.py, line 3)",
     "output_type": "error",
     "traceback": [
      "\u001b[1;36m  Cell \u001b[1;32mIn [70], line 3\u001b[1;36m\u001b[0m\n\u001b[1;33m    hello()\u001b[0m\n\u001b[1;37m    ^\u001b[0m\n\u001b[1;31mIndentationError\u001b[0m\u001b[1;31m:\u001b[0m expected an indented block after function definition on line 1\n"
     ]
    }
   ],
   "source": [
    "def hello ():\n",
    "    \n",
    "hello()"
   ]
  },
  {
   "cell_type": "code",
   "execution_count": 71,
   "id": "e0cd16dd",
   "metadata": {},
   "outputs": [],
   "source": [
    "numbers = [1,2,3,4,5,6,7,8,9]\n",
    "sum = 0\n",
    "\n",
    "for i in numbers:\n",
    "    if i < 5:\n",
    "        pass"
   ]
  },
  {
   "cell_type": "code",
   "execution_count": 72,
   "id": "e1031f26",
   "metadata": {},
   "outputs": [
    {
     "ename": "SyntaxError",
     "evalue": "incomplete input (3824016242.py, line 5)",
     "output_type": "error",
     "traceback": [
      "\u001b[1;36m  Cell \u001b[1;32mIn [72], line 5\u001b[1;36m\u001b[0m\n\u001b[1;33m    if i < 5:\u001b[0m\n\u001b[1;37m             ^\u001b[0m\n\u001b[1;31mSyntaxError\u001b[0m\u001b[1;31m:\u001b[0m incomplete input\n"
     ]
    }
   ],
   "source": [
    "numbers = [1,2,3,4,5,6,7,8,9]\n",
    "sum = 0\n",
    "\n",
    "for i in numbers:\n",
    "    if i < 5:"
   ]
  },
  {
   "cell_type": "code",
   "execution_count": 74,
   "id": "6fc23691",
   "metadata": {},
   "outputs": [
    {
     "name": "stdout",
     "output_type": "stream",
     "text": [
      "45\n"
     ]
    }
   ],
   "source": [
    "numbers = [1,2,3,4,5,6,7,8,9]\n",
    "sum = 0\n",
    "\n",
    "for i in numbers:\n",
    "    if i == 6:\n",
    "        pass\n",
    "    sum += i\n",
    "print (sum)"
   ]
  },
  {
   "cell_type": "code",
   "execution_count": 83,
   "id": "7858bd89",
   "metadata": {},
   "outputs": [
    {
     "name": "stdout",
     "output_type": "stream",
     "text": [
      "ram eats momo\n",
      "ram eats chowmin\n",
      "ram eats thukpa\n",
      "shyam eats momo\n",
      "shyam eats thukpa\n",
      "sita eats momo\n",
      "sita eats chowmin\n",
      "sita eats thukpa\n"
     ]
    }
   ],
   "source": [
    "names = ['ram', 'shyam', 'sita']\n",
    "foods = ['momo', 'chowmin', 'thukpa']\n",
    "\n",
    "for i in names:\n",
    "    for j in foods:\n",
    "        if i == 'shyam' and j == 'chowmin':\n",
    "                continue\n",
    "        print(f\"{i} eats {j}\")"
   ]
  },
  {
   "cell_type": "code",
   "execution_count": 85,
   "id": "d493ec51",
   "metadata": {},
   "outputs": [
    {
     "name": "stdout",
     "output_type": "stream",
     "text": [
      "ram eats momo\n",
      "ram eats chowmin\n",
      "ram eats thukpa\n",
      "shyam eats momo\n",
      "shyam eats thukpa\n",
      "sita eats momo\n",
      "sita eats chowmin\n",
      "sita eats thukpa\n"
     ]
    }
   ],
   "source": [
    "names = ['ram', 'shyam', 'sita']\n",
    "foods = ['momo', 'chowmin', 'thukpa']\n",
    "\n",
    "for i in names:\n",
    "    for j in foods:\n",
    "        if not(i == 'shyam' and j == 'chowmin'):\n",
    "            print(f\"{i} eats {j}\")"
   ]
  },
  {
   "cell_type": "code",
   "execution_count": 88,
   "id": "42356c36",
   "metadata": {},
   "outputs": [
    {
     "name": "stdout",
     "output_type": "stream",
     "text": [
      "ram eats momo\n",
      "ram eats chowmin\n",
      "ram eats thukpa\n",
      "shyam eats momo\n",
      "shyam eats thukpa\n",
      "sita eats momo\n",
      "sita eats chowmin\n",
      "sita eats thukpa\n"
     ]
    }
   ],
   "source": [
    "names = ['ram', 'shyam', 'sita']\n",
    "foods = ['momo', 'chowmin', 'thukpa']\n",
    "\n",
    "for i in names:\n",
    "    for j in foods:\n",
    "        if i != 'shyam' or j != 'chowmin':\n",
    "            print(f\"{i} eats {j}\")"
   ]
  },
  {
   "cell_type": "code",
   "execution_count": null,
   "id": "e5be1402",
   "metadata": {},
   "outputs": [],
   "source": []
  },
  {
   "cell_type": "code",
   "execution_count": null,
   "id": "dc84ac29",
   "metadata": {},
   "outputs": [],
   "source": []
  },
  {
   "cell_type": "code",
   "execution_count": null,
   "id": "32a6a233",
   "metadata": {},
   "outputs": [],
   "source": []
  }
 ],
 "metadata": {
  "kernelspec": {
   "display_name": "Python 3 (ipykernel)",
   "language": "python",
   "name": "python3"
  },
  "language_info": {
   "codemirror_mode": {
    "name": "ipython",
    "version": 3
   },
   "file_extension": ".py",
   "mimetype": "text/x-python",
   "name": "python",
   "nbconvert_exporter": "python",
   "pygments_lexer": "ipython3",
   "version": "3.10.6"
  }
 },
 "nbformat": 4,
 "nbformat_minor": 5
}
