{
 "cells": [
  {
   "cell_type": "code",
   "execution_count": 6,
   "id": "65e3905e",
   "metadata": {},
   "outputs": [
    {
     "name": "stdout",
     "output_type": "stream",
     "text": [
      "2416395641728\n",
      "(1, 7.5, 'hello', [1, 8, 6, 7], {'world', 'hello'})\n",
      "2416395671792\n",
      "2416395641728\n"
     ]
    }
   ],
   "source": [
    "x = (1, 7.5, 'hello', [1,4,6,7], {'hello', 'world'}) #tuple\n",
    "print(id(x[3]))\n",
    "x[3][1] = 8\n",
    "print (x)\n",
    "print(id(x))\n",
    "print(id(x[3]))"
   ]
  },
  {
   "cell_type": "code",
   "execution_count": 7,
   "id": "128d8890",
   "metadata": {},
   "outputs": [
    {
     "name": "stdout",
     "output_type": "stream",
     "text": [
      "(1, 2, 3, 4, 5, 6)\n",
      "('Repeat', 'Repeat', 'Repeat')\n"
     ]
    }
   ],
   "source": [
    "#Concatenation\n",
    "print((1,2,3) + (4,5,6) )\n",
    "\n",
    "#Repeat\n",
    "print((\"Repeat\",)*3)"
   ]
  },
  {
   "cell_type": "code",
   "execution_count": 8,
   "id": "d056b001",
   "metadata": {},
   "outputs": [
    {
     "name": "stdout",
     "output_type": "stream",
     "text": [
      "(1, 2, 3, 4, 5, 6)\n"
     ]
    }
   ],
   "source": [
    "x = (1,2,3)\n",
    "y = (4,5,6)\n",
    "\n",
    "z = x + y\n",
    "print(z)"
   ]
  },
  {
   "cell_type": "code",
   "execution_count": 9,
   "id": "7db25ec3",
   "metadata": {},
   "outputs": [
    {
     "ename": "TypeError",
     "evalue": "can't multiply sequence by non-int of type 'tuple'",
     "output_type": "error",
     "traceback": [
      "\u001b[1;31m---------------------------------------------------------------------------\u001b[0m",
      "\u001b[1;31mTypeError\u001b[0m                                 Traceback (most recent call last)",
      "Cell \u001b[1;32mIn [9], line 4\u001b[0m\n\u001b[0;32m      1\u001b[0m x \u001b[38;5;241m=\u001b[39m (\u001b[38;5;241m1\u001b[39m,\u001b[38;5;241m2\u001b[39m,\u001b[38;5;241m3\u001b[39m)\n\u001b[0;32m      2\u001b[0m y \u001b[38;5;241m=\u001b[39m (\u001b[38;5;241m4\u001b[39m,\u001b[38;5;241m5\u001b[39m,\u001b[38;5;241m6\u001b[39m)\n\u001b[1;32m----> 4\u001b[0m z \u001b[38;5;241m=\u001b[39m \u001b[43mx\u001b[49m\u001b[38;5;241;43m*\u001b[39;49m\u001b[43my\u001b[49m\n\u001b[0;32m      5\u001b[0m \u001b[38;5;28mprint\u001b[39m(z)\n",
      "\u001b[1;31mTypeError\u001b[0m: can't multiply sequence by non-int of type 'tuple'"
     ]
    }
   ],
   "source": [
    "x = (1,2,3)\n",
    "y = (4,5,6)\n",
    "\n",
    "z = x * y  #Tuples cant be multiplied\n",
    "print(z)"
   ]
  },
  {
   "cell_type": "code",
   "execution_count": 10,
   "id": "e67c3a5c",
   "metadata": {},
   "outputs": [
    {
     "ename": "TypeError",
     "evalue": "'tuple' object doesn't support item deletion",
     "output_type": "error",
     "traceback": [
      "\u001b[1;31m---------------------------------------------------------------------------\u001b[0m",
      "\u001b[1;31mTypeError\u001b[0m                                 Traceback (most recent call last)",
      "Cell \u001b[1;32mIn [10], line 3\u001b[0m\n\u001b[0;32m      1\u001b[0m x \u001b[38;5;241m=\u001b[39m (\u001b[38;5;241m1\u001b[39m,\u001b[38;5;241m2\u001b[39m,\u001b[38;5;241m3\u001b[39m)\n\u001b[1;32m----> 3\u001b[0m \u001b[38;5;28;01mdel\u001b[39;00m x[\u001b[38;5;241m0\u001b[39m]\n",
      "\u001b[1;31mTypeError\u001b[0m: 'tuple' object doesn't support item deletion"
     ]
    }
   ],
   "source": [
    "x = (1,2,3)\n",
    "\n",
    "del x[0] #items inside tuples can't be deleated"
   ]
  },
  {
   "cell_type": "code",
   "execution_count": 11,
   "id": "31bfedda",
   "metadata": {},
   "outputs": [],
   "source": [
    "x = (1,2,3)\n",
    "\n",
    "del x"
   ]
  },
  {
   "cell_type": "code",
   "execution_count": 12,
   "id": "748401d6",
   "metadata": {},
   "outputs": [
    {
     "data": {
      "text/plain": [
       "3"
      ]
     },
     "execution_count": 12,
     "metadata": {},
     "output_type": "execute_result"
    }
   ],
   "source": [
    "x = (1,2,3,1,1)\n",
    "x.count(1)"
   ]
  },
  {
   "cell_type": "code",
   "execution_count": 14,
   "id": "c6a75dbd",
   "metadata": {},
   "outputs": [
    {
     "data": {
      "text/plain": [
       "0"
      ]
     },
     "execution_count": 14,
     "metadata": {},
     "output_type": "execute_result"
    }
   ],
   "source": [
    "x = (1,2,3,1,1)\n",
    "x.index(1)"
   ]
  },
  {
   "cell_type": "code",
   "execution_count": 15,
   "id": "420ec6b3",
   "metadata": {},
   "outputs": [
    {
     "data": {
      "text/plain": [
       "1"
      ]
     },
     "execution_count": 15,
     "metadata": {},
     "output_type": "execute_result"
    }
   ],
   "source": [
    "min(x)"
   ]
  },
  {
   "cell_type": "code",
   "execution_count": 16,
   "id": "e5453f38",
   "metadata": {},
   "outputs": [
    {
     "data": {
      "text/plain": [
       "3"
      ]
     },
     "execution_count": 16,
     "metadata": {},
     "output_type": "execute_result"
    }
   ],
   "source": [
    "max(x)"
   ]
  },
  {
   "cell_type": "code",
   "execution_count": 17,
   "id": "5d027b7a",
   "metadata": {},
   "outputs": [
    {
     "data": {
      "text/plain": [
       "[1, 1, 1, 2, 3]"
      ]
     },
     "execution_count": 17,
     "metadata": {},
     "output_type": "execute_result"
    }
   ],
   "source": [
    "sorted(x)"
   ]
  },
  {
   "cell_type": "code",
   "execution_count": 18,
   "id": "88b0c7df",
   "metadata": {},
   "outputs": [],
   "source": [
    "fruits = ['apple', 'banana', 'orange'] #fruits => String => Same data types so homogeneous\n",
    "person = ('ram', 23, 98456728, 'Ram@gmail.com') # Different data types so heterogenous\n"
   ]
  },
  {
   "cell_type": "code",
   "execution_count": 37,
   "id": "b693727d",
   "metadata": {},
   "outputs": [
    {
     "name": "stdout",
     "output_type": "stream",
     "text": [
      "{'name': 'ram', 'age': 23, 'salary': 30000, 'mobile': 9843528749, 'email': 'ram@gmail.com', 1: 88, ('hello', 7): 99}\n",
      "My name is ram and I am 23 years old\n"
     ]
    }
   ],
   "source": [
    "# dictionary | object | record => mutable\n",
    "person = {\n",
    "    \"name\" : \"ram\",\n",
    "    \"age\" : 23,\n",
    "    \"salary\" : 30000,\n",
    "    \"mobile\" : 9843528749,\n",
    "    \"email\" : \"ram@gmail.com\",\n",
    "    1:88,\n",
    "    (\"hello\", 7) : 99 \n",
    "} \n",
    "\n",
    "# name, age, salary, mobile, email => keys\n",
    "# ram , 23, 30000, 9843528749, ram@gmail.com => values\n",
    "\n",
    "print (person)\n",
    "\n",
    "print(f\"My name is {person['name']} and I am {person['age']} years old\")\n",
    "\n"
   ]
  },
  {
   "cell_type": "code",
   "execution_count": 25,
   "id": "c213b232",
   "metadata": {},
   "outputs": [
    {
     "name": "stdout",
     "output_type": "stream",
     "text": [
      "ram\n"
     ]
    }
   ],
   "source": [
    "print(person['name'])"
   ]
  },
  {
   "cell_type": "code",
   "execution_count": 26,
   "id": "5cbfe0ff",
   "metadata": {},
   "outputs": [
    {
     "name": "stdout",
     "output_type": "stream",
     "text": [
      "23\n"
     ]
    }
   ],
   "source": [
    "print(person['age'])"
   ]
  },
  {
   "cell_type": "code",
   "execution_count": 28,
   "id": "7510e5d4",
   "metadata": {},
   "outputs": [
    {
     "name": "stdout",
     "output_type": "stream",
     "text": [
      "88\n"
     ]
    }
   ],
   "source": [
    "print(person[1])"
   ]
  },
  {
   "cell_type": "code",
   "execution_count": 29,
   "id": "094f3fb7",
   "metadata": {},
   "outputs": [
    {
     "name": "stdout",
     "output_type": "stream",
     "text": [
      "99\n"
     ]
    }
   ],
   "source": [
    "print(person['hello',7])"
   ]
  },
  {
   "cell_type": "code",
   "execution_count": 31,
   "id": "848842d3",
   "metadata": {},
   "outputs": [
    {
     "name": "stdout",
     "output_type": "stream",
     "text": [
      "{}\n",
      "<class 'dict'>\n"
     ]
    }
   ],
   "source": [
    "x = {}\n",
    "print (x)\n",
    "print(type(x))"
   ]
  },
  {
   "cell_type": "code",
   "execution_count": 32,
   "id": "dd05c9aa",
   "metadata": {},
   "outputs": [
    {
     "name": "stdout",
     "output_type": "stream",
     "text": [
      "()\n",
      "<class 'tuple'>\n"
     ]
    }
   ],
   "source": [
    "x = ()\n",
    "print (x)\n",
    "print(type(x))"
   ]
  },
  {
   "cell_type": "code",
   "execution_count": 33,
   "id": "cbacb444",
   "metadata": {},
   "outputs": [
    {
     "name": "stdout",
     "output_type": "stream",
     "text": [
      "{1: 'apple', 2: 'ball'}\n"
     ]
    }
   ],
   "source": [
    "x = dict([(1, 'apple'), (2, 'ball')])\n",
    "print (x)"
   ]
  },
  {
   "cell_type": "code",
   "execution_count": 34,
   "id": "2d92a0a5",
   "metadata": {},
   "outputs": [
    {
     "name": "stdout",
     "output_type": "stream",
     "text": [
      "{1: 'apple', 2: 'ball'}\n"
     ]
    }
   ],
   "source": [
    "x = dict([[1, 'apple'], [2, 'ball']])\n",
    "print (x)"
   ]
  },
  {
   "cell_type": "code",
   "execution_count": 42,
   "id": "c5b938b9",
   "metadata": {},
   "outputs": [
    {
     "name": "stdout",
     "output_type": "stream",
     "text": [
      "None\n",
      "ktm\n",
      "ram\n",
      "{'name': 'ram', 'age': 23, 'salary': 30000, 'mobile': 9843528749, 'email': 'ram@gmail.com', 1: 88, ('hello', 7): 99}\n"
     ]
    }
   ],
   "source": [
    "person = {\n",
    "    \"name\" : \"ram\",\n",
    "    \"age\" : 23,\n",
    "    \"salary\" : 30000,\n",
    "    \"mobile\" : 9843528749,\n",
    "    \"email\" : \"ram@gmail.com\",\n",
    "    1:88,\n",
    "    (\"hello\", 7) : 99 \n",
    "} \n",
    "\n",
    "print (person.get('address'))\n",
    "print (person.get('address', 'ktm'))\n",
    "print (person.get('name'))\n",
    "print (person)"
   ]
  },
  {
   "cell_type": "code",
   "execution_count": 43,
   "id": "50635663",
   "metadata": {},
   "outputs": [
    {
     "name": "stdout",
     "output_type": "stream",
     "text": [
      "{'name': 'ram', 'age': 23, 'salary': 30000, 'mobile': 9843528749, 'email': 'ram@gmail.com', 1: 88, ('hello', 7): 99, 'address': 'lalitpur'}\n"
     ]
    }
   ],
   "source": [
    "person = {\n",
    "    \"name\" : \"ram\",\n",
    "    \"age\" : 23,\n",
    "    \"salary\" : 30000,\n",
    "    \"mobile\" : 9843528749,\n",
    "    \"email\" : \"ram@gmail.com\",\n",
    "    1:88,\n",
    "    (\"hello\", 7) : 99 \n",
    "} \n",
    "person['address'] = 'lalitpur'\n",
    "\n",
    "print(person)"
   ]
  },
  {
   "cell_type": "code",
   "execution_count": 44,
   "id": "41cf8e81",
   "metadata": {},
   "outputs": [
    {
     "name": "stdout",
     "output_type": "stream",
     "text": [
      "name\n",
      "age\n",
      "salary\n",
      "mobile\n",
      "email\n",
      "1\n",
      "('hello', 7)\n"
     ]
    }
   ],
   "source": [
    "person = {\n",
    "    \"name\" : \"ram\",\n",
    "    \"age\" : 23,\n",
    "    \"salary\" : 30000,\n",
    "    \"mobile\" : 9843528749,\n",
    "    \"email\" : \"ram@gmail.com\",\n",
    "    1:88,\n",
    "    (\"hello\", 7) : 99 \n",
    "} \n",
    "for p in person:\n",
    "    print(p)"
   ]
  },
  {
   "cell_type": "code",
   "execution_count": 45,
   "id": "f9c864d6",
   "metadata": {},
   "outputs": [
    {
     "data": {
      "text/plain": [
       "dict_keys(['name', 'age', 'salary', 'mobile', 'email', 1, ('hello', 7)])"
      ]
     },
     "execution_count": 45,
     "metadata": {},
     "output_type": "execute_result"
    }
   ],
   "source": [
    "person.keys()"
   ]
  },
  {
   "cell_type": "code",
   "execution_count": 46,
   "id": "48342e88",
   "metadata": {},
   "outputs": [
    {
     "data": {
      "text/plain": [
       "dict_values(['ram', 23, 30000, 9843528749, 'ram@gmail.com', 88, 99])"
      ]
     },
     "execution_count": 46,
     "metadata": {},
     "output_type": "execute_result"
    }
   ],
   "source": [
    "person.values()"
   ]
  },
  {
   "cell_type": "code",
   "execution_count": 47,
   "id": "0bb71442",
   "metadata": {},
   "outputs": [
    {
     "data": {
      "text/plain": [
       "dict_items([('name', 'ram'), ('age', 23), ('salary', 30000), ('mobile', 9843528749), ('email', 'ram@gmail.com'), (1, 88), (('hello', 7), 99)])"
      ]
     },
     "execution_count": 47,
     "metadata": {},
     "output_type": "execute_result"
    }
   ],
   "source": [
    "person.items()"
   ]
  },
  {
   "cell_type": "code",
   "execution_count": 49,
   "id": "b6c38a04",
   "metadata": {},
   "outputs": [
    {
     "name": "stdout",
     "output_type": "stream",
     "text": [
      "('name', 'ram')\n",
      "('age', 23)\n",
      "('salary', 30000)\n",
      "('mobile', 9843528749)\n",
      "('email', 'ram@gmail.com')\n",
      "(1, 88)\n",
      "(('hello', 7), 99)\n"
     ]
    }
   ],
   "source": [
    "for p in person.items():\n",
    "    print (p)"
   ]
  },
  {
   "cell_type": "code",
   "execution_count": 53,
   "id": "44d9f4e1",
   "metadata": {},
   "outputs": [
    {
     "name": "stdout",
     "output_type": "stream",
     "text": [
      "name ram\n",
      "age 23\n",
      "salary 30000\n",
      "mobile 9843528749\n",
      "email ram@gmail.com\n",
      "1 88\n",
      "('hello', 7) 99\n"
     ]
    }
   ],
   "source": [
    "for k,v in person.items():\n",
    "    print (k, v)"
   ]
  },
  {
   "cell_type": "code",
   "execution_count": 54,
   "id": "db1c2fc9",
   "metadata": {},
   "outputs": [
    {
     "name": "stdout",
     "output_type": "stream",
     "text": [
      "{'name': 'ram', 'age': 24, 'salary': 30000, 'mobile': 9843528749, 'email': 'ram@gmail.com', 1: 88, ('hello', 7): 99}\n"
     ]
    }
   ],
   "source": [
    "person = {\n",
    "    \"name\" : \"ram\",\n",
    "    \"age\" : 23,\n",
    "    \"salary\" : 30000,\n",
    "    \"mobile\" : 9843528749,\n",
    "    \"email\" : \"ram@gmail.com\",\n",
    "    1:88,\n",
    "    (\"hello\", 7) : 99 \n",
    "} \n",
    "person['age'] = 24\n",
    "\n",
    "print(person)"
   ]
  },
  {
   "cell_type": "code",
   "execution_count": 56,
   "id": "5d4d8905",
   "metadata": {},
   "outputs": [
    {
     "name": "stdout",
     "output_type": "stream",
     "text": [
      "23\n",
      "{'name': 'ram', 'salary': 30000, 'mobile': 9843528749, 'email': 'ram@gmail.com', 1: 88, ('hello', 7): 99}\n"
     ]
    }
   ],
   "source": [
    "person = {\n",
    "    \"name\" : \"ram\",\n",
    "    \"age\" : 23,\n",
    "    \"salary\" : 30000,\n",
    "    \"mobile\" : 9843528749,\n",
    "    \"email\" : \"ram@gmail.com\",\n",
    "    1:88,\n",
    "    (\"hello\", 7) : 99 \n",
    "} \n",
    "x = person.pop(\"age\")\n",
    "print(x)\n",
    "print(person)"
   ]
  },
  {
   "cell_type": "code",
   "execution_count": 58,
   "id": "343b35ff",
   "metadata": {},
   "outputs": [
    {
     "name": "stdout",
     "output_type": "stream",
     "text": [
      "{}\n"
     ]
    }
   ],
   "source": [
    "person = {\n",
    "    \"name\" : \"ram\",\n",
    "    \"age\" : 23,\n",
    "    \"salary\" : 30000,\n",
    "    \"mobile\" : 9843528749,\n",
    "    \"email\" : \"ram@gmail.com\",\n",
    "    1:88,\n",
    "    (\"hello\", 7) : 99 \n",
    "} \n",
    "person.clear()\n",
    "\n",
    "print (person)"
   ]
  },
  {
   "cell_type": "code",
   "execution_count": 60,
   "id": "492c4933",
   "metadata": {},
   "outputs": [
    {
     "name": "stdout",
     "output_type": "stream",
     "text": [
      "{'name': 'ram', 'age': 23, 'salary': 30000, 'mobile': 9843528749, 'email': 'ram@gmail.com', 1: 88, ('hello', 7): 99, 'address': 'lalitpur'}\n"
     ]
    }
   ],
   "source": [
    "person = {\n",
    "    \"name\" : \"ram\",\n",
    "    \"age\" : 23,\n",
    "    \"salary\" : 30000,\n",
    "    \"mobile\" : 9843528749,\n",
    "    \"email\" : \"ram@gmail.com\",\n",
    "    1:88,\n",
    "    (\"hello\", 7) : 99 \n",
    "} \n",
    "person.update({\"address\" : \"lalitpur\"})\n",
    "\n",
    "print (person)"
   ]
  },
  {
   "cell_type": "code",
   "execution_count": 63,
   "id": "bad26584",
   "metadata": {},
   "outputs": [
    {
     "name": "stdout",
     "output_type": "stream",
     "text": [
      "{'name': 'ram', 'age': 23, 'salary': 30000, 'mobile': 9843528749, 'email': 'ram@gmail.com', 1: 88, ('hello', 7): 99, 'address': 'Lalitpur', 'college': 'SSada'}\n",
      "{'address': 'Lalitpur', 'college': 'SSada'}\n"
     ]
    }
   ],
   "source": [
    "person1 = {\n",
    "    \"name\" : \"ram\",\n",
    "    \"age\" : 23,\n",
    "    \"salary\" : 30000,\n",
    "    \"mobile\" : 9843528749,\n",
    "    \"email\" : \"ram@gmail.com\",\n",
    "    1:88,\n",
    "    (\"hello\", 7) : 99 \n",
    "} \n",
    "\n",
    "person2 = {\n",
    "    \"address\" : \"Lalitpur\",\n",
    "    \"college\" : \"SSada\"\n",
    "}\n",
    "person1.update(person2)\n",
    "\n",
    "print (person1)\n",
    "print (person2)"
   ]
  },
  {
   "cell_type": "code",
   "execution_count": 64,
   "id": "d64b5324",
   "metadata": {},
   "outputs": [
    {
     "name": "stdout",
     "output_type": "stream",
     "text": [
      "{'name': 'ram', 'age': 23, 'salary': 30000, 'mobile': 9843528749, 'email': 'ram@gmail.com', 1: 88, ('hello', 7): 99}\n",
      "{'address': 'Lalitpur', 'college': 'SSada', 'name': 'ram', 'age': 23, 'salary': 30000, 'mobile': 9843528749, 'email': 'ram@gmail.com', 1: 88, ('hello', 7): 99}\n"
     ]
    }
   ],
   "source": [
    "person1 = {\n",
    "    \"name\" : \"ram\",\n",
    "    \"age\" : 23,\n",
    "    \"salary\" : 30000,\n",
    "    \"mobile\" : 9843528749,\n",
    "    \"email\" : \"ram@gmail.com\",\n",
    "    1:88,\n",
    "    (\"hello\", 7) : 99 \n",
    "} \n",
    "\n",
    "person2 = {\n",
    "    \"address\" : \"Lalitpur\",\n",
    "    \"college\" : \"SSada\"\n",
    "}\n",
    "person2.update(person1)\n",
    "\n",
    "print (person1)\n",
    "print (person2)"
   ]
  },
  {
   "cell_type": "code",
   "execution_count": 66,
   "id": "9ed01a32",
   "metadata": {},
   "outputs": [
    {
     "name": "stdout",
     "output_type": "stream",
     "text": [
      "lalitpur\n",
      "{'name': 'ram', 'age': 23, 'salary': 30000, 'mobile': 9843528749, 'email': 'ram@gmail.com', 1: 88, ('hello', 7): 99, 'address': 'lalitpur'}\n"
     ]
    }
   ],
   "source": [
    "person = {\n",
    "    \"name\" : \"ram\",\n",
    "    \"age\" : 23,\n",
    "    \"salary\" : 30000,\n",
    "    \"mobile\" : 9843528749,\n",
    "    \"email\" : \"ram@gmail.com\",\n",
    "    1:88,\n",
    "    (\"hello\", 7) : 99 ,\n",
    "    \"address\" : \"lalitpur\"\n",
    "} \n",
    "print(person.get(\"address\" , \"ktm\"))\n",
    "\n",
    "print (person)"
   ]
  },
  {
   "cell_type": "code",
   "execution_count": 69,
   "id": "80251129",
   "metadata": {},
   "outputs": [
    {
     "name": "stdout",
     "output_type": "stream",
     "text": [
      "ktm\n",
      "{'name': 'ram', 'age': 23, 'salary': 30000, 'mobile': 9843528749, 'email': 'ram@gmail.com', 1: 88, ('hello', 7): 99, 'address': 'ktm'}\n"
     ]
    }
   ],
   "source": [
    "person = {\n",
    "    \"name\" : \"ram\",\n",
    "    \"age\" : 23,\n",
    "    \"salary\" : 30000,\n",
    "    \"mobile\" : 9843528749,\n",
    "    \"email\" : \"ram@gmail.com\",\n",
    "    1:88,\n",
    "    (\"hello\", 7) : 99 \n",
    "} \n",
    "print(person.setdefault(\"address\" , \"ktm\"))\n",
    "\n",
    "print (person)"
   ]
  },
  {
   "cell_type": "code",
   "execution_count": 70,
   "id": "d4b2b9b5",
   "metadata": {},
   "outputs": [
    {
     "name": "stdout",
     "output_type": "stream",
     "text": [
      "2416394996800\n",
      "2416395650944\n"
     ]
    }
   ],
   "source": [
    "person = {\n",
    "    \"name\" : \"ram\",\n",
    "    \"age\" : 23,\n",
    "    \"salary\" : 30000,\n",
    "    \"mobile\" : 9843528749,\n",
    "    \"email\" : \"ram@gmail.com\",\n",
    "    1:88,\n",
    "    (\"hello\", 7) : 99 \n",
    "} \n",
    "x = person.copy()\n",
    "\n",
    "print (id(x))\n",
    "print (id(person))"
   ]
  },
  {
   "cell_type": "code",
   "execution_count": null,
   "id": "42dceca3",
   "metadata": {},
   "outputs": [],
   "source": []
  }
 ],
 "metadata": {
  "kernelspec": {
   "display_name": "Python 3 (ipykernel)",
   "language": "python",
   "name": "python3"
  },
  "language_info": {
   "codemirror_mode": {
    "name": "ipython",
    "version": 3
   },
   "file_extension": ".py",
   "mimetype": "text/x-python",
   "name": "python",
   "nbconvert_exporter": "python",
   "pygments_lexer": "ipython3",
   "version": "3.10.6"
  }
 },
 "nbformat": 4,
 "nbformat_minor": 5
}
