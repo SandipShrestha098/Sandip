{
 "cells": [
  {
   "cell_type": "code",
   "execution_count": 15,
   "id": "9ee731bd",
   "metadata": {},
   "outputs": [],
   "source": [
    "class Celcius:\n",
    "\n",
    "    def __init__(self,temperature):\n",
    "        self.temperature = temperature\n",
    "    \n",
    "    def cel_to_far(self):\n",
    "        return (self.temperature*1.8)+32"
   ]
  },
  {
   "cell_type": "code",
   "execution_count": 16,
   "id": "74c9c514",
   "metadata": {},
   "outputs": [
    {
     "name": "stdout",
     "output_type": "stream",
     "text": [
      "86.0\n"
     ]
    }
   ],
   "source": [
    "temp = Celcius(30)\n",
    "print(temp.cel_to_far())"
   ]
  },
  {
   "cell_type": "code",
   "execution_count": 55,
   "id": "73b58464",
   "metadata": {},
   "outputs": [],
   "source": [
    "class Celcius:\n",
    "\n",
    "    def __init__(self,temperature):\n",
    "        self.__temperature = temperature\n",
    "    \n",
    "    def cel_to_far(self):\n",
    "        return (self.__temperature*1.8)+32\n",
    "    \n",
    "    #setter\n",
    "    def set_temperature(self, temp):\n",
    "        if temp< -273.15:\n",
    "            raise ValueError('Temperature cannot be below -273.15')\n",
    "        self.__temperature = temp\n",
    "    \n",
    "    #getter\n",
    "    def get_temperature(self):\n",
    "        return self.__temperature"
   ]
  },
  {
   "cell_type": "code",
   "execution_count": 56,
   "id": "48fc2a27",
   "metadata": {},
   "outputs": [
    {
     "name": "stdout",
     "output_type": "stream",
     "text": [
      "68.0\n",
      "68.0\n",
      "20\n",
      "122.0\n"
     ]
    }
   ],
   "source": [
    "c= Celcius(20)\n",
    "print(c.cel_to_far())\n",
    "\n",
    "c.__temperature = 50\n",
    "print(c.cel_to_far())\n",
    "print(c.get_temperature())\n",
    "\n",
    "c.set_temperature(50)\n",
    "print(c.cel_to_far())"
   ]
  },
  {
   "cell_type": "code",
   "execution_count": null,
   "id": "e3b4760f",
   "metadata": {},
   "outputs": [],
   "source": []
  },
  {
   "cell_type": "code",
   "execution_count": 62,
   "id": "f96cb976",
   "metadata": {},
   "outputs": [],
   "source": [
    "class Celcius:\n",
    "\n",
    "    def __init__(self,temperature):\n",
    "        self.temperature = temperature\n",
    "    \n",
    "    def cel_to_far(self):\n",
    "        return (self.temperature*1.8)+32\n",
    "    \n",
    "    @property\n",
    "    def temperature(self):\n",
    "        return self.__temperature\n",
    "    \n",
    "    #setter\n",
    "    @temperature.setter\n",
    "    def temperature(self,temp):\n",
    "        if temp < -273.15:\n",
    "            raise ValueError('Temperature cannot be below -273.15')\n",
    "        self.__temperature = temp\n",
    "    \n"
   ]
  },
  {
   "cell_type": "code",
   "execution_count": null,
   "id": "d7a773bd",
   "metadata": {},
   "outputs": [],
   "source": []
  },
  {
   "cell_type": "code",
   "execution_count": 66,
   "id": "4c0d82fc",
   "metadata": {},
   "outputs": [
    {
     "name": "stdout",
     "output_type": "stream",
     "text": [
      "68.0\n",
      "68.0\n",
      "20\n"
     ]
    },
    {
     "ename": "TypeError",
     "evalue": "'int' object is not callable",
     "output_type": "error",
     "traceback": [
      "\u001b[1;31m---------------------------------------------------------------------------\u001b[0m",
      "\u001b[1;31mTypeError\u001b[0m                                 Traceback (most recent call last)",
      "Cell \u001b[1;32mIn [66], line 8\u001b[0m\n\u001b[0;32m      5\u001b[0m \u001b[38;5;28mprint\u001b[39m(c\u001b[38;5;241m.\u001b[39mcel_to_far())\n\u001b[0;32m      6\u001b[0m \u001b[38;5;28mprint\u001b[39m(c\u001b[38;5;241m.\u001b[39mtemperature)\n\u001b[1;32m----> 8\u001b[0m \u001b[43mc\u001b[49m\u001b[38;5;241;43m.\u001b[39;49m\u001b[43mtemperature\u001b[49m\u001b[43m(\u001b[49m\u001b[38;5;241;43m50\u001b[39;49m\u001b[43m)\u001b[49m\n\u001b[0;32m      9\u001b[0m \u001b[38;5;28mprint\u001b[39m(c\u001b[38;5;241m.\u001b[39mcel_to_far())\n",
      "\u001b[1;31mTypeError\u001b[0m: 'int' object is not callable"
     ]
    }
   ],
   "source": [
    "c= Celcius(20)\n",
    "print(c.cel_to_far())\n",
    "\n",
    "c.__temperature = 50\n",
    "print(c.cel_to_far())\n",
    "print(c.temperature)\n",
    "\n",
    "c.temperature(50)\n",
    "print(c.cel_to_far())"
   ]
  },
  {
   "cell_type": "code",
   "execution_count": 6,
   "id": "813abfdc",
   "metadata": {},
   "outputs": [
    {
     "name": "stdout",
     "output_type": "stream",
     "text": [
      "[1, 4, 9, 16, 25, 36, 49, 64]\n"
     ]
    }
   ],
   "source": [
    "#non pythonic way\n",
    "x = [1,2,3,4,5,6,7,8]\n",
    "squares = []\n",
    "\n",
    "for i in x:\n",
    "    squares.append(i**2)\n",
    "    \n",
    "print (squares)"
   ]
  },
  {
   "cell_type": "code",
   "execution_count": 7,
   "id": "98e612ea",
   "metadata": {},
   "outputs": [
    {
     "data": {
      "text/plain": [
       "[1, 4, 9, 16, 25, 36, 49, 64]"
      ]
     },
     "execution_count": 7,
     "metadata": {},
     "output_type": "execute_result"
    }
   ],
   "source": [
    "list(map(lambda x:x**2, x))"
   ]
  },
  {
   "cell_type": "code",
   "execution_count": 15,
   "id": "9c7d3503",
   "metadata": {},
   "outputs": [
    {
     "name": "stdout",
     "output_type": "stream",
     "text": [
      "[1, 4, 9, 16, 25, 36, 49, 64]\n"
     ]
    }
   ],
   "source": [
    "#list comprehension or pythonic way\n",
    "x = [1,2,3,4,5,6,7,8]\n",
    "squares = [i **2 for i in x]\n",
    "print(squares)"
   ]
  },
  {
   "cell_type": "code",
   "execution_count": 16,
   "id": "702ead8b",
   "metadata": {},
   "outputs": [
    {
     "name": "stdout",
     "output_type": "stream",
     "text": [
      "authorized\n"
     ]
    }
   ],
   "source": [
    "age = 18 \n",
    "if age>= 18:\n",
    "    print ('authorized')\n",
    "else:\n",
    "    print(\"Not authorized\")"
   ]
  },
  {
   "cell_type": "code",
   "execution_count": 14,
   "id": "db588021",
   "metadata": {},
   "outputs": [
    {
     "name": "stdout",
     "output_type": "stream",
     "text": [
      "authorized\n"
     ]
    }
   ],
   "source": [
    "age = 18 \n",
    "\n",
    "#ternary operator\n",
    "authorized = \"authorized\" if age >=18 else \"Not authorized\"\n",
    "print (authorized)"
   ]
  },
  {
   "cell_type": "code",
   "execution_count": 23,
   "id": "313773bf",
   "metadata": {},
   "outputs": [
    {
     "name": "stdout",
     "output_type": "stream",
     "text": [
      "[1, 8, 9, 64, 25, 216, 49, 512]\n"
     ]
    }
   ],
   "source": [
    "x = [1,2,3,4,5,6,7,8]\n",
    "squares = [i **2 if i%2 ==1 else i**3 for i in x]\n",
    "print(squares)"
   ]
  },
  {
   "cell_type": "code",
   "execution_count": 26,
   "id": "5474b439",
   "metadata": {},
   "outputs": [
    {
     "name": "stdout",
     "output_type": "stream",
     "text": [
      "[1, 2, 9, 4, 25, 6, 49, 8]\n"
     ]
    }
   ],
   "source": [
    "x = [1,2,3,4,5,6,7,8]\n",
    "squares = [i **2 if i%2 == 1 else i for i in x]\n",
    "print(squares)"
   ]
  },
  {
   "cell_type": "code",
   "execution_count": 29,
   "id": "b3ee9754",
   "metadata": {},
   "outputs": [
    {
     "name": "stdout",
     "output_type": "stream",
     "text": [
      "[1, 9, 25, 49]\n"
     ]
    }
   ],
   "source": [
    "x = [1,2,3,4,5,6,7,8]\n",
    "y=[]\n",
    "for i in x:\n",
    "    if i%2 == 1:\n",
    "        y.append(i**2)\n",
    "        \n",
    "print(y)\n",
    "        "
   ]
  },
  {
   "cell_type": "code",
   "execution_count": 32,
   "id": "a67bceaa",
   "metadata": {},
   "outputs": [
    {
     "name": "stdout",
     "output_type": "stream",
     "text": [
      "[1, 9, 25, 49]\n"
     ]
    }
   ],
   "source": [
    "x = [1,2,3,4,5,6,7,8]\n",
    "\n",
    "odd_squares = [i **2 for i in x if i%2==1]\n",
    "print(odd_squares)"
   ]
  },
  {
   "cell_type": "code",
   "execution_count": 39,
   "id": "a41fe272",
   "metadata": {},
   "outputs": [
    {
     "name": "stdout",
     "output_type": "stream",
     "text": [
      "[(0, 1), (1, 2), (2, 3), (3, 4), (4, 5), (5, 6), (6, 7), (7, 8)]\n"
     ]
    }
   ],
   "source": [
    "x = [1,2,3,4,5,6,7,8]\n",
    "\n",
    "new_x = [(i,value) for i,value in enumerate(x)]\n",
    "print(new_x)"
   ]
  },
  {
   "cell_type": "code",
   "execution_count": 40,
   "id": "94a5fb03",
   "metadata": {},
   "outputs": [
    {
     "data": {
      "text/plain": [
       "[(0, 1), (1, 2), (2, 3), (3, 4), (4, 5), (5, 6), (6, 7), (7, 8)]"
      ]
     },
     "execution_count": 40,
     "metadata": {},
     "output_type": "execute_result"
    }
   ],
   "source": [
    "list(enumerate(x))"
   ]
  },
  {
   "cell_type": "code",
   "execution_count": 42,
   "id": "582868d6",
   "metadata": {},
   "outputs": [],
   "source": [
    "#Dictionary Comprehension\n"
   ]
  },
  {
   "cell_type": "code",
   "execution_count": 45,
   "id": "f8967547",
   "metadata": {},
   "outputs": [
    {
     "name": "stdout",
     "output_type": "stream",
     "text": [
      "{'milk': 263.9, 'bread': 338.0, 'butter': 338.0, 'meat': 650, 'soap': 195.0}\n"
     ]
    }
   ],
   "source": [
    "us_price = {'milk':2.03, 'bread': 2.6 , 'butter': 2.6, 'meat': 5, 'soap':1.5}\n",
    "np_price ={}\n",
    "\n",
    "for k,v in us_price.items():\n",
    "    np_price.update({k: v*130})\n",
    "\n",
    "print(np_price)\n",
    "    "
   ]
  },
  {
   "cell_type": "code",
   "execution_count": 46,
   "id": "28a45cd4",
   "metadata": {},
   "outputs": [
    {
     "name": "stdout",
     "output_type": "stream",
     "text": [
      "{'milk': 263.9, 'bread': 338.0, 'butter': 338.0, 'meat': 650, 'soap': 195.0}\n"
     ]
    }
   ],
   "source": [
    "us_price = {'milk':2.03, 'bread': 2.6 , 'butter': 2.6, 'meat': 5, 'soap':1.5}\n",
    "np_price ={k : v*130 for k,v in us_price.items()}\n",
    "print(np_price)"
   ]
  },
  {
   "cell_type": "code",
   "execution_count": 49,
   "id": "010f00b9",
   "metadata": {},
   "outputs": [
    {
     "name": "stdout",
     "output_type": "stream",
     "text": [
      "{'milk': 263.9, 'bread': 338.0, 'butter': 338.0, 'soap': 195.0}\n"
     ]
    }
   ],
   "source": [
    "us_price = {'milk':2.03, 'bread': 2.6 , 'butter': 2.6, 'meat': 5, 'soap':1.5}\n",
    "np_price ={k : v*130 for k,v in us_price.items() if v < 5}\n",
    "print(np_price)"
   ]
  },
  {
   "cell_type": "code",
   "execution_count": 50,
   "id": "c9366ce3",
   "metadata": {},
   "outputs": [
    {
     "name": "stdout",
     "output_type": "stream",
     "text": [
      "{'milk': 264.00149999999996, 'bread': 338.13, 'butter': 338.13, 'meat': 650.5, 'soap': 195.075}\n"
     ]
    }
   ],
   "source": [
    "us_price = {'milk':2.03, 'bread': 2.6 , 'butter': 2.6, 'meat': 5, 'soap':1.5}\n",
    "np_price ={}\n",
    "\n",
    "for k,v in us_price.items():\n",
    "    if v<5:\n",
    "        np_price.update({k: v*130 +.05*v})\n",
    "    else:\n",
    "        np_price.update({k: v*130 +.1*v})\n",
    "    \n",
    "print(np_price)"
   ]
  },
  {
   "cell_type": "code",
   "execution_count": 52,
   "id": "b6e7db4f",
   "metadata": {},
   "outputs": [
    {
     "name": "stdout",
     "output_type": "stream",
     "text": [
      "{'milk': 264.00149999999996, 'bread': 338.13, 'butter': 338.13, 'meat': 650.5, 'soap': 195.075}\n"
     ]
    }
   ],
   "source": [
    "us_price = {'milk':2.03, 'bread': 2.6 , 'butter': 2.6, 'meat': 5, 'soap':1.5}\n",
    "np_price ={k : (v*130+.05*v  if v < 5 else v * 130 + .1 *v )for k,v in us_price.items()}\n",
    "print(np_price)"
   ]
  },
  {
   "cell_type": "code",
   "execution_count": null,
   "id": "4240bf10",
   "metadata": {},
   "outputs": [],
   "source": []
  }
 ],
 "metadata": {
  "kernelspec": {
   "display_name": "Python 3 (ipykernel)",
   "language": "python",
   "name": "python3"
  },
  "language_info": {
   "codemirror_mode": {
    "name": "ipython",
    "version": 3
   },
   "file_extension": ".py",
   "mimetype": "text/x-python",
   "name": "python",
   "nbconvert_exporter": "python",
   "pygments_lexer": "ipython3",
   "version": "3.10.6"
  }
 },
 "nbformat": 4,
 "nbformat_minor": 5
}
