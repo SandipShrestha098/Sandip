{
 "cells": [
  {
   "cell_type": "code",
   "execution_count": 1,
   "id": "477e333b",
   "metadata": {},
   "outputs": [
    {
     "name": "stdout",
     "output_type": "stream",
     "text": [
      "Inside vehicle class\n",
      "Inside car class\n",
      "Inside sports car class\n"
     ]
    }
   ],
   "source": [
    "class Vehicle:\n",
    "    def vehicle_info(self):\n",
    "        print('Inside vehicle class')\n",
    "        \n",
    "class Car(Vehicle):\n",
    "    def car_info(self):\n",
    "        print('Inside car class')\n",
    "        \n",
    "class Truck(Vehicle):\n",
    "    def truck_info(self):\n",
    "        print('Inside truck class')\n",
    "        \n",
    "#Sports car can inherit properties of both vehicle and car\n",
    "class SportsCar (Car, Vehicle):\n",
    "    def sports_car_info(self):\n",
    "        print('Inside sports car class')\n",
    "        \n",
    "\n",
    "        #create object\n",
    "s_car = SportsCar()\n",
    "\n",
    "s_car.vehicle_info()\n",
    "s_car.car_info()\n",
    "s_car.sports_car_info()"
   ]
  },
  {
   "cell_type": "code",
   "execution_count": 5,
   "id": "552ed1ae",
   "metadata": {},
   "outputs": [],
   "source": [
    "class Rectangle:\n",
    "    \n",
    "    def __init__(self, l, b):\n",
    "        self.__length = l # __length private variable\n",
    "        self.__breadth = b\n",
    "        \n",
    "    def area(self):  #public method\n",
    "        return self.__length * self.__breadth\n",
    "    \n",
    "    def perimeter (self):\n",
    "        return 2* (self.__length + self.__breadth)\n",
    "    \n",
    "    def length_setter(self, value): #setter\n",
    "        if not isinstance (value,(float,int)): #only take float and int type\n",
    "            raise ValueError('Datatype not supported')\n",
    "        if value < 0:\n",
    "            raise ValueError ('Cannot assign negative value')\n",
    "        self.__length = value"
   ]
  },
  {
   "cell_type": "code",
   "execution_count": 6,
   "id": "cdcea5a4",
   "metadata": {},
   "outputs": [
    {
     "data": {
      "text/plain": [
       "56"
      ]
     },
     "execution_count": 6,
     "metadata": {},
     "output_type": "execute_result"
    }
   ],
   "source": [
    "r = Rectangle(7,8)\n",
    "r.area()"
   ]
  },
  {
   "cell_type": "code",
   "execution_count": 7,
   "id": "6cbbeb64",
   "metadata": {},
   "outputs": [
    {
     "ename": "ValueError",
     "evalue": "Cannot assign negative value",
     "output_type": "error",
     "traceback": [
      "\u001b[1;31m---------------------------------------------------------------------------\u001b[0m",
      "\u001b[1;31mValueError\u001b[0m                                Traceback (most recent call last)",
      "Cell \u001b[1;32mIn [7], line 1\u001b[0m\n\u001b[1;32m----> 1\u001b[0m \u001b[43mr\u001b[49m\u001b[38;5;241;43m.\u001b[39;49m\u001b[43mlength_setter\u001b[49m\u001b[43m(\u001b[49m\u001b[38;5;241;43m-\u001b[39;49m\u001b[38;5;241;43m5\u001b[39;49m\u001b[43m)\u001b[49m\n\u001b[0;32m      2\u001b[0m r\u001b[38;5;241m.\u001b[39marea()\n",
      "Cell \u001b[1;32mIn [5], line 15\u001b[0m, in \u001b[0;36mRectangle.length_setter\u001b[1;34m(self, value)\u001b[0m\n\u001b[0;32m     13\u001b[0m \u001b[38;5;28;01mdef\u001b[39;00m \u001b[38;5;21mlength_setter\u001b[39m(\u001b[38;5;28mself\u001b[39m, value): \u001b[38;5;66;03m#setter\u001b[39;00m\n\u001b[0;32m     14\u001b[0m     \u001b[38;5;28;01mif\u001b[39;00m value \u001b[38;5;241m<\u001b[39m \u001b[38;5;241m0\u001b[39m:\n\u001b[1;32m---> 15\u001b[0m         \u001b[38;5;28;01mraise\u001b[39;00m \u001b[38;5;167;01mValueError\u001b[39;00m (\u001b[38;5;124m'\u001b[39m\u001b[38;5;124mCannot assign negative value\u001b[39m\u001b[38;5;124m'\u001b[39m)\n\u001b[0;32m     16\u001b[0m     \u001b[38;5;28mself\u001b[39m\u001b[38;5;241m.\u001b[39m__length \u001b[38;5;241m=\u001b[39m value\n",
      "\u001b[1;31mValueError\u001b[0m: Cannot assign negative value"
     ]
    }
   ],
   "source": [
    "r.length_setter(-5)\n",
    "r.area()"
   ]
  },
  {
   "cell_type": "code",
   "execution_count": 9,
   "id": "58eb7bba",
   "metadata": {},
   "outputs": [
    {
     "data": {
      "text/plain": [
       "80"
      ]
     },
     "execution_count": 9,
     "metadata": {},
     "output_type": "execute_result"
    }
   ],
   "source": [
    "r.length_setter(10)\n",
    "r.area()"
   ]
  },
  {
   "cell_type": "code",
   "execution_count": 21,
   "id": "c49c2e90",
   "metadata": {},
   "outputs": [
    {
     "ename": "ValueError",
     "evalue": "Datatype not supported",
     "output_type": "error",
     "traceback": [
      "\u001b[1;31m---------------------------------------------------------------------------\u001b[0m",
      "\u001b[1;31mValueError\u001b[0m                                Traceback (most recent call last)",
      "Cell \u001b[1;32mIn [21], line 1\u001b[0m\n\u001b[1;32m----> 1\u001b[0m \u001b[43mr\u001b[49m\u001b[38;5;241;43m.\u001b[39;49m\u001b[43mlength_setter\u001b[49m\u001b[43m(\u001b[49m\u001b[38;5;124;43m'\u001b[39;49m\u001b[38;5;124;43m7.8\u001b[39;49m\u001b[38;5;124;43m'\u001b[39;49m\u001b[43m)\u001b[49m\n\u001b[0;32m      2\u001b[0m r\u001b[38;5;241m.\u001b[39marea()\n",
      "Cell \u001b[1;32mIn [20], line 15\u001b[0m, in \u001b[0;36mRectangle.length_setter\u001b[1;34m(self, value)\u001b[0m\n\u001b[0;32m     13\u001b[0m \u001b[38;5;28;01mdef\u001b[39;00m \u001b[38;5;21mlength_setter\u001b[39m(\u001b[38;5;28mself\u001b[39m, value): \u001b[38;5;66;03m#setter\u001b[39;00m\n\u001b[0;32m     14\u001b[0m     \u001b[38;5;28;01mif\u001b[39;00m \u001b[38;5;129;01mnot\u001b[39;00m \u001b[38;5;28misinstance\u001b[39m (value,(\u001b[38;5;28mfloat\u001b[39m,\u001b[38;5;28mint\u001b[39m)):\n\u001b[1;32m---> 15\u001b[0m         \u001b[38;5;28;01mraise\u001b[39;00m \u001b[38;5;167;01mValueError\u001b[39;00m(\u001b[38;5;124m'\u001b[39m\u001b[38;5;124mDatatype not supported\u001b[39m\u001b[38;5;124m'\u001b[39m)\n\u001b[0;32m     16\u001b[0m     \u001b[38;5;28;01mif\u001b[39;00m value \u001b[38;5;241m<\u001b[39m \u001b[38;5;241m0\u001b[39m:\n\u001b[0;32m     17\u001b[0m         \u001b[38;5;28;01mraise\u001b[39;00m \u001b[38;5;167;01mValueError\u001b[39;00m (\u001b[38;5;124m'\u001b[39m\u001b[38;5;124mCannot assign negative value\u001b[39m\u001b[38;5;124m'\u001b[39m)\n",
      "\u001b[1;31mValueError\u001b[0m: Datatype not supported"
     ]
    }
   ],
   "source": [
    "r.length_setter('7.8')\n",
    "r.area()"
   ]
  },
  {
   "cell_type": "code",
   "execution_count": 23,
   "id": "0aa7afc4",
   "metadata": {},
   "outputs": [],
   "source": [
    "class Rectangle:\n",
    "    \n",
    "    def __init__(self, l, b):\n",
    "        self.__length = l # __length private variable\n",
    "        self.__breadth = b\n",
    "        \n",
    "    def area(self):  #public method\n",
    "        return self.__length * self.__breadth\n",
    "    \n",
    "    def perimeter (self):\n",
    "        return 2* (self.__length + self.__breadth)\n",
    "    \n",
    "    def length_setter(self, value): #setter\n",
    "        if not isinstance (value,(float,int)):\n",
    "            raise ValueError('Datatype not supported')\n",
    "        if value < 0:\n",
    "            raise ValueError ('Cannot assign negative value')\n",
    "        self.__length = value\n",
    "        \n",
    "    def breadth_setter(self,value):\n",
    "        if not isinstance (value,(float,int)):\n",
    "            raise ValueError('Datatype not supported')\n",
    "        if value < 0:\n",
    "            raise ValueError ('Cannot assign negative value')\n",
    "        self.__breadth = value\n",
    "        \n",
    "    def length_getter(self):\n",
    "        return self.__length\n",
    "     \n",
    "    def breadth_getter(self):\n",
    "        return self.__breadth\n",
    "    \n"
   ]
  },
  {
   "cell_type": "code",
   "execution_count": 24,
   "id": "90f18d52",
   "metadata": {},
   "outputs": [
    {
     "name": "stdout",
     "output_type": "stream",
     "text": [
      "7\n",
      "4\n"
     ]
    }
   ],
   "source": [
    "r = Rectangle(7,8)\n",
    "print(r.length_getter())\n",
    "r.length_setter(4)\n",
    "print(r.length_getter())"
   ]
  },
  {
   "cell_type": "code",
   "execution_count": 25,
   "id": "c6b60fb6",
   "metadata": {},
   "outputs": [
    {
     "name": "stdout",
     "output_type": "stream",
     "text": [
      "8\n",
      "15\n"
     ]
    }
   ],
   "source": [
    "print(r.breadth_getter())\n",
    "r.breadth_setter(15)\n",
    "print(r.breadth_getter())"
   ]
  },
  {
   "cell_type": "code",
   "execution_count": 35,
   "id": "d7c328cc",
   "metadata": {},
   "outputs": [],
   "source": [
    "class Rectangle:\n",
    "    \n",
    "    def __init__(self, l, b):\n",
    "        self.__length = l # __length private variable\n",
    "        self.__breadth = b\n",
    "        \n",
    "    def area(self):  #public method\n",
    "        return self.__length * self.__breadth\n",
    "    \n",
    "    def perimeter (self):\n",
    "        return 2* (self.__length + self.__breadth)\n",
    "    \n",
    "    def __validate(self,value): #private method\n",
    "        if not isinstance (value,(float,int)):\n",
    "            raise ValueError('Datatype not supported')\n",
    "        if value < 0:\n",
    "            raise ValueError ('Cannot assign negative value')\n",
    "    \n",
    "    def length_setter(self, value): #setter\n",
    "        self.__validate(value)\n",
    "        self.__length = value\n",
    "        \n",
    "    def breadth_setter(self,value):\n",
    "        self.__validate(value)\n",
    "        self.__breadth = value\n",
    "        \n",
    "    def length_getter(self):\n",
    "        return self.__length\n",
    "     \n",
    "    def breadth_getter(self):\n",
    "        return self.__breadth\n",
    "    "
   ]
  },
  {
   "cell_type": "code",
   "execution_count": 36,
   "id": "27fe5302",
   "metadata": {},
   "outputs": [
    {
     "ename": "ValueError",
     "evalue": "Datatype not supported",
     "output_type": "error",
     "traceback": [
      "\u001b[1;31m---------------------------------------------------------------------------\u001b[0m",
      "\u001b[1;31mValueError\u001b[0m                                Traceback (most recent call last)",
      "Cell \u001b[1;32mIn [36], line 1\u001b[0m\n\u001b[1;32m----> 1\u001b[0m \u001b[43mr\u001b[49m\u001b[38;5;241;43m.\u001b[39;49m\u001b[43mlength_setter\u001b[49m\u001b[43m(\u001b[49m\u001b[38;5;124;43m'\u001b[39;49m\u001b[38;5;124;43m7.8\u001b[39;49m\u001b[38;5;124;43m'\u001b[39;49m\u001b[43m)\u001b[49m\n\u001b[0;32m      2\u001b[0m r\u001b[38;5;241m.\u001b[39marea()\n",
      "Cell \u001b[1;32mIn [23], line 15\u001b[0m, in \u001b[0;36mRectangle.length_setter\u001b[1;34m(self, value)\u001b[0m\n\u001b[0;32m     13\u001b[0m \u001b[38;5;28;01mdef\u001b[39;00m \u001b[38;5;21mlength_setter\u001b[39m(\u001b[38;5;28mself\u001b[39m, value): \u001b[38;5;66;03m#setter\u001b[39;00m\n\u001b[0;32m     14\u001b[0m     \u001b[38;5;28;01mif\u001b[39;00m \u001b[38;5;129;01mnot\u001b[39;00m \u001b[38;5;28misinstance\u001b[39m (value,(\u001b[38;5;28mfloat\u001b[39m,\u001b[38;5;28mint\u001b[39m)):\n\u001b[1;32m---> 15\u001b[0m         \u001b[38;5;28;01mraise\u001b[39;00m \u001b[38;5;167;01mValueError\u001b[39;00m(\u001b[38;5;124m'\u001b[39m\u001b[38;5;124mDatatype not supported\u001b[39m\u001b[38;5;124m'\u001b[39m)\n\u001b[0;32m     16\u001b[0m     \u001b[38;5;28;01mif\u001b[39;00m value \u001b[38;5;241m<\u001b[39m \u001b[38;5;241m0\u001b[39m:\n\u001b[0;32m     17\u001b[0m         \u001b[38;5;28;01mraise\u001b[39;00m \u001b[38;5;167;01mValueError\u001b[39;00m (\u001b[38;5;124m'\u001b[39m\u001b[38;5;124mCannot assign negative value\u001b[39m\u001b[38;5;124m'\u001b[39m)\n",
      "\u001b[1;31mValueError\u001b[0m: Datatype not supported"
     ]
    }
   ],
   "source": [
    "r.length_setter('7.8')\n",
    "r.area()"
   ]
  },
  {
   "cell_type": "code",
   "execution_count": 37,
   "id": "fc7592b2",
   "metadata": {},
   "outputs": [
    {
     "data": {
      "text/plain": [
       "117.0"
      ]
     },
     "execution_count": 37,
     "metadata": {},
     "output_type": "execute_result"
    }
   ],
   "source": [
    "r.length_setter(7.8)\n",
    "r.area()"
   ]
  },
  {
   "cell_type": "code",
   "execution_count": 38,
   "id": "d386d25f",
   "metadata": {},
   "outputs": [],
   "source": [
    "class Point:\n",
    "    def __init__(self,x,y):  # dunder/ double underscore / special method\n",
    "        self.x = x\n",
    "        self.y = y\n",
    "        "
   ]
  },
  {
   "cell_type": "code",
   "execution_count": 39,
   "id": "b5dca6c6",
   "metadata": {},
   "outputs": [],
   "source": [
    "p1 = Point(2,10)\n",
    "p2 = Point(1,8)"
   ]
  },
  {
   "cell_type": "code",
   "execution_count": 40,
   "id": "38128e20",
   "metadata": {},
   "outputs": [
    {
     "ename": "TypeError",
     "evalue": "unsupported operand type(s) for +: 'Point' and 'Point'",
     "output_type": "error",
     "traceback": [
      "\u001b[1;31m---------------------------------------------------------------------------\u001b[0m",
      "\u001b[1;31mTypeError\u001b[0m                                 Traceback (most recent call last)",
      "Cell \u001b[1;32mIn [40], line 1\u001b[0m\n\u001b[1;32m----> 1\u001b[0m \u001b[43mp1\u001b[49m\u001b[43m \u001b[49m\u001b[38;5;241;43m+\u001b[39;49m\u001b[43m \u001b[49m\u001b[43mp2\u001b[49m\n",
      "\u001b[1;31mTypeError\u001b[0m: unsupported operand type(s) for +: 'Point' and 'Point'"
     ]
    }
   ],
   "source": [
    "p1 + p2"
   ]
  },
  {
   "cell_type": "code",
   "execution_count": 42,
   "id": "b1d59252",
   "metadata": {},
   "outputs": [
    {
     "ename": "TypeError",
     "evalue": "'>' not supported between instances of 'Point' and 'Point'",
     "output_type": "error",
     "traceback": [
      "\u001b[1;31m---------------------------------------------------------------------------\u001b[0m",
      "\u001b[1;31mTypeError\u001b[0m                                 Traceback (most recent call last)",
      "Cell \u001b[1;32mIn [42], line 1\u001b[0m\n\u001b[1;32m----> 1\u001b[0m \u001b[43mp1\u001b[49m\u001b[38;5;241;43m>\u001b[39;49m\u001b[43m \u001b[49m\u001b[43mp2\u001b[49m\n",
      "\u001b[1;31mTypeError\u001b[0m: '>' not supported between instances of 'Point' and 'Point'"
     ]
    }
   ],
   "source": [
    "p1> p2"
   ]
  },
  {
   "cell_type": "code",
   "execution_count": 45,
   "id": "dac35556",
   "metadata": {},
   "outputs": [],
   "source": [
    "class Point:\n",
    "    def __init__(self,x,y):  # dunder/ double underscore / special method\n",
    "        self.x = x\n",
    "        self.y = y\n",
    "        \n",
    "    def __add__(self,other):   #self is p1 and other is p2\n",
    "        total_x = self.x + other.x\n",
    "        total_y = self.y + other.y\n",
    "        return f'Point ({total_x},{total_y})'"
   ]
  },
  {
   "cell_type": "code",
   "execution_count": 46,
   "id": "8faafb35",
   "metadata": {},
   "outputs": [
    {
     "data": {
      "text/plain": [
       "'Point (3,18)'"
      ]
     },
     "execution_count": 46,
     "metadata": {},
     "output_type": "execute_result"
    }
   ],
   "source": [
    "p1 = Point(2,10)\n",
    "p2 = Point(1,8)\n",
    "\n",
    "p1 + p2"
   ]
  },
  {
   "cell_type": "code",
   "execution_count": 48,
   "id": "555058b2",
   "metadata": {},
   "outputs": [],
   "source": [
    "class Point:\n",
    "    def __init__(self,x,y):  # dunder/ double underscore / special method\n",
    "        self.x = x\n",
    "        self.y = y\n",
    "        \n",
    "    def __str__(self):\n",
    "        return f'Point ({self.x}, {self.y})'\n",
    "        \n",
    "    def __add__(self,other):   #self is p1 and other is p2\n",
    "        total_x = self.x + other.x\n",
    "        total_y = self.y + other.y\n",
    "        return f'Point ({total_x},{total_y})'\n",
    "    \n",
    "    "
   ]
  },
  {
   "cell_type": "code",
   "execution_count": 49,
   "id": "16660079",
   "metadata": {},
   "outputs": [
    {
     "name": "stdout",
     "output_type": "stream",
     "text": [
      "Point (2, 10) Point (1, 8)\n"
     ]
    }
   ],
   "source": [
    "p1 = Point(2,10)\n",
    "p2 = Point(1,8)\n",
    "\n",
    "print (p1,p2)"
   ]
  },
  {
   "cell_type": "code",
   "execution_count": 51,
   "id": "9c8493fd",
   "metadata": {},
   "outputs": [],
   "source": [
    "class Point:\n",
    "    def __init__(self,x,y):  # dunder/ double underscore / special method\n",
    "        self.x = x\n",
    "        self.y = y\n",
    "        \n",
    "    def __str__(self):\n",
    "        return f'Point ({self.x}, {self.y})'\n",
    "        \n",
    "    def __add__(self,other):   #self is p1 and other is p2\n",
    "        total_x = self.x + other.x\n",
    "        total_y = self.y + other.y\n",
    "        return Point (total_x,total_y)\n",
    "    \n",
    "    "
   ]
  },
  {
   "cell_type": "code",
   "execution_count": 53,
   "id": "fe35febe",
   "metadata": {},
   "outputs": [
    {
     "data": {
      "text/plain": [
       "<__main__.Point at 0x2905ac3e4d0>"
      ]
     },
     "execution_count": 53,
     "metadata": {},
     "output_type": "execute_result"
    }
   ],
   "source": [
    "p1 = Point(2,10)\n",
    "p2 = Point(1,8)\n",
    "\n",
    "p1 + p2"
   ]
  },
  {
   "cell_type": "code",
   "execution_count": 54,
   "id": "d8359412",
   "metadata": {},
   "outputs": [],
   "source": [
    "class Point:\n",
    "    def __init__(self,x,y):  # dunder/ double underscore / special method\n",
    "        self.x = x\n",
    "        self.y = y\n",
    "        \n",
    "    def __str__(self):\n",
    "        return f'Point ({self.x}, {self.y})'\n",
    "    \n",
    "    def __repr__(self):\n",
    "        return f'Point ({self.x},{self.y})'\n",
    "    \n",
    "    def __add__(self,other):   #self is p1 and other is p2\n",
    "        total_x = self.x + other.x\n",
    "        total_y = self.y + other.y\n",
    "        return Point (total_x,total_y)\n",
    "    \n",
    "    "
   ]
  },
  {
   "cell_type": "code",
   "execution_count": 56,
   "id": "5ac3ee65",
   "metadata": {},
   "outputs": [
    {
     "data": {
      "text/plain": [
       "Point (3,18)"
      ]
     },
     "execution_count": 56,
     "metadata": {},
     "output_type": "execute_result"
    }
   ],
   "source": [
    "p1 = Point(2,10)\n",
    "p2 = Point(1,8)\n",
    "\n",
    "p1 + p2"
   ]
  },
  {
   "cell_type": "code",
   "execution_count": 57,
   "id": "f7e47f25",
   "metadata": {},
   "outputs": [
    {
     "data": {
      "text/plain": [
       "'1'"
      ]
     },
     "execution_count": 57,
     "metadata": {},
     "output_type": "execute_result"
    }
   ],
   "source": [
    "x = 1\n",
    "str (x)"
   ]
  },
  {
   "cell_type": "code",
   "execution_count": 58,
   "id": "84a1116b",
   "metadata": {},
   "outputs": [
    {
     "data": {
      "text/plain": [
       "'1'"
      ]
     },
     "execution_count": 58,
     "metadata": {},
     "output_type": "execute_result"
    }
   ],
   "source": [
    "repr(x)"
   ]
  },
  {
   "cell_type": "code",
   "execution_count": 59,
   "id": "a7e4b571",
   "metadata": {},
   "outputs": [
    {
     "data": {
      "text/plain": [
       "Point (6,26)"
      ]
     },
     "execution_count": 59,
     "metadata": {},
     "output_type": "execute_result"
    }
   ],
   "source": [
    "p1 = Point(2,10)\n",
    "p2 = Point(1,8)\n",
    "p3 = Point(3,8)\n",
    "\n",
    "p1 + p2 +  p3"
   ]
  },
  {
   "cell_type": "code",
   "execution_count": 62,
   "id": "b989c9af",
   "metadata": {},
   "outputs": [],
   "source": [
    "import datetime\n",
    "\n",
    "today = datetime.datetime.now()"
   ]
  },
  {
   "cell_type": "code",
   "execution_count": 63,
   "id": "46015fed",
   "metadata": {},
   "outputs": [
    {
     "name": "stdout",
     "output_type": "stream",
     "text": [
      "2022-11-27 08:21:58.294031\n"
     ]
    }
   ],
   "source": [
    "print(today) # user friendly"
   ]
  },
  {
   "cell_type": "code",
   "execution_count": 65,
   "id": "d40e6dcf",
   "metadata": {},
   "outputs": [
    {
     "name": "stdout",
     "output_type": "stream",
     "text": [
      "datetime.datetime(2022, 11, 27, 8, 21, 58, 294031)\n"
     ]
    }
   ],
   "source": [
    "print(repr(today)) #developer friendly"
   ]
  },
  {
   "cell_type": "code",
   "execution_count": 70,
   "id": "8ec0c1ea",
   "metadata": {},
   "outputs": [],
   "source": [
    "from math import sqrt\n",
    "\n",
    "class Point:\n",
    "    def __init__(self,x,y):  # dunder/ double underscore / special method\n",
    "        self.x = x\n",
    "        self.y = y\n",
    "        \n",
    "    def __str__(self):\n",
    "        return f'Point ({self.x}, {self.y})'\n",
    "    \n",
    "    def __repr__(self):\n",
    "        return f'Point ({self.x},{self.y})'\n",
    "    \n",
    "    def __add__(self,other):   #self is p1 and other is p2\n",
    "        total_x = self.x + other.x\n",
    "        total_y = self.y + other.y\n",
    "        return Point (total_x,total_y)\n",
    "    \n",
    "    def __mul__(self,other):   #self is p1 and other is p2\n",
    "        total_x = self.x * other.x\n",
    "        total_y = self.y * other.y\n",
    "        return Point (total_x,total_y)\n",
    "    \n",
    "    \n",
    "    def __eq__(self,other):\n",
    "        return self.x == other.x and self.y == other.y\n",
    "    \n",
    "    def __gt__(self, other):\n",
    "        self_distance = sqrt(self.x **2 + self.y **2)\n",
    "        other_distance = sqrt(other.x **2 + other.y **2)\n",
    "        return self_distance > other_distance\n",
    "    \n",
    "    def __lt__(self, other):\n",
    "        self_distance = sqrt(self.x **2 + self.y **2)\n",
    "        other_distance = sqrt(other.x **2 + other.y **2)\n",
    "        return self_distance < other_distance"
   ]
  },
  {
   "cell_type": "code",
   "execution_count": 71,
   "id": "c51b0679",
   "metadata": {},
   "outputs": [
    {
     "name": "stdout",
     "output_type": "stream",
     "text": [
      "Point (2, 80)\n"
     ]
    }
   ],
   "source": [
    "p1 = Point(2,10)\n",
    "p2 = Point(1,8)\n",
    "\n",
    "print(p1*p2)\n"
   ]
  },
  {
   "cell_type": "code",
   "execution_count": 69,
   "id": "ffce1555",
   "metadata": {},
   "outputs": [
    {
     "name": "stdout",
     "output_type": "stream",
     "text": [
      "False\n",
      "True\n",
      "False\n"
     ]
    }
   ],
   "source": [
    "p1 = Point(2,10)\n",
    "p2 = Point(1,8)\n",
    "\n",
    "print(p1 == p2)\n",
    "print(p1>p2)\n",
    "print(p1<p2)\n"
   ]
  },
  {
   "cell_type": "code",
   "execution_count": null,
   "id": "380722cb",
   "metadata": {},
   "outputs": [],
   "source": []
  },
  {
   "cell_type": "code",
   "execution_count": null,
   "id": "ff7bcb04",
   "metadata": {},
   "outputs": [],
   "source": []
  },
  {
   "cell_type": "code",
   "execution_count": null,
   "id": "10cb22d4",
   "metadata": {},
   "outputs": [],
   "source": []
  }
 ],
 "metadata": {
  "kernelspec": {
   "display_name": "Python 3 (ipykernel)",
   "language": "python",
   "name": "python3"
  },
  "language_info": {
   "codemirror_mode": {
    "name": "ipython",
    "version": 3
   },
   "file_extension": ".py",
   "mimetype": "text/x-python",
   "name": "python",
   "nbconvert_exporter": "python",
   "pygments_lexer": "ipython3",
   "version": "3.10.6"
  }
 },
 "nbformat": 4,
 "nbformat_minor": 5
}
