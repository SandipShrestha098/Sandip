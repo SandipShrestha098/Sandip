{
 "cells": [
  {
   "cell_type": "code",
   "execution_count": 4,
   "id": "ec916486",
   "metadata": {},
   "outputs": [],
   "source": [
    "def generate_odd(num):\n",
    "    \n",
    "    odd_numbers = []\n",
    "    \n",
    "    for i in range (1,num*2):\n",
    "        if i%2 == 1:\n",
    "            odd_numbers.append(i)\n",
    "            \n",
    "    return odd_numbers"
   ]
  },
  {
   "cell_type": "code",
   "execution_count": 5,
   "id": "88daeec0",
   "metadata": {},
   "outputs": [
    {
     "data": {
      "text/plain": [
       "[1, 3, 5, 7, 9, 11, 13, 15, 17, 19]"
      ]
     },
     "execution_count": 5,
     "metadata": {},
     "output_type": "execute_result"
    }
   ],
   "source": [
    "generate_odd(10)"
   ]
  },
  {
   "cell_type": "code",
   "execution_count": 7,
   "id": "9d79f795",
   "metadata": {},
   "outputs": [
    {
     "data": {
      "text/plain": [
       "[1,\n",
       " 3,\n",
       " 5,\n",
       " 7,\n",
       " 9,\n",
       " 11,\n",
       " 13,\n",
       " 15,\n",
       " 17,\n",
       " 19,\n",
       " 21,\n",
       " 23,\n",
       " 25,\n",
       " 27,\n",
       " 29,\n",
       " 31,\n",
       " 33,\n",
       " 35,\n",
       " 37,\n",
       " 39,\n",
       " 41,\n",
       " 43,\n",
       " 45,\n",
       " 47,\n",
       " 49,\n",
       " 51,\n",
       " 53,\n",
       " 55,\n",
       " 57,\n",
       " 59,\n",
       " 61,\n",
       " 63,\n",
       " 65,\n",
       " 67,\n",
       " 69,\n",
       " 71,\n",
       " 73,\n",
       " 75,\n",
       " 77,\n",
       " 79,\n",
       " 81,\n",
       " 83,\n",
       " 85,\n",
       " 87,\n",
       " 89,\n",
       " 91,\n",
       " 93,\n",
       " 95,\n",
       " 97,\n",
       " 99,\n",
       " 101,\n",
       " 103,\n",
       " 105,\n",
       " 107,\n",
       " 109,\n",
       " 111,\n",
       " 113,\n",
       " 115,\n",
       " 117,\n",
       " 119,\n",
       " 121,\n",
       " 123,\n",
       " 125,\n",
       " 127,\n",
       " 129,\n",
       " 131,\n",
       " 133,\n",
       " 135,\n",
       " 137,\n",
       " 139,\n",
       " 141,\n",
       " 143,\n",
       " 145,\n",
       " 147,\n",
       " 149,\n",
       " 151,\n",
       " 153,\n",
       " 155,\n",
       " 157,\n",
       " 159,\n",
       " 161,\n",
       " 163,\n",
       " 165,\n",
       " 167,\n",
       " 169,\n",
       " 171,\n",
       " 173,\n",
       " 175,\n",
       " 177,\n",
       " 179,\n",
       " 181,\n",
       " 183,\n",
       " 185,\n",
       " 187,\n",
       " 189,\n",
       " 191,\n",
       " 193,\n",
       " 195,\n",
       " 197,\n",
       " 199,\n",
       " 201,\n",
       " 203,\n",
       " 205,\n",
       " 207,\n",
       " 209,\n",
       " 211,\n",
       " 213,\n",
       " 215,\n",
       " 217,\n",
       " 219,\n",
       " 221,\n",
       " 223,\n",
       " 225,\n",
       " 227,\n",
       " 229,\n",
       " 231,\n",
       " 233,\n",
       " 235,\n",
       " 237,\n",
       " 239,\n",
       " 241,\n",
       " 243,\n",
       " 245,\n",
       " 247,\n",
       " 249,\n",
       " 251,\n",
       " 253,\n",
       " 255,\n",
       " 257,\n",
       " 259,\n",
       " 261,\n",
       " 263,\n",
       " 265,\n",
       " 267,\n",
       " 269,\n",
       " 271,\n",
       " 273,\n",
       " 275,\n",
       " 277,\n",
       " 279,\n",
       " 281,\n",
       " 283,\n",
       " 285,\n",
       " 287,\n",
       " 289,\n",
       " 291,\n",
       " 293,\n",
       " 295,\n",
       " 297,\n",
       " 299,\n",
       " 301,\n",
       " 303,\n",
       " 305,\n",
       " 307,\n",
       " 309,\n",
       " 311,\n",
       " 313,\n",
       " 315,\n",
       " 317,\n",
       " 319,\n",
       " 321,\n",
       " 323,\n",
       " 325,\n",
       " 327,\n",
       " 329,\n",
       " 331,\n",
       " 333,\n",
       " 335,\n",
       " 337,\n",
       " 339,\n",
       " 341,\n",
       " 343,\n",
       " 345,\n",
       " 347,\n",
       " 349,\n",
       " 351,\n",
       " 353,\n",
       " 355,\n",
       " 357,\n",
       " 359,\n",
       " 361,\n",
       " 363,\n",
       " 365,\n",
       " 367,\n",
       " 369,\n",
       " 371,\n",
       " 373,\n",
       " 375,\n",
       " 377,\n",
       " 379,\n",
       " 381,\n",
       " 383,\n",
       " 385,\n",
       " 387,\n",
       " 389,\n",
       " 391,\n",
       " 393,\n",
       " 395,\n",
       " 397,\n",
       " 399,\n",
       " 401,\n",
       " 403,\n",
       " 405,\n",
       " 407,\n",
       " 409,\n",
       " 411,\n",
       " 413,\n",
       " 415,\n",
       " 417,\n",
       " 419,\n",
       " 421,\n",
       " 423,\n",
       " 425,\n",
       " 427,\n",
       " 429,\n",
       " 431,\n",
       " 433,\n",
       " 435,\n",
       " 437,\n",
       " 439,\n",
       " 441,\n",
       " 443,\n",
       " 445,\n",
       " 447,\n",
       " 449,\n",
       " 451,\n",
       " 453,\n",
       " 455,\n",
       " 457,\n",
       " 459,\n",
       " 461,\n",
       " 463,\n",
       " 465,\n",
       " 467,\n",
       " 469,\n",
       " 471,\n",
       " 473,\n",
       " 475,\n",
       " 477,\n",
       " 479,\n",
       " 481,\n",
       " 483,\n",
       " 485,\n",
       " 487,\n",
       " 489,\n",
       " 491,\n",
       " 493,\n",
       " 495,\n",
       " 497,\n",
       " 499,\n",
       " 501,\n",
       " 503,\n",
       " 505,\n",
       " 507,\n",
       " 509,\n",
       " 511,\n",
       " 513,\n",
       " 515,\n",
       " 517,\n",
       " 519,\n",
       " 521,\n",
       " 523,\n",
       " 525,\n",
       " 527,\n",
       " 529,\n",
       " 531,\n",
       " 533,\n",
       " 535,\n",
       " 537,\n",
       " 539,\n",
       " 541,\n",
       " 543,\n",
       " 545,\n",
       " 547,\n",
       " 549,\n",
       " 551,\n",
       " 553,\n",
       " 555,\n",
       " 557,\n",
       " 559,\n",
       " 561,\n",
       " 563,\n",
       " 565,\n",
       " 567,\n",
       " 569,\n",
       " 571,\n",
       " 573,\n",
       " 575,\n",
       " 577,\n",
       " 579,\n",
       " 581,\n",
       " 583,\n",
       " 585,\n",
       " 587,\n",
       " 589,\n",
       " 591,\n",
       " 593,\n",
       " 595,\n",
       " 597,\n",
       " 599,\n",
       " 601,\n",
       " 603,\n",
       " 605,\n",
       " 607,\n",
       " 609,\n",
       " 611,\n",
       " 613,\n",
       " 615,\n",
       " 617,\n",
       " 619,\n",
       " 621,\n",
       " 623,\n",
       " 625,\n",
       " 627,\n",
       " 629,\n",
       " 631,\n",
       " 633,\n",
       " 635,\n",
       " 637,\n",
       " 639,\n",
       " 641,\n",
       " 643,\n",
       " 645,\n",
       " 647,\n",
       " 649,\n",
       " 651,\n",
       " 653,\n",
       " 655,\n",
       " 657,\n",
       " 659,\n",
       " 661,\n",
       " 663,\n",
       " 665,\n",
       " 667,\n",
       " 669,\n",
       " 671,\n",
       " 673,\n",
       " 675,\n",
       " 677,\n",
       " 679,\n",
       " 681,\n",
       " 683,\n",
       " 685,\n",
       " 687,\n",
       " 689,\n",
       " 691,\n",
       " 693,\n",
       " 695,\n",
       " 697,\n",
       " 699,\n",
       " 701,\n",
       " 703,\n",
       " 705,\n",
       " 707,\n",
       " 709,\n",
       " 711,\n",
       " 713,\n",
       " 715,\n",
       " 717,\n",
       " 719,\n",
       " 721,\n",
       " 723,\n",
       " 725,\n",
       " 727,\n",
       " 729,\n",
       " 731,\n",
       " 733,\n",
       " 735,\n",
       " 737,\n",
       " 739,\n",
       " 741,\n",
       " 743,\n",
       " 745,\n",
       " 747,\n",
       " 749,\n",
       " 751,\n",
       " 753,\n",
       " 755,\n",
       " 757,\n",
       " 759,\n",
       " 761,\n",
       " 763,\n",
       " 765,\n",
       " 767,\n",
       " 769,\n",
       " 771,\n",
       " 773,\n",
       " 775,\n",
       " 777,\n",
       " 779,\n",
       " 781,\n",
       " 783,\n",
       " 785,\n",
       " 787,\n",
       " 789,\n",
       " 791,\n",
       " 793,\n",
       " 795,\n",
       " 797,\n",
       " 799,\n",
       " 801,\n",
       " 803,\n",
       " 805,\n",
       " 807,\n",
       " 809,\n",
       " 811,\n",
       " 813,\n",
       " 815,\n",
       " 817,\n",
       " 819,\n",
       " 821,\n",
       " 823,\n",
       " 825,\n",
       " 827,\n",
       " 829,\n",
       " 831,\n",
       " 833,\n",
       " 835,\n",
       " 837,\n",
       " 839,\n",
       " 841,\n",
       " 843,\n",
       " 845,\n",
       " 847,\n",
       " 849,\n",
       " 851,\n",
       " 853,\n",
       " 855,\n",
       " 857,\n",
       " 859,\n",
       " 861,\n",
       " 863,\n",
       " 865,\n",
       " 867,\n",
       " 869,\n",
       " 871,\n",
       " 873,\n",
       " 875,\n",
       " 877,\n",
       " 879,\n",
       " 881,\n",
       " 883,\n",
       " 885,\n",
       " 887,\n",
       " 889,\n",
       " 891,\n",
       " 893,\n",
       " 895,\n",
       " 897,\n",
       " 899,\n",
       " 901,\n",
       " 903,\n",
       " 905,\n",
       " 907,\n",
       " 909,\n",
       " 911,\n",
       " 913,\n",
       " 915,\n",
       " 917,\n",
       " 919,\n",
       " 921,\n",
       " 923,\n",
       " 925,\n",
       " 927,\n",
       " 929,\n",
       " 931,\n",
       " 933,\n",
       " 935,\n",
       " 937,\n",
       " 939,\n",
       " 941,\n",
       " 943,\n",
       " 945,\n",
       " 947,\n",
       " 949,\n",
       " 951,\n",
       " 953,\n",
       " 955,\n",
       " 957,\n",
       " 959,\n",
       " 961,\n",
       " 963,\n",
       " 965,\n",
       " 967,\n",
       " 969,\n",
       " 971,\n",
       " 973,\n",
       " 975,\n",
       " 977,\n",
       " 979,\n",
       " 981,\n",
       " 983,\n",
       " 985,\n",
       " 987,\n",
       " 989,\n",
       " 991,\n",
       " 993,\n",
       " 995,\n",
       " 997,\n",
       " 999,\n",
       " 1001,\n",
       " 1003,\n",
       " 1005,\n",
       " 1007,\n",
       " 1009,\n",
       " 1011,\n",
       " 1013,\n",
       " 1015,\n",
       " 1017,\n",
       " 1019,\n",
       " 1021,\n",
       " 1023,\n",
       " 1025,\n",
       " 1027,\n",
       " 1029,\n",
       " 1031,\n",
       " 1033,\n",
       " 1035,\n",
       " 1037,\n",
       " 1039,\n",
       " 1041,\n",
       " 1043,\n",
       " 1045,\n",
       " 1047,\n",
       " 1049,\n",
       " 1051,\n",
       " 1053,\n",
       " 1055,\n",
       " 1057,\n",
       " 1059,\n",
       " 1061,\n",
       " 1063,\n",
       " 1065,\n",
       " 1067,\n",
       " 1069,\n",
       " 1071,\n",
       " 1073,\n",
       " 1075,\n",
       " 1077,\n",
       " 1079,\n",
       " 1081,\n",
       " 1083,\n",
       " 1085,\n",
       " 1087,\n",
       " 1089,\n",
       " 1091,\n",
       " 1093,\n",
       " 1095,\n",
       " 1097,\n",
       " 1099,\n",
       " 1101,\n",
       " 1103,\n",
       " 1105,\n",
       " 1107,\n",
       " 1109,\n",
       " 1111,\n",
       " 1113,\n",
       " 1115,\n",
       " 1117,\n",
       " 1119,\n",
       " 1121,\n",
       " 1123,\n",
       " 1125,\n",
       " 1127,\n",
       " 1129,\n",
       " 1131,\n",
       " 1133,\n",
       " 1135,\n",
       " 1137,\n",
       " 1139,\n",
       " 1141,\n",
       " 1143,\n",
       " 1145,\n",
       " 1147,\n",
       " 1149,\n",
       " 1151,\n",
       " 1153,\n",
       " 1155,\n",
       " 1157,\n",
       " 1159,\n",
       " 1161,\n",
       " 1163,\n",
       " 1165,\n",
       " 1167,\n",
       " 1169,\n",
       " 1171,\n",
       " 1173,\n",
       " 1175,\n",
       " 1177,\n",
       " 1179,\n",
       " 1181,\n",
       " 1183,\n",
       " 1185,\n",
       " 1187,\n",
       " 1189,\n",
       " 1191,\n",
       " 1193,\n",
       " 1195,\n",
       " 1197,\n",
       " 1199,\n",
       " 1201,\n",
       " 1203,\n",
       " 1205,\n",
       " 1207,\n",
       " 1209,\n",
       " 1211,\n",
       " 1213,\n",
       " 1215,\n",
       " 1217,\n",
       " 1219,\n",
       " 1221,\n",
       " 1223,\n",
       " 1225,\n",
       " 1227,\n",
       " 1229,\n",
       " 1231,\n",
       " 1233,\n",
       " 1235,\n",
       " 1237,\n",
       " 1239,\n",
       " 1241,\n",
       " 1243,\n",
       " 1245,\n",
       " 1247,\n",
       " 1249,\n",
       " 1251,\n",
       " 1253,\n",
       " 1255,\n",
       " 1257,\n",
       " 1259,\n",
       " 1261,\n",
       " 1263,\n",
       " 1265,\n",
       " 1267,\n",
       " 1269,\n",
       " 1271,\n",
       " 1273,\n",
       " 1275,\n",
       " 1277,\n",
       " 1279,\n",
       " 1281,\n",
       " 1283,\n",
       " 1285,\n",
       " 1287,\n",
       " 1289,\n",
       " 1291,\n",
       " 1293,\n",
       " 1295,\n",
       " 1297,\n",
       " 1299,\n",
       " 1301,\n",
       " 1303,\n",
       " 1305,\n",
       " 1307,\n",
       " 1309,\n",
       " 1311,\n",
       " 1313,\n",
       " 1315,\n",
       " 1317,\n",
       " 1319,\n",
       " 1321,\n",
       " 1323,\n",
       " 1325,\n",
       " 1327,\n",
       " 1329,\n",
       " 1331,\n",
       " 1333,\n",
       " 1335,\n",
       " 1337,\n",
       " 1339,\n",
       " 1341,\n",
       " 1343,\n",
       " 1345,\n",
       " 1347,\n",
       " 1349,\n",
       " 1351,\n",
       " 1353,\n",
       " 1355,\n",
       " 1357,\n",
       " 1359,\n",
       " 1361,\n",
       " 1363,\n",
       " 1365,\n",
       " 1367,\n",
       " 1369,\n",
       " 1371,\n",
       " 1373,\n",
       " 1375,\n",
       " 1377,\n",
       " 1379,\n",
       " 1381,\n",
       " 1383,\n",
       " 1385,\n",
       " 1387,\n",
       " 1389,\n",
       " 1391,\n",
       " 1393,\n",
       " 1395,\n",
       " 1397,\n",
       " 1399,\n",
       " 1401,\n",
       " 1403,\n",
       " 1405,\n",
       " 1407,\n",
       " 1409,\n",
       " 1411,\n",
       " 1413,\n",
       " 1415,\n",
       " 1417,\n",
       " 1419,\n",
       " 1421,\n",
       " 1423,\n",
       " 1425,\n",
       " 1427,\n",
       " 1429,\n",
       " 1431,\n",
       " 1433,\n",
       " 1435,\n",
       " 1437,\n",
       " 1439,\n",
       " 1441,\n",
       " 1443,\n",
       " 1445,\n",
       " 1447,\n",
       " 1449,\n",
       " 1451,\n",
       " 1453,\n",
       " 1455,\n",
       " 1457,\n",
       " 1459,\n",
       " 1461,\n",
       " 1463,\n",
       " 1465,\n",
       " 1467,\n",
       " 1469,\n",
       " 1471,\n",
       " 1473,\n",
       " 1475,\n",
       " 1477,\n",
       " 1479,\n",
       " 1481,\n",
       " 1483,\n",
       " 1485,\n",
       " 1487,\n",
       " 1489,\n",
       " 1491,\n",
       " 1493,\n",
       " 1495,\n",
       " 1497,\n",
       " 1499,\n",
       " 1501,\n",
       " 1503,\n",
       " 1505,\n",
       " 1507,\n",
       " 1509,\n",
       " 1511,\n",
       " 1513,\n",
       " 1515,\n",
       " 1517,\n",
       " 1519,\n",
       " 1521,\n",
       " 1523,\n",
       " 1525,\n",
       " 1527,\n",
       " 1529,\n",
       " 1531,\n",
       " 1533,\n",
       " 1535,\n",
       " 1537,\n",
       " 1539,\n",
       " 1541,\n",
       " 1543,\n",
       " 1545,\n",
       " 1547,\n",
       " 1549,\n",
       " 1551,\n",
       " 1553,\n",
       " 1555,\n",
       " 1557,\n",
       " 1559,\n",
       " 1561,\n",
       " 1563,\n",
       " 1565,\n",
       " 1567,\n",
       " 1569,\n",
       " 1571,\n",
       " 1573,\n",
       " 1575,\n",
       " 1577,\n",
       " 1579,\n",
       " 1581,\n",
       " 1583,\n",
       " 1585,\n",
       " 1587,\n",
       " 1589,\n",
       " 1591,\n",
       " 1593,\n",
       " 1595,\n",
       " 1597,\n",
       " 1599,\n",
       " 1601,\n",
       " 1603,\n",
       " 1605,\n",
       " 1607,\n",
       " 1609,\n",
       " 1611,\n",
       " 1613,\n",
       " 1615,\n",
       " 1617,\n",
       " 1619,\n",
       " 1621,\n",
       " 1623,\n",
       " 1625,\n",
       " 1627,\n",
       " 1629,\n",
       " 1631,\n",
       " 1633,\n",
       " 1635,\n",
       " 1637,\n",
       " 1639,\n",
       " 1641,\n",
       " 1643,\n",
       " 1645,\n",
       " 1647,\n",
       " 1649,\n",
       " 1651,\n",
       " 1653,\n",
       " 1655,\n",
       " 1657,\n",
       " 1659,\n",
       " 1661,\n",
       " 1663,\n",
       " 1665,\n",
       " 1667,\n",
       " 1669,\n",
       " 1671,\n",
       " 1673,\n",
       " 1675,\n",
       " 1677,\n",
       " 1679,\n",
       " 1681,\n",
       " 1683,\n",
       " 1685,\n",
       " 1687,\n",
       " 1689,\n",
       " 1691,\n",
       " 1693,\n",
       " 1695,\n",
       " 1697,\n",
       " 1699,\n",
       " 1701,\n",
       " 1703,\n",
       " 1705,\n",
       " 1707,\n",
       " 1709,\n",
       " 1711,\n",
       " 1713,\n",
       " 1715,\n",
       " 1717,\n",
       " 1719,\n",
       " 1721,\n",
       " 1723,\n",
       " 1725,\n",
       " 1727,\n",
       " 1729,\n",
       " 1731,\n",
       " 1733,\n",
       " 1735,\n",
       " 1737,\n",
       " 1739,\n",
       " 1741,\n",
       " 1743,\n",
       " 1745,\n",
       " 1747,\n",
       " 1749,\n",
       " 1751,\n",
       " 1753,\n",
       " 1755,\n",
       " 1757,\n",
       " 1759,\n",
       " 1761,\n",
       " 1763,\n",
       " 1765,\n",
       " 1767,\n",
       " 1769,\n",
       " 1771,\n",
       " 1773,\n",
       " 1775,\n",
       " 1777,\n",
       " 1779,\n",
       " 1781,\n",
       " 1783,\n",
       " 1785,\n",
       " 1787,\n",
       " 1789,\n",
       " 1791,\n",
       " 1793,\n",
       " 1795,\n",
       " 1797,\n",
       " 1799,\n",
       " 1801,\n",
       " 1803,\n",
       " 1805,\n",
       " 1807,\n",
       " 1809,\n",
       " 1811,\n",
       " 1813,\n",
       " 1815,\n",
       " 1817,\n",
       " 1819,\n",
       " 1821,\n",
       " 1823,\n",
       " 1825,\n",
       " 1827,\n",
       " 1829,\n",
       " 1831,\n",
       " 1833,\n",
       " 1835,\n",
       " 1837,\n",
       " 1839,\n",
       " 1841,\n",
       " 1843,\n",
       " 1845,\n",
       " 1847,\n",
       " 1849,\n",
       " 1851,\n",
       " 1853,\n",
       " 1855,\n",
       " 1857,\n",
       " 1859,\n",
       " 1861,\n",
       " 1863,\n",
       " 1865,\n",
       " 1867,\n",
       " 1869,\n",
       " 1871,\n",
       " 1873,\n",
       " 1875,\n",
       " 1877,\n",
       " 1879,\n",
       " 1881,\n",
       " 1883,\n",
       " 1885,\n",
       " 1887,\n",
       " 1889,\n",
       " 1891,\n",
       " 1893,\n",
       " 1895,\n",
       " 1897,\n",
       " 1899,\n",
       " 1901,\n",
       " 1903,\n",
       " 1905,\n",
       " 1907,\n",
       " 1909,\n",
       " 1911,\n",
       " 1913,\n",
       " 1915,\n",
       " 1917,\n",
       " 1919,\n",
       " 1921,\n",
       " 1923,\n",
       " 1925,\n",
       " 1927,\n",
       " 1929,\n",
       " 1931,\n",
       " 1933,\n",
       " 1935,\n",
       " 1937,\n",
       " 1939,\n",
       " 1941,\n",
       " 1943,\n",
       " 1945,\n",
       " 1947,\n",
       " 1949,\n",
       " 1951,\n",
       " 1953,\n",
       " 1955,\n",
       " 1957,\n",
       " 1959,\n",
       " 1961,\n",
       " 1963,\n",
       " 1965,\n",
       " 1967,\n",
       " 1969,\n",
       " 1971,\n",
       " 1973,\n",
       " 1975,\n",
       " 1977,\n",
       " 1979,\n",
       " 1981,\n",
       " 1983,\n",
       " 1985,\n",
       " 1987,\n",
       " 1989,\n",
       " 1991,\n",
       " 1993,\n",
       " 1995,\n",
       " 1997,\n",
       " 1999,\n",
       " ...]"
      ]
     },
     "execution_count": 7,
     "metadata": {},
     "output_type": "execute_result"
    }
   ],
   "source": [
    "generate_odd(100000)"
   ]
  },
  {
   "cell_type": "code",
   "execution_count": 8,
   "id": "c69d955c",
   "metadata": {},
   "outputs": [],
   "source": [
    "# ************ Generator ********"
   ]
  },
  {
   "cell_type": "code",
   "execution_count": 9,
   "id": "66b73479",
   "metadata": {},
   "outputs": [],
   "source": [
    "def hello():\n",
    "    x = 5\n",
    "    return x  #program terminates after return\n",
    "\n",
    "    y = 10\n",
    "    return y\n",
    "    \n",
    "    z = 'Ram'\n",
    "    return z"
   ]
  },
  {
   "cell_type": "code",
   "execution_count": 11,
   "id": "45c775ea",
   "metadata": {},
   "outputs": [
    {
     "data": {
      "text/plain": [
       "5"
      ]
     },
     "execution_count": 11,
     "metadata": {},
     "output_type": "execute_result"
    }
   ],
   "source": [
    "hello()"
   ]
  },
  {
   "cell_type": "code",
   "execution_count": 12,
   "id": "a2ae0a91",
   "metadata": {},
   "outputs": [],
   "source": [
    "def hello():\n",
    "    x = 5\n",
    "    yield x  #yield generates all the return value as an object\n",
    "\n",
    "    y = 10\n",
    "    yield y\n",
    "    \n",
    "    z = 'Ram'\n",
    "    yield z"
   ]
  },
  {
   "cell_type": "code",
   "execution_count": 13,
   "id": "f1886bd2",
   "metadata": {},
   "outputs": [
    {
     "data": {
      "text/plain": [
       "<generator object hello at 0x0000024C0A1E7F40>"
      ]
     },
     "execution_count": 13,
     "metadata": {},
     "output_type": "execute_result"
    }
   ],
   "source": [
    "hello()"
   ]
  },
  {
   "cell_type": "code",
   "execution_count": 30,
   "id": "3aeffb1a",
   "metadata": {},
   "outputs": [],
   "source": [
    "x = hello()\n"
   ]
  },
  {
   "cell_type": "code",
   "execution_count": 31,
   "id": "92829054",
   "metadata": {},
   "outputs": [
    {
     "name": "stdout",
     "output_type": "stream",
     "text": [
      "<generator object hello at 0x0000024C0BDAF370>\n"
     ]
    }
   ],
   "source": [
    "print(x)"
   ]
  },
  {
   "cell_type": "code",
   "execution_count": 32,
   "id": "04f2493c",
   "metadata": {},
   "outputs": [
    {
     "data": {
      "text/plain": [
       "5"
      ]
     },
     "execution_count": 32,
     "metadata": {},
     "output_type": "execute_result"
    }
   ],
   "source": [
    "next(x)"
   ]
  },
  {
   "cell_type": "code",
   "execution_count": 33,
   "id": "93235d6d",
   "metadata": {},
   "outputs": [
    {
     "data": {
      "text/plain": [
       "10"
      ]
     },
     "execution_count": 33,
     "metadata": {},
     "output_type": "execute_result"
    }
   ],
   "source": [
    "next(x)"
   ]
  },
  {
   "cell_type": "code",
   "execution_count": 34,
   "id": "334340be",
   "metadata": {},
   "outputs": [
    {
     "data": {
      "text/plain": [
       "'Ram'"
      ]
     },
     "execution_count": 34,
     "metadata": {},
     "output_type": "execute_result"
    }
   ],
   "source": [
    "next(x)"
   ]
  },
  {
   "cell_type": "code",
   "execution_count": 36,
   "id": "ba46fdc7",
   "metadata": {},
   "outputs": [
    {
     "ename": "StopIteration",
     "evalue": "",
     "output_type": "error",
     "traceback": [
      "\u001b[1;31m---------------------------------------------------------------------------\u001b[0m",
      "\u001b[1;31mStopIteration\u001b[0m                             Traceback (most recent call last)",
      "Cell \u001b[1;32mIn [36], line 1\u001b[0m\n\u001b[1;32m----> 1\u001b[0m \u001b[38;5;28;43mnext\u001b[39;49m\u001b[43m(\u001b[49m\u001b[43mx\u001b[49m\u001b[43m)\u001b[49m\n",
      "\u001b[1;31mStopIteration\u001b[0m: "
     ]
    }
   ],
   "source": [
    "next(x) #generator is exhausted here"
   ]
  },
  {
   "cell_type": "code",
   "execution_count": 37,
   "id": "c548b516",
   "metadata": {},
   "outputs": [],
   "source": [
    "def hello():\n",
    "    x = 5\n",
    "    yield x  #yield generates all the return value as an object\n",
    "\n",
    "    y = 10\n",
    "    yield y\n",
    "    \n",
    "    z = 'Ram'\n",
    "    yield z\n",
    "    \n",
    "x = hello()"
   ]
  },
  {
   "cell_type": "code",
   "execution_count": 38,
   "id": "b8065b37",
   "metadata": {},
   "outputs": [
    {
     "name": "stdout",
     "output_type": "stream",
     "text": [
      "5\n",
      "10\n",
      "Ram\n"
     ]
    }
   ],
   "source": [
    "for i in x:\n",
    "    print(i)"
   ]
  },
  {
   "cell_type": "code",
   "execution_count": 39,
   "id": "c4db8920",
   "metadata": {},
   "outputs": [
    {
     "data": {
      "text/plain": [
       "range(0, 10)"
      ]
     },
     "execution_count": 39,
     "metadata": {},
     "output_type": "execute_result"
    }
   ],
   "source": [
    "range(0,10)"
   ]
  },
  {
   "cell_type": "code",
   "execution_count": 40,
   "id": "86d132e7",
   "metadata": {},
   "outputs": [
    {
     "name": "stdout",
     "output_type": "stream",
     "text": [
      "0\n",
      "1\n",
      "2\n",
      "3\n",
      "4\n",
      "5\n",
      "6\n",
      "7\n",
      "8\n",
      "9\n"
     ]
    }
   ],
   "source": [
    "for i in range(0,10):\n",
    "    print(i)"
   ]
  },
  {
   "cell_type": "code",
   "execution_count": 42,
   "id": "afb54a90",
   "metadata": {},
   "outputs": [
    {
     "name": "stdout",
     "output_type": "stream",
     "text": [
      "['__abs__', '__add__', '__and__', '__bool__', '__ceil__', '__class__', '__delattr__', '__dir__', '__divmod__', '__doc__', '__eq__', '__float__', '__floor__', '__floordiv__', '__format__', '__ge__', '__getattribute__', '__getnewargs__', '__gt__', '__hash__', '__index__', '__init__', '__init_subclass__', '__int__', '__invert__', '__le__', '__lshift__', '__lt__', '__mod__', '__mul__', '__ne__', '__neg__', '__new__', '__or__', '__pos__', '__pow__', '__radd__', '__rand__', '__rdivmod__', '__reduce__', '__reduce_ex__', '__repr__', '__rfloordiv__', '__rlshift__', '__rmod__', '__rmul__', '__ror__', '__round__', '__rpow__', '__rrshift__', '__rshift__', '__rsub__', '__rtruediv__', '__rxor__', '__setattr__', '__sizeof__', '__str__', '__sub__', '__subclasshook__', '__truediv__', '__trunc__', '__xor__', 'as_integer_ratio', 'bit_count', 'bit_length', 'conjugate', 'denominator', 'from_bytes', 'imag', 'numerator', 'real', 'to_bytes']\n"
     ]
    }
   ],
   "source": [
    "def hello():\n",
    "    x = 5\n",
    "    return x  #program terminates after return\n",
    "\n",
    "    y = 10\n",
    "    return y\n",
    "    \n",
    "    z = 'Ram'\n",
    "    return z\n",
    "x = hello()\n",
    "print(dir(x))"
   ]
  },
  {
   "cell_type": "code",
   "execution_count": 43,
   "id": "209de750",
   "metadata": {},
   "outputs": [
    {
     "name": "stdout",
     "output_type": "stream",
     "text": [
      "['__class__', '__del__', '__delattr__', '__dir__', '__doc__', '__eq__', '__format__', '__ge__', '__getattribute__', '__gt__', '__hash__', '__init__', '__init_subclass__', '__iter__', '__le__', '__lt__', '__name__', '__ne__', '__new__', '__next__', '__qualname__', '__reduce__', '__reduce_ex__', '__repr__', '__setattr__', '__sizeof__', '__str__', '__subclasshook__', 'close', 'gi_code', 'gi_frame', 'gi_running', 'gi_yieldfrom', 'send', 'throw']\n"
     ]
    }
   ],
   "source": [
    "def hello():\n",
    "    x = 5\n",
    "    yield x  \n",
    "\n",
    "    y = 10\n",
    "    yield y\n",
    "    \n",
    "    z = 'Ram'\n",
    "    yield z\n",
    "    \n",
    "x = hello()\n",
    "print(dir(x)) # __iter__, __next__"
   ]
  },
  {
   "cell_type": "code",
   "execution_count": 44,
   "id": "b93de656",
   "metadata": {},
   "outputs": [],
   "source": [
    "def hello():\n",
    "    x = 5\n",
    "    yield x \n",
    "\n",
    "    y = 10\n",
    "    yield y\n",
    "    \n",
    "    z = 'Ram'\n",
    "    yield z\n",
    "    \n",
    "x = hello()"
   ]
  },
  {
   "cell_type": "code",
   "execution_count": 45,
   "id": "f4111a4d",
   "metadata": {},
   "outputs": [
    {
     "data": {
      "text/plain": [
       "5"
      ]
     },
     "execution_count": 45,
     "metadata": {},
     "output_type": "execute_result"
    }
   ],
   "source": [
    "next(x)"
   ]
  },
  {
   "cell_type": "code",
   "execution_count": 46,
   "id": "fed59bc3",
   "metadata": {},
   "outputs": [
    {
     "name": "stdout",
     "output_type": "stream",
     "text": [
      "hello world\n"
     ]
    }
   ],
   "source": [
    "print('hello world')"
   ]
  },
  {
   "cell_type": "code",
   "execution_count": 47,
   "id": "11bd1594",
   "metadata": {},
   "outputs": [
    {
     "name": "stdout",
     "output_type": "stream",
     "text": [
      "4\n"
     ]
    }
   ],
   "source": [
    "a=1\n",
    "b=3\n",
    "\n",
    "print(a+b)"
   ]
  },
  {
   "cell_type": "code",
   "execution_count": 49,
   "id": "7131b5a0",
   "metadata": {},
   "outputs": [
    {
     "data": {
      "text/plain": [
       "'Ram'"
      ]
     },
     "execution_count": 49,
     "metadata": {},
     "output_type": "execute_result"
    }
   ],
   "source": [
    "next(x)\n",
    "#state is maintained in generator\n",
    "#io / blocked application run very fast"
   ]
  },
  {
   "cell_type": "code",
   "execution_count": 52,
   "id": "c0231c20",
   "metadata": {},
   "outputs": [],
   "source": [
    "def generate_odd(num):\n",
    "\n",
    "    for i in range (1,num*2):\n",
    "        if i%2 == 1:\n",
    "            yield i\n",
    "            "
   ]
  },
  {
   "cell_type": "code",
   "execution_count": 53,
   "id": "eb9105f4",
   "metadata": {},
   "outputs": [],
   "source": [
    "x = generate_odd(10)"
   ]
  },
  {
   "cell_type": "code",
   "execution_count": 54,
   "id": "7990049f",
   "metadata": {},
   "outputs": [
    {
     "data": {
      "text/plain": [
       "1"
      ]
     },
     "execution_count": 54,
     "metadata": {},
     "output_type": "execute_result"
    }
   ],
   "source": [
    "next(x)"
   ]
  },
  {
   "cell_type": "code",
   "execution_count": 55,
   "id": "e5f0a5b9",
   "metadata": {},
   "outputs": [
    {
     "data": {
      "text/plain": [
       "3"
      ]
     },
     "execution_count": 55,
     "metadata": {},
     "output_type": "execute_result"
    }
   ],
   "source": [
    "next(x)"
   ]
  },
  {
   "cell_type": "code",
   "execution_count": 92,
   "id": "bc78d0c6",
   "metadata": {},
   "outputs": [
    {
     "name": "stdout",
     "output_type": "stream",
     "text": [
      "1\n",
      "3\n",
      "5\n",
      "7\n",
      "9\n",
      "11\n",
      "13\n",
      "15\n",
      "17\n",
      "19\n"
     ]
    }
   ],
   "source": [
    "def generate_odd(num):\n",
    "  \n",
    "    for i in range (1,num*2):\n",
    "        if i%2 == 1:\n",
    "            yield i\n",
    "            \n",
    "x = generate_odd(10)\n",
    "    \n",
    "for i in x:\n",
    "    print(i)"
   ]
  },
  {
   "cell_type": "code",
   "execution_count": 69,
   "id": "d6a4e048",
   "metadata": {},
   "outputs": [],
   "source": [
    "def multiplactive(num):\n",
    "    \n",
    "    mul_list = []\n",
    "    \n",
    "    for i in range (0,num+1):\n",
    "        mul_list.append(2**i)\n",
    "        \n",
    "    return mul_list"
   ]
  },
  {
   "cell_type": "code",
   "execution_count": 70,
   "id": "87cf230a",
   "metadata": {},
   "outputs": [
    {
     "data": {
      "text/plain": [
       "[1, 2, 4, 8, 16, 32]"
      ]
     },
     "execution_count": 70,
     "metadata": {},
     "output_type": "execute_result"
    }
   ],
   "source": [
    "multiplactive(5)"
   ]
  },
  {
   "cell_type": "code",
   "execution_count": 89,
   "id": "82037f61",
   "metadata": {},
   "outputs": [
    {
     "name": "stdout",
     "output_type": "stream",
     "text": [
      "1\n",
      "2\n",
      "4\n",
      "8\n",
      "16\n",
      "32\n"
     ]
    }
   ],
   "source": [
    "def multiplactive(num):\n",
    "    \n",
    "    for i in range (0,num+1):\n",
    "        n = 2 ** i\n",
    "        yield n\n",
    "\n",
    "for i in multiplactive(5):\n",
    "    print(i)\n"
   ]
  },
  {
   "cell_type": "code",
   "execution_count": 75,
   "id": "74bff5ae",
   "metadata": {},
   "outputs": [],
   "source": [
    "x = multiplactive(5)"
   ]
  },
  {
   "cell_type": "code",
   "execution_count": 95,
   "id": "f7e8e920",
   "metadata": {},
   "outputs": [
    {
     "name": "stdout",
     "output_type": "stream",
     "text": [
      "1\n",
      "2\n",
      "4\n",
      "8\n",
      "16\n",
      "32\n"
     ]
    }
   ],
   "source": [
    "class PowTwo:\n",
    "    \"\"\"Class to implement an iterator of power of two\"\"\"\n",
    "    def __init__(self, n=0):\n",
    "        self.n = n\n",
    "        \n",
    "    def __iter__(self):\n",
    "        self.i = 0\n",
    "        return self\n",
    "    \n",
    "    def __next__(self):\n",
    "        if self.i <= self.n:\n",
    "            result = 2** self.i\n",
    "            self.i +=1\n",
    "            return result\n",
    "        \n",
    "        else:\n",
    "            raise StopIteration\n",
    "            \n",
    "# create an object\n",
    "numbers = PowTwo(5)\n",
    "\n",
    "# create an iterable from the object\n",
    "pow = iter(numbers)\n",
    "\n",
    "for  i in pow:\n",
    "    print(i)"
   ]
  },
  {
   "cell_type": "code",
   "execution_count": 97,
   "id": "ad68475a",
   "metadata": {},
   "outputs": [
    {
     "name": "stdout",
     "output_type": "stream",
     "text": [
      "1\n",
      "2\n",
      "4\n",
      "8\n",
      "16\n",
      "32\n"
     ]
    }
   ],
   "source": [
    "def multiplactive(num):\n",
    "    \n",
    "    for i in range (0,num+1):\n",
    "        n = 2 ** i\n",
    "        yield n\n",
    "\n",
    "x = multiplactive(5)\n",
    "\n",
    "while True:\n",
    "    try:\n",
    "        print(next(x))\n",
    "    except StopIteration:\n",
    "        break"
   ]
  },
  {
   "cell_type": "code",
   "execution_count": 98,
   "id": "758e245f",
   "metadata": {},
   "outputs": [],
   "source": [
    "def hi():\n",
    "    return 'hi'"
   ]
  },
  {
   "cell_type": "code",
   "execution_count": 99,
   "id": "e4e5e35b",
   "metadata": {},
   "outputs": [],
   "source": [
    "def higher_order_fn(fn):\n",
    "    x = fn()\n",
    "    return x"
   ]
  },
  {
   "cell_type": "code",
   "execution_count": 100,
   "id": "b8af70ba",
   "metadata": {},
   "outputs": [
    {
     "data": {
      "text/plain": [
       "'hi'"
      ]
     },
     "execution_count": 100,
     "metadata": {},
     "output_type": "execute_result"
    }
   ],
   "source": [
    "higher_order_fn(hi)"
   ]
  },
  {
   "cell_type": "code",
   "execution_count": 101,
   "id": "956d5e15",
   "metadata": {},
   "outputs": [],
   "source": [
    "def higher_order_fn2(fn,values):\n",
    "    x = fn(values)\n",
    "    return x"
   ]
  },
  {
   "cell_type": "code",
   "execution_count": 103,
   "id": "d6317617",
   "metadata": {},
   "outputs": [],
   "source": [
    "def addition (nums):\n",
    "    add = 0 \n",
    "    \n",
    "    for num in nums:\n",
    "        add += num\n",
    "    return add"
   ]
  },
  {
   "cell_type": "code",
   "execution_count": 104,
   "id": "32e19c42",
   "metadata": {},
   "outputs": [
    {
     "data": {
      "text/plain": [
       "21"
      ]
     },
     "execution_count": 104,
     "metadata": {},
     "output_type": "execute_result"
    }
   ],
   "source": [
    "higher_order_fn2(addition, [1,2,3,4,5,6])"
   ]
  },
  {
   "cell_type": "code",
   "execution_count": 105,
   "id": "ed01221b",
   "metadata": {},
   "outputs": [
    {
     "name": "stdout",
     "output_type": "stream",
     "text": [
      "1\n"
     ]
    }
   ],
   "source": [
    "def print_msg():\n",
    "    x = 1 # non local variable\n",
    "    \n",
    "    def printer():\n",
    "        print (x) # x is non local variable\n",
    "    \n",
    "    printer()\n",
    "print_msg()\n",
    "    "
   ]
  },
  {
   "cell_type": "code",
   "execution_count": 106,
   "id": "5d9b1eac",
   "metadata": {},
   "outputs": [
    {
     "name": "stdout",
     "output_type": "stream",
     "text": [
      "None\n"
     ]
    }
   ],
   "source": [
    "def print_msg():\n",
    "    x = 1 # non local variable\n",
    "    \n",
    "    def printer():\n",
    "        return x # x is non local variable\n",
    "    \n",
    "    printer()\n",
    "print(print_msg())\n",
    "    "
   ]
  },
  {
   "cell_type": "code",
   "execution_count": 107,
   "id": "b8dc7e43",
   "metadata": {},
   "outputs": [
    {
     "name": "stdout",
     "output_type": "stream",
     "text": [
      "1\n"
     ]
    }
   ],
   "source": [
    "def print_msg():\n",
    "    x = 1 # non local variable\n",
    "    \n",
    "    def printer():\n",
    "        return x # x is non local variable\n",
    "    \n",
    "    return printer()\n",
    "print(print_msg())\n",
    "    "
   ]
  },
  {
   "cell_type": "code",
   "execution_count": 108,
   "id": "54f1a7d2",
   "metadata": {},
   "outputs": [
    {
     "name": "stdout",
     "output_type": "stream",
     "text": [
      "<function print_msg.<locals>.printer at 0x0000024C0C0A9B40>\n"
     ]
    }
   ],
   "source": [
    "def print_msg():\n",
    "    #closure start\n",
    "    x = 1 \n",
    "    \n",
    "    def printer():\n",
    "        return x \n",
    "    #closure stop\n",
    "    \n",
    "    return printer\n",
    "print(print_msg())\n",
    "    "
   ]
  },
  {
   "cell_type": "code",
   "execution_count": 110,
   "id": "0d8fc772",
   "metadata": {},
   "outputs": [
    {
     "name": "stdout",
     "output_type": "stream",
     "text": [
      "1\n"
     ]
    }
   ],
   "source": [
    "def print_msg():\n",
    "    #closure start\n",
    "    x = 1 \n",
    "    \n",
    "    def printer():\n",
    "        return x \n",
    "    #closure stop\n",
    "    \n",
    "    return printer\n",
    "print(print_msg()())\n",
    "    "
   ]
  },
  {
   "cell_type": "code",
   "execution_count": 111,
   "id": "59a880f5",
   "metadata": {},
   "outputs": [
    {
     "name": "stdout",
     "output_type": "stream",
     "text": [
      "1\n"
     ]
    }
   ],
   "source": [
    "def print_msg():\n",
    "    #closure start\n",
    "    x = 1 \n",
    "    \n",
    "    def printer():\n",
    "        return x \n",
    "    #closure stop\n",
    "    \n",
    "    return printer\n",
    "\n",
    "output = print_msg()\n",
    "print(output())\n",
    "    "
   ]
  },
  {
   "cell_type": "code",
   "execution_count": 112,
   "id": "c810ded9",
   "metadata": {},
   "outputs": [],
   "source": [
    "del print_msg"
   ]
  },
  {
   "cell_type": "code",
   "execution_count": 115,
   "id": "9ad442cb",
   "metadata": {},
   "outputs": [
    {
     "name": "stdout",
     "output_type": "stream",
     "text": [
      "1\n"
     ]
    }
   ],
   "source": [
    "print(output()) # stored in intermediate object called cell object"
   ]
  },
  {
   "cell_type": "code",
   "execution_count": 116,
   "id": "e73af838",
   "metadata": {},
   "outputs": [
    {
     "name": "stdout",
     "output_type": "stream",
     "text": [
      "1\n"
     ]
    }
   ],
   "source": [
    "def print_msg(x):\n",
    "\n",
    "    def printer():\n",
    "        return x \n",
    "    \n",
    "    return printer\n",
    "\n",
    "output = print_msg(1)\n",
    "print(output())\n",
    "    "
   ]
  },
  {
   "cell_type": "code",
   "execution_count": 120,
   "id": "a771db1b",
   "metadata": {},
   "outputs": [
    {
     "name": "stdout",
     "output_type": "stream",
     "text": [
      "hii\n"
     ]
    }
   ],
   "source": [
    "def hi():\n",
    "    return 'hii'\n",
    "\n",
    "def print_msg(fn):\n",
    "\n",
    "    def printer():\n",
    "        x = fn()\n",
    "        return x \n",
    "    \n",
    "    return printer\n",
    "\n",
    "output = print_msg(hi)\n",
    "print(output())\n",
    "    "
   ]
  },
  {
   "cell_type": "code",
   "execution_count": 124,
   "id": "9452abfd",
   "metadata": {},
   "outputs": [
    {
     "name": "stdout",
     "output_type": "stream",
     "text": [
      "************\n",
      "hii\n",
      "************\n",
      "None\n"
     ]
    }
   ],
   "source": [
    "def hi():\n",
    "    return 'hii'\n",
    "\n",
    "def print_msg(fn):\n",
    "\n",
    "    def printer():\n",
    "        print('************')\n",
    "        x = fn()\n",
    "        print(x)\n",
    "        print('************')\n",
    "    \n",
    "    return printer\n",
    "\n",
    "output = print_msg(hi)\n",
    "print(output())\n",
    "    "
   ]
  },
  {
   "cell_type": "code",
   "execution_count": 125,
   "id": "5401ed15",
   "metadata": {},
   "outputs": [
    {
     "name": "stdout",
     "output_type": "stream",
     "text": [
      "************\n",
      "hii\n",
      "************\n"
     ]
    }
   ],
   "source": [
    "def hi():\n",
    "    return 'hii'\n",
    "\n",
    "def print_msg(fn):\n",
    "\n",
    "    def printer():\n",
    "        print('************')\n",
    "        x = fn()\n",
    "        print(x)\n",
    "        print('************')\n",
    "    \n",
    "    return printer\n",
    "\n",
    "hi = print_msg(hi) # Decorator\n",
    "hi()\n",
    "    "
   ]
  },
  {
   "cell_type": "code",
   "execution_count": 126,
   "id": "3aa6eafc",
   "metadata": {},
   "outputs": [
    {
     "name": "stdout",
     "output_type": "stream",
     "text": [
      "************\n",
      "hii\n",
      "************\n"
     ]
    }
   ],
   "source": [
    "def print_msg(fn):\n",
    "\n",
    "    def printer():\n",
    "        print('************')\n",
    "        x = fn()\n",
    "        print(x)\n",
    "        print('************')\n",
    "    \n",
    "    return printer\n",
    "\n",
    "@print_msg\n",
    "def hi():\n",
    "    return 'hii'\n",
    "\n",
    "hi()\n",
    "    "
   ]
  },
  {
   "cell_type": "code",
   "execution_count": 127,
   "id": "9b5bfb46",
   "metadata": {},
   "outputs": [
    {
     "data": {
      "text/plain": [
       "'hii'"
      ]
     },
     "execution_count": 127,
     "metadata": {},
     "output_type": "execute_result"
    }
   ],
   "source": [
    "def hi():\n",
    "    return 'hii'\n",
    "\n",
    "hi()"
   ]
  },
  {
   "cell_type": "code",
   "execution_count": 129,
   "id": "383df6f7",
   "metadata": {},
   "outputs": [
    {
     "name": "stdout",
     "output_type": "stream",
     "text": [
      "************\n",
      "hii\n",
      "************\n"
     ]
    }
   ],
   "source": [
    "@print_msg\n",
    "def hi():\n",
    "    return 'hii'\n",
    "\n",
    "hi()"
   ]
  },
  {
   "cell_type": "code",
   "execution_count": 131,
   "id": "ed96aaaf",
   "metadata": {},
   "outputs": [
    {
     "name": "stdout",
     "output_type": "stream",
     "text": [
      "************\n",
      "hii\n",
      "************\n",
      "************\n",
      "3\n",
      "************\n"
     ]
    }
   ],
   "source": [
    "def print_msg(fn):\n",
    "\n",
    "    def printer():\n",
    "        print('************')\n",
    "        x = fn()\n",
    "        print(x)\n",
    "        print('************')\n",
    "    \n",
    "    return printer\n",
    "\n",
    "@print_msg\n",
    "def hi():\n",
    "    return 'hii'\n",
    "\n",
    "hi()\n",
    "   \n",
    "@print_msg\n",
    "def hello():\n",
    "    return 1+2\n",
    "hello()"
   ]
  },
  {
   "cell_type": "code",
   "execution_count": 132,
   "id": "6b6010b4",
   "metadata": {},
   "outputs": [],
   "source": [
    "def full_name():\n",
    "    return 'Sandip Shrestha'"
   ]
  },
  {
   "cell_type": "code",
   "execution_count": 133,
   "id": "a8a1134b",
   "metadata": {},
   "outputs": [
    {
     "data": {
      "text/plain": [
       "'Sandip Shrestha'"
      ]
     },
     "execution_count": 133,
     "metadata": {},
     "output_type": "execute_result"
    }
   ],
   "source": [
    "full_name()"
   ]
  },
  {
   "cell_type": "code",
   "execution_count": 136,
   "id": "e13b9c5f",
   "metadata": {},
   "outputs": [],
   "source": [
    "def make_upper(fn):\n",
    "    def inner():\n",
    "        x = fn()\n",
    "        print(x.upper())\n",
    "        \n",
    "    return inner"
   ]
  },
  {
   "cell_type": "code",
   "execution_count": 138,
   "id": "1c36c3c8",
   "metadata": {},
   "outputs": [
    {
     "name": "stdout",
     "output_type": "stream",
     "text": [
      "SANDIP SHRESTHA\n"
     ]
    }
   ],
   "source": [
    "@make_upper\n",
    "def full_name():\n",
    "    return 'Sandip Shrestha'\n",
    "full_name()"
   ]
  },
  {
   "cell_type": "code",
   "execution_count": null,
   "id": "653cbcce",
   "metadata": {},
   "outputs": [],
   "source": []
  },
  {
   "cell_type": "code",
   "execution_count": null,
   "id": "ef8eeafb",
   "metadata": {},
   "outputs": [],
   "source": []
  }
 ],
 "metadata": {
  "kernelspec": {
   "display_name": "Python 3 (ipykernel)",
   "language": "python",
   "name": "python3"
  },
  "language_info": {
   "codemirror_mode": {
    "name": "ipython",
    "version": 3
   },
   "file_extension": ".py",
   "mimetype": "text/x-python",
   "name": "python",
   "nbconvert_exporter": "python",
   "pygments_lexer": "ipython3",
   "version": "3.10.6"
  }
 },
 "nbformat": 4,
 "nbformat_minor": 5
}
