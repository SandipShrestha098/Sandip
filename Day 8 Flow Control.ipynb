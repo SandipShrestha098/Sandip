{
 "cells": [
  {
   "cell_type": "code",
   "execution_count": 6,
   "id": "c56c2309",
   "metadata": {},
   "outputs": [
    {
     "name": "stdout",
     "output_type": "stream",
     "text": [
      "1 is odd\n",
      "2 is even\n",
      "3 is odd\n",
      "4 is even\n",
      "5 is odd\n",
      "6 is even\n",
      "7 is odd\n"
     ]
    }
   ],
   "source": [
    "x = [1,2,3,4,5,6,7]\n",
    "\n",
    "for i in x:\n",
    "    if i%2 == 0:\n",
    "        print(f\"{i} is even\")\n",
    "    else:\n",
    "        print(f\"{i} is odd\")\n",
    "    "
   ]
  },
  {
   "cell_type": "code",
   "execution_count": 8,
   "id": "f9f027cf",
   "metadata": {},
   "outputs": [
    {
     "name": "stdout",
     "output_type": "stream",
     "text": [
      "1 is positive number\n",
      "2 is positive number\n",
      "-3 is negative number\n",
      "-4 is negative number\n",
      "5 is positive number\n",
      "6 is positive number\n",
      "-7 is negative number\n"
     ]
    }
   ],
   "source": [
    "x = [1,2,-3,-4,5,6,-7]\n",
    "\n",
    "for i in x:\n",
    "    if i<0:\n",
    "        print(f\"{i} is negative number\")\n",
    "    else:\n",
    "        print(f\"{i} is positive number\")\n",
    "              "
   ]
  },
  {
   "cell_type": "code",
   "execution_count": 11,
   "id": "284eaebd",
   "metadata": {},
   "outputs": [
    {
     "name": "stdout",
     "output_type": "stream",
     "text": [
      "14\n"
     ]
    }
   ],
   "source": [
    "x = [1,2,-3,-4,5,6,-7]\n",
    "sum = 0\n",
    "for i in x:\n",
    "    if i > 0:\n",
    "        sum += i\n",
    "print(sum)"
   ]
  },
  {
   "cell_type": "code",
   "execution_count": 15,
   "id": "1249e168",
   "metadata": {},
   "outputs": [
    {
     "name": "stdout",
     "output_type": "stream",
     "text": [
      "Enter your age : 10\n",
      "You need 8 years more to drive\n"
     ]
    }
   ],
   "source": [
    "age = int(input(\"Enter your age : \"))\n",
    "remaining_year = 18 - age\n",
    "\n",
    "if age>= 18:\n",
    "    print(\"You are old enough to drive\")\n",
    "else:\n",
    "     print(f\"You need {remaining_year} years more to drive\")"
   ]
  },
  {
   "cell_type": "code",
   "execution_count": 17,
   "id": "d629a606",
   "metadata": {},
   "outputs": [
    {
     "name": "stdout",
     "output_type": "stream",
     "text": [
      "60\n"
     ]
    }
   ],
   "source": [
    "x = [1,2,-3,-4,5,6,-7]\n",
    "multiplication = 1\n",
    "for i in x:\n",
    "    if i > 0:\n",
    "        multiplication *= i\n",
    "print(multiplication)"
   ]
  },
  {
   "cell_type": "code",
   "execution_count": 19,
   "id": "87ca78cd",
   "metadata": {},
   "outputs": [
    {
     "name": "stdout",
     "output_type": "stream",
     "text": [
      "[-3, -4, -7]\n",
      "[1, 2, 5, 6]\n"
     ]
    }
   ],
   "source": [
    "x = [1,2,-3,-4,5,6,-7]\n",
    "y = []\n",
    "z = []\n",
    "\n",
    "for i in x:\n",
    "    if i<0:\n",
    "        y.append(i)\n",
    "\n",
    "    else:\n",
    "        z.append(i)\n",
    "        \n",
    "print(y) \n",
    "print(z)"
   ]
  },
  {
   "cell_type": "code",
   "execution_count": 24,
   "id": "45d1c0a4",
   "metadata": {},
   "outputs": [
    {
     "name": "stdout",
     "output_type": "stream",
     "text": [
      "Please enter your age : 20\n",
      "You are adult\n"
     ]
    }
   ],
   "source": [
    "age = int(input(\"Please enter your age : \"))\n",
    "\n",
    "if 1<=age<13:\n",
    "    print( \"You are teenager\")\n",
    "elif 13<=age<18:\n",
    "     print( \"You are young\")\n",
    "elif 18<=age<35:\n",
    "     print( \"You are adult\")\n",
    "elif 36<=age<45:\n",
    "     print( \"You are old\")\n",
    "elif age>=45:\n",
    "     print( \"You are very old\")"
   ]
  },
  {
   "cell_type": "code",
   "execution_count": 25,
   "id": "4db36917",
   "metadata": {},
   "outputs": [
    {
     "data": {
      "text/plain": [
       "[0, 1, 2, 3, 4, 5, 6, 7, 8, 9, 10, 11, 12, 13, 14]"
      ]
     },
     "execution_count": 25,
     "metadata": {},
     "output_type": "execute_result"
    }
   ],
   "source": [
    "list(range(0,15))"
   ]
  },
  {
   "cell_type": "code",
   "execution_count": 26,
   "id": "773d2dcd",
   "metadata": {},
   "outputs": [
    {
     "name": "stdout",
     "output_type": "stream",
     "text": [
      "0 is zero\n",
      "1 is positive\n",
      "-2 is negative\n",
      "4 is positive\n",
      "5 is positive\n",
      "-6 is negative\n",
      "8 is positive\n",
      "9 is positive\n"
     ]
    }
   ],
   "source": [
    "x = [0,1,-2,4,5,-6,8,9]\n",
    "\n",
    "for i in x:\n",
    "    if i>0 :\n",
    "        print(f\"{i} is positive\")\n",
    "    elif i<0 :\n",
    "        print(f\"{i} is negative\")\n",
    "    else:\n",
    "        print(f\"{i} is zero\")"
   ]
  },
  {
   "cell_type": "code",
   "execution_count": 27,
   "id": "10c12499",
   "metadata": {},
   "outputs": [
    {
     "name": "stdout",
     "output_type": "stream",
     "text": [
      "[0, 1, -2, 4, 5, -6, 8, 9]\n"
     ]
    }
   ],
   "source": [
    "x = [0,1,-2,4,5,-6,8,9,1,4,5,9,0,1]\n",
    "unique_list = []\n",
    "\n",
    "for i in x:\n",
    "    if i not in unique_list:\n",
    "        unique_list.append(i)\n",
    "print(unique_list)\n"
   ]
  },
  {
   "cell_type": "code",
   "execution_count": 34,
   "id": "7b7d0bb8",
   "metadata": {},
   "outputs": [
    {
     "name": "stdout",
     "output_type": "stream",
     "text": [
      "Enter username : \n",
      "Enter password : \n",
      "Enter role :\n",
      "Incorrect password or username\n"
     ]
    }
   ],
   "source": [
    "username = input(\"Enter username : \")\n",
    "password = input(\"Enter password : \")\n",
    "role = input (\"Enter role :\")\n",
    "\n",
    "if username == \"admin\" and password ==\"admin\":\n",
    "    print(\"Welcome\")\n",
    "elif role == \"admin\":\n",
    "    print(f\"Sucessfully logged in as {role}\")\n",
    "else:\n",
    "    print(\"Incorrect password or username\")"
   ]
  },
  {
   "cell_type": "code",
   "execution_count": 38,
   "id": "073e9964",
   "metadata": {},
   "outputs": [
    {
     "name": "stdout",
     "output_type": "stream",
     "text": [
      "Enter username : ask\n",
      "Enter password : asjk\n",
      "Incorrect password or username\n"
     ]
    }
   ],
   "source": [
    "username = input(\"Enter username : \")\n",
    "password = input(\"Enter password : \")\n",
    "\n",
    "\n",
    "if username == \"admin\" and password ==\"admin\":\n",
    "    role = input (\"Enter role :\")\n",
    "    if role == \"administrator\":\n",
    "        print(f\"Welcome {role}\")\n",
    "    else:\n",
    "        print(\"Welcome guest\")\n",
    "else:\n",
    "    print(\"Incorrect password or username\")"
   ]
  },
  {
   "cell_type": "code",
   "execution_count": 2,
   "id": "871143cc",
   "metadata": {},
   "outputs": [
    {
     "name": "stdout",
     "output_type": "stream",
     "text": [
      "Enter username : sdk\n",
      "Enter password : sdf\n",
      "Is your role guest? Y/N :y\n",
      "Enter role : admin\n",
      "admin does not have enough privelege\n"
     ]
    }
   ],
   "source": [
    "username = input(\"Enter username : \").strip()\n",
    "password = input(\"Enter password : \").strip()\n",
    "\n",
    "\n",
    "if username == \"admin\" and password ==\"admin\":\n",
    "    print (\"Sucessfully logged in\")\n",
    "    \n",
    "else:\n",
    "    confirm = input(\"Is your role guest? Y/N :\")\n",
    " \n",
    "    if confirm in ['y', 'yes']:\n",
    "        role = input(\"Enter role : \")\n",
    "        if role == \"administrator\":\n",
    "            print(f\"welcome {role}\")\n",
    "        else:\n",
    "            print(f\"{role} does not have enough privelege\")\n",
    "  \n"
   ]
  },
  {
   "cell_type": "code",
   "execution_count": 8,
   "id": "35f2ba9f",
   "metadata": {},
   "outputs": [
    {
     "name": "stdout",
     "output_type": "stream",
     "text": [
      "Enter username : sandipshrestha\n",
      "Enter password : asdkjaskjdsf&sk\n"
     ]
    }
   ],
   "source": [
    "username = input(\"Enter username : \").strip()\n",
    "password = input(\"Enter password : \").strip()\n",
    "\n",
    "\n",
    "if len(username) < 8 :\n",
    "    print(\"please enter username with more than 8 character\")\n",
    "if len(password) <10 or password.isalnum():\n",
    "    print(\"please enter username with more than 10 character\")"
   ]
  },
  {
   "cell_type": "code",
   "execution_count": null,
   "id": "97cc62bf",
   "metadata": {},
   "outputs": [],
   "source": []
  }
 ],
 "metadata": {
  "kernelspec": {
   "display_name": "Python 3 (ipykernel)",
   "language": "python",
   "name": "python3"
  },
  "language_info": {
   "codemirror_mode": {
    "name": "ipython",
    "version": 3
   },
   "file_extension": ".py",
   "mimetype": "text/x-python",
   "name": "python",
   "nbconvert_exporter": "python",
   "pygments_lexer": "ipython3",
   "version": "3.10.6"
  }
 },
 "nbformat": 4,
 "nbformat_minor": 5
}
