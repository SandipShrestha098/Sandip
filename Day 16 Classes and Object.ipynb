{
 "cells": [
  {
   "cell_type": "code",
   "execution_count": 14,
   "id": "50514359",
   "metadata": {},
   "outputs": [],
   "source": [
    "class Person:\n",
    "    def __init__(self,name,age,address):  #constructor => initializer\n",
    "        print(name,age,address)\n",
    "        \n",
    "    def info(self):\n",
    "        print(\"I am a person\")\n",
    "    \n",
    "    def eat(self): # outside of class function. method / characters / \n",
    "        print(\"Person is eating\")\n",
    "    def walk(self):\n",
    "        print(\"person is walking\")\n",
    "    def breath(self):\n",
    "        print(\"persin is breathing\")"
   ]
  },
  {
   "cell_type": "code",
   "execution_count": 15,
   "id": "737780a1",
   "metadata": {},
   "outputs": [
    {
     "name": "stdout",
     "output_type": "stream",
     "text": [
      "ram 24 ktm\n"
     ]
    }
   ],
   "source": [
    "p1 = Person(name = 'ram', age = 24, address = 'ktm')"
   ]
  },
  {
   "cell_type": "code",
   "execution_count": 17,
   "id": "f57e60b0",
   "metadata": {},
   "outputs": [
    {
     "name": "stdout",
     "output_type": "stream",
     "text": [
      "I am a person\n",
      "Person is eating\n",
      "person is walking\n",
      "persin is breathing\n"
     ]
    }
   ],
   "source": [
    "p1.info()\n",
    "p1.eat()\n",
    "p1.walk()\n",
    "p1.breath()"
   ]
  },
  {
   "cell_type": "code",
   "execution_count": 18,
   "id": "25abb6ee",
   "metadata": {},
   "outputs": [],
   "source": [
    "class Person:\n",
    "    def __init__(self,name,age,address):  #constructor => initializer\n",
    "        print(name,age,address)\n",
    "        self.name = name\n",
    "        self.age = age\n",
    "        self.address = address\n",
    "        \n",
    "    def info(self):\n",
    "        print(\"I am a person\")\n",
    "    \n",
    "    def eat(self): # outside of class function. method / characters / \n",
    "        print(\"Person is eating\")\n",
    "    def walk(self):\n",
    "        print(\"person is walking\")\n",
    "    def breath(self):\n",
    "        print(\"persin is breathing\")"
   ]
  },
  {
   "cell_type": "code",
   "execution_count": 20,
   "id": "d82ed85f",
   "metadata": {},
   "outputs": [
    {
     "name": "stdout",
     "output_type": "stream",
     "text": [
      "ram 24 ktm\n"
     ]
    },
    {
     "data": {
      "text/plain": [
       "'ram'"
      ]
     },
     "execution_count": 20,
     "metadata": {},
     "output_type": "execute_result"
    }
   ],
   "source": [
    "p1 = Person(name = 'ram', age = 24, address = 'ktm')\n",
    "\n",
    "p1.name"
   ]
  },
  {
   "cell_type": "code",
   "execution_count": 44,
   "id": "17b04ecf",
   "metadata": {},
   "outputs": [],
   "source": [
    "class Student:\n",
    "    def __init__(self,name,age,address, college,faculty, roll_no): \n",
    "        print(name,age,address)\n",
    "        self.name = name\n",
    "        self.age = age\n",
    "        self.address = address\n",
    "        self.college = college\n",
    "        self.faculty = faculty\n",
    "        self.roll_no = roll_no\n",
    "        self.subjects = []\n",
    "        \n",
    "        \n",
    "    def learn(self):\n",
    "        print (f'Student is learning:{self.subjects}')\n",
    "        \n",
    "    def add_subjects(self, subject):\n",
    "        if subject not in self.subjects:\n",
    "            self.subjects.append(subject)\n",
    "    "
   ]
  },
  {
   "cell_type": "code",
   "execution_count": 45,
   "id": "4d9376c6",
   "metadata": {},
   "outputs": [
    {
     "name": "stdout",
     "output_type": "stream",
     "text": [
      "Ram 22 ktm\n"
     ]
    }
   ],
   "source": [
    "s1 = Student ('Ram', 22, 'ktm', 'CCRC', 'IT', 1)"
   ]
  },
  {
   "cell_type": "code",
   "execution_count": 46,
   "id": "de6070ff",
   "metadata": {},
   "outputs": [
    {
     "name": "stdout",
     "output_type": "stream",
     "text": [
      "Student is learning:[]\n"
     ]
    }
   ],
   "source": [
    "s1.learn()"
   ]
  },
  {
   "cell_type": "code",
   "execution_count": 47,
   "id": "a470fe50",
   "metadata": {},
   "outputs": [
    {
     "name": "stdout",
     "output_type": "stream",
     "text": [
      "Student is learning:['Python']\n"
     ]
    }
   ],
   "source": [
    "s1.add_subjects('Python')\n",
    "s1.learn()"
   ]
  },
  {
   "cell_type": "code",
   "execution_count": 56,
   "id": "c22e4547",
   "metadata": {},
   "outputs": [
    {
     "name": "stdout",
     "output_type": "stream",
     "text": [
      "Student is learning:['Python', 'Django']\n"
     ]
    }
   ],
   "source": [
    "s1.add_subjects('Django')\n",
    "s1.learn()"
   ]
  },
  {
   "cell_type": "code",
   "execution_count": null,
   "id": "53504c59",
   "metadata": {},
   "outputs": [],
   "source": [
    "# DRY principle => Not to repeat same functions"
   ]
  },
  {
   "cell_type": "code",
   "execution_count": 69,
   "id": "90aee937",
   "metadata": {},
   "outputs": [],
   "source": [
    "class Person:\n",
    "    def __init__(self,name,age,address):  #constructor => initializer\n",
    "        print(name,age,address)\n",
    "        self.name = name\n",
    "        self.age = age\n",
    "        self.address = address\n",
    "        \n",
    "    def info(self):\n",
    "        print(f\"name : {self.name}\")\n",
    "        print(f\"age : {self.age}\")\n",
    "        print(f\"address : {self.address}\")\n",
    "    \n",
    "    def eat(self): # outside of class function. method / characters / \n",
    "        print(\"Person is eating\")\n",
    "    def walk(self):\n",
    "        print(\"person is walking\")\n",
    "    def breath(self):\n",
    "        print(\"persin is breathing\")\n",
    "        \n",
    "class Student(Person):\n",
    "    def __init__(self,name,age,address, college,faculty, roll_no): \n",
    "        super().__init__(name,age,address)\n",
    "        self.name = name\n",
    "        self.age = age\n",
    "        self.address = address\n",
    "        self.college = college\n",
    "        self.faculty = faculty\n",
    "        self.roll_no = roll_no\n",
    "        self.subjects = []\n",
    "        \n",
    "        #method overriding\n",
    "    def info(self):\n",
    "        super().info()\n",
    "        print(f\"college : {self.college}\")\n",
    "        print(f\"faculty : {self.faculty}\")\n",
    "        print(f\"roll_no : {self.roll_no}\")\n",
    "        print(f\"subjects : {self.subjects}\")\n",
    "        \n",
    "    def learn(self):\n",
    "        print (f'Student is learning:{self.subjects}')\n",
    "        \n",
    "    def add_subjects(self, subject):\n",
    "        if subject not in self.subjects:\n",
    "            self.subjects.append(subject)\n",
    "    "
   ]
  },
  {
   "cell_type": "code",
   "execution_count": 70,
   "id": "0e6463e8",
   "metadata": {},
   "outputs": [
    {
     "name": "stdout",
     "output_type": "stream",
     "text": [
      "Ram 22 ktm\n",
      "name : Ram\n",
      "age : 22\n",
      "address : ktm\n",
      "college : CCRC\n",
      "faculty : IT\n",
      "roll_no : 1\n",
      "subjects : []\n"
     ]
    }
   ],
   "source": [
    "s1 = Student ('Ram', 22, 'ktm', 'CCRC', 'IT', 1)\n",
    "\n",
    "s1.info()"
   ]
  },
  {
   "cell_type": "code",
   "execution_count": 83,
   "id": "f95f74ca",
   "metadata": {},
   "outputs": [],
   "source": [
    "class House:\n",
    " \n",
    "    def __init__(self,length,breadth, no_of_rooms): \n",
    "        self.length = length\n",
    "        self.breadth = breadth\n",
    "        self.no_of_rooms = no_of_rooms\n",
    "        \n",
    "    def area_of_each_room(self):\n",
    "        return (self.length * self.breadth)\n",
    "        \n",
    "    def total_area(self):\n",
    "        return (self.no_of_rooms * self.area_of_each_room())"
   ]
  },
  {
   "cell_type": "code",
   "execution_count": 84,
   "id": "e4cfb7fa",
   "metadata": {},
   "outputs": [
    {
     "name": "stdout",
     "output_type": "stream",
     "text": [
      "15\n",
      "90\n"
     ]
    }
   ],
   "source": [
    "h1= House(3,5,6)\n",
    "print(h1.area_of_each_room())\n",
    "print(h1.total_area())"
   ]
  },
  {
   "cell_type": "code",
   "execution_count": 96,
   "id": "a3fe680b",
   "metadata": {},
   "outputs": [],
   "source": [
    "class Rectangle:\n",
    "    def __init__(self,length,breadth):  # instead of self we can write any words\n",
    "        self.length = length\n",
    "        self.breadth = breadth\n",
    "        \n",
    "    def perimeter_of_rectangle(self):\n",
    "        return 2*(self.length + self.breadth)\n",
    "        \n",
    "    def area_of_rectangle(self):\n",
    "        return (self.length * self.breadth)"
   ]
  },
  {
   "cell_type": "code",
   "execution_count": 97,
   "id": "48ac1721",
   "metadata": {},
   "outputs": [
    {
     "name": "stdout",
     "output_type": "stream",
     "text": [
      "28\n",
      "48\n"
     ]
    }
   ],
   "source": [
    "r1 = Rectangle(6,8)\n",
    "print(r1.perimeter_of_rectangle())\n",
    "print(r1.area_of_rectangle())"
   ]
  },
  {
   "cell_type": "code",
   "execution_count": 98,
   "id": "e36b5b0d",
   "metadata": {},
   "outputs": [],
   "source": [
    "class Rectangle:\n",
    "    def __init__(o,length,breadth):  # instead of self we can write any words\n",
    "        o.length = length\n",
    "        o.breadth = breadth\n",
    "        \n",
    "    def perimeter_of_rectangle(o):\n",
    "        return 2*(o.length + o.breadth)\n",
    "        \n",
    "    def area_of_rectangle(self):\n",
    "        return (o.length * o.breadth)"
   ]
  },
  {
   "cell_type": "code",
   "execution_count": 104,
   "id": "bf3847fe",
   "metadata": {},
   "outputs": [],
   "source": [
    "class Rectangle:\n",
    "    def __init__(self,length,breadth): \n",
    "        self.__length = length   # __ => making variable private \n",
    "        self.__breadth = breadth\n",
    "        \n",
    "    def perimeter_of_rectangle(self):\n",
    "        return 2*(self.__length + self.__breadth)\n",
    "        \n",
    "    def area_of_rectangle(self):\n",
    "        return (self.__length * self.__breadth)"
   ]
  },
  {
   "cell_type": "code",
   "execution_count": null,
   "id": "5048c6e0",
   "metadata": {},
   "outputs": [],
   "source": []
  },
  {
   "cell_type": "code",
   "execution_count": 105,
   "id": "357e2406",
   "metadata": {},
   "outputs": [
    {
     "name": "stdout",
     "output_type": "stream",
     "text": [
      "45\n"
     ]
    }
   ],
   "source": [
    "r = Rectangle(5,9,)\n",
    "print(r.area_of_rectangle())"
   ]
  },
  {
   "cell_type": "code",
   "execution_count": 106,
   "id": "b1a31696",
   "metadata": {},
   "outputs": [],
   "source": [
    "r.length = 45"
   ]
  },
  {
   "cell_type": "code",
   "execution_count": 111,
   "id": "bbdb5d94",
   "metadata": {},
   "outputs": [
    {
     "name": "stdout",
     "output_type": "stream",
     "text": [
      "Inside Person Class\n",
      "Name : jane, Age : 32\n",
      "Inside Company Class\n",
      "company_name : Google, location : Atlanta\n",
      "Inside Employee Class\n",
      "salary : 12000, skill : AI\n"
     ]
    }
   ],
   "source": [
    "#parent class 1\n",
    "class Person:\n",
    "    def person_info(self,name,age):\n",
    "        print ('Inside Person Class')\n",
    "        print(f'Name : {name}, Age : {age}')\n",
    "#parent class 2\n",
    "class Company:\n",
    "    def company_info(self,company_name, location):\n",
    "        print ('Inside Company Class')\n",
    "        print(f'company_name : {company_name}, location : {location}')\n",
    "#child class\n",
    "class Employee(Person, Company):\n",
    "    def employee_info(self,salary,skill):\n",
    "        print ('Inside Employee Class')\n",
    "        print(f'salary : {salary}, skill : {skill}')\n",
    "    \n",
    "#Create object of employee\n",
    "emp = Employee()\n",
    "\n",
    "#access data\n",
    "emp.person_info('jane',32)\n",
    "emp.company_info('Google', 'Atlanta')\n",
    "emp.employee_info(12000,'AI')"
   ]
  },
  {
   "cell_type": "code",
   "execution_count": 115,
   "id": "dacc10df",
   "metadata": {},
   "outputs": [],
   "source": [
    "class Person:\n",
    "    def __init__(self,name,age,address):  #constructor => initializer\n",
    "        print(name,age,address)\n",
    "        self.name = name\n",
    "        self.age = age\n",
    "        self.address = address\n",
    "        \n",
    "    def info(self):\n",
    "        print(f\"name : {self.name}\")\n",
    "        print(f\"age : {self.age}\")\n",
    "        print(f\"address : {self.address}\")\n",
    "    \n",
    "    def eat(self): # outside of class function. method / characters / \n",
    "        print(\"Person is eating\")\n",
    "    def walk(self):\n",
    "        print(\"person is walking\")\n",
    "    def breath(self):\n",
    "        print(\"persin is breathing\")\n",
    "        \n",
    "class Student(Person):\n",
    "    def __init__(self,name,age,address, college,faculty, roll_no): \n",
    "        super().__init__(name,age,address)\n",
    "        self.name = name\n",
    "        self.age = age\n",
    "        self.address = address\n",
    "        self.college = college\n",
    "        self.faculty = faculty\n",
    "        self.roll_no = roll_no\n",
    "        self.subjects = []\n",
    "        \n",
    "        #method overriding\n",
    "    def info(self):\n",
    "        super().info()\n",
    "        print(f\"college : {self.college}\")\n",
    "        print(f\"faculty : {self.faculty}\")\n",
    "        print(f\"roll_no : {self.roll_no}\")\n",
    "        print(f\"subjects : {self.subjects}\")\n",
    "        \n",
    "    def learn(self):\n",
    "        print (f'Student is learning:{self.subjects}')\n",
    "        \n",
    "    def add_subjects(self, subject):\n",
    "        if subject not in self.subjects:\n",
    "            self.subjects.append(subject)\n",
    "            \n",
    "            \n",
    "class BachelorStudent(Student):\n",
    "    def __init__(self,name,age,address, college,faculty, roll_no, university): \n",
    "        super().__init__(name,age,address, college,faculty, roll_no)\n",
    "        self.college = college\n",
    "        self.faculty = faculty\n",
    "        self.roll_no = roll_no\n",
    "        self.university = university\n",
    "        self.subjects = []\n",
    "        \n",
    "        #method overriding\n",
    "    def info(self):\n",
    "        super().info()\n",
    "        print(f\"University : {self.university}\")\n"
   ]
  },
  {
   "cell_type": "code",
   "execution_count": 119,
   "id": "e9710a66",
   "metadata": {},
   "outputs": [
    {
     "name": "stdout",
     "output_type": "stream",
     "text": [
      "Ram 22 ktm\n",
      "name : Ram\n",
      "age : 22\n",
      "address : ktm\n",
      "college : CCRC\n",
      "faculty : IT\n",
      "roll_no : 1\n",
      "subjects : []\n",
      "University : TU\n"
     ]
    }
   ],
   "source": [
    "b1 = BachelorStudent ('Ram', 22, 'ktm', 'CCRC', 'IT', 1, 'TU')\n",
    "b1.info()"
   ]
  },
  {
   "cell_type": "code",
   "execution_count": null,
   "id": "43d81cb6",
   "metadata": {},
   "outputs": [],
   "source": []
  }
 ],
 "metadata": {
  "kernelspec": {
   "display_name": "Python 3 (ipykernel)",
   "language": "python",
   "name": "python3"
  },
  "language_info": {
   "codemirror_mode": {
    "name": "ipython",
    "version": 3
   },
   "file_extension": ".py",
   "mimetype": "text/x-python",
   "name": "python",
   "nbconvert_exporter": "python",
   "pygments_lexer": "ipython3",
   "version": "3.10.6"
  }
 },
 "nbformat": 4,
 "nbformat_minor": 5
}
