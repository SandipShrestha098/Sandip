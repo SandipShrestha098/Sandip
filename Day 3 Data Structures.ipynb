{
 "cells": [
  {
   "cell_type": "code",
   "execution_count": 1,
   "id": "ca1a35ac",
   "metadata": {},
   "outputs": [
    {
     "name": "stdout",
     "output_type": "stream",
     "text": [
      " hello\n"
     ]
    }
   ],
   "source": [
    "print (\" hello\") # print is a function"
   ]
  },
  {
   "cell_type": "code",
   "execution_count": 2,
   "id": "5d87f27f",
   "metadata": {},
   "outputs": [
    {
     "data": {
      "text/plain": [
       "10"
      ]
     },
     "execution_count": 2,
     "metadata": {},
     "output_type": "execute_result"
    }
   ],
   "source": [
    "int (\" 10 \") # built in namespace"
   ]
  },
  {
   "cell_type": "code",
   "execution_count": 3,
   "id": "fc0adfba",
   "metadata": {},
   "outputs": [],
   "source": [
    "x = 'hello' # global namespace\n",
    "y = 3"
   ]
  },
  {
   "cell_type": "code",
   "execution_count": 4,
   "id": "1be1f72b",
   "metadata": {},
   "outputs": [],
   "source": [
    "def hello():\n",
    "    name = 'ramesh' # local namespace\n",
    "    print(name)"
   ]
  },
  {
   "cell_type": "code",
   "execution_count": 5,
   "id": "8365b759",
   "metadata": {},
   "outputs": [
    {
     "name": "stdout",
     "output_type": "stream",
     "text": [
      "ramesh\n"
     ]
    }
   ],
   "source": [
    "hello()"
   ]
  },
  {
   "cell_type": "code",
   "execution_count": 6,
   "id": "f2778d82",
   "metadata": {},
   "outputs": [
    {
     "ename": "NameError",
     "evalue": "name 'name' is not defined",
     "output_type": "error",
     "traceback": [
      "\u001b[1;31m---------------------------------------------------------------------------\u001b[0m",
      "\u001b[1;31mNameError\u001b[0m                                 Traceback (most recent call last)",
      "Cell \u001b[1;32mIn [6], line 1\u001b[0m\n\u001b[1;32m----> 1\u001b[0m \u001b[38;5;28mprint\u001b[39m(\u001b[43mname\u001b[49m)\n",
      "\u001b[1;31mNameError\u001b[0m: name 'name' is not defined"
     ]
    }
   ],
   "source": [
    "print(name)"
   ]
  },
  {
   "cell_type": "code",
   "execution_count": 8,
   "id": "a62fffe5",
   "metadata": {},
   "outputs": [
    {
     "name": "stdout",
     "output_type": "stream",
     "text": [
      "<class 'int'>\n",
      "True\n"
     ]
    }
   ],
   "source": [
    "x = 1\n",
    "print (type(x))\n",
    "print (isinstance(x, int))"
   ]
  },
  {
   "cell_type": "code",
   "execution_count": 9,
   "id": "8f53b39e",
   "metadata": {},
   "outputs": [
    {
     "name": "stdout",
     "output_type": "stream",
     "text": [
      "<class 'float'>\n",
      "True\n"
     ]
    }
   ],
   "source": [
    "x = 1.1\n",
    "print (type(x))\n",
    "print (isinstance(x, float))"
   ]
  },
  {
   "cell_type": "code",
   "execution_count": 10,
   "id": "a714e6bd",
   "metadata": {},
   "outputs": [
    {
     "name": "stdout",
     "output_type": "stream",
     "text": [
      "<class 'str'>\n",
      "True\n"
     ]
    }
   ],
   "source": [
    "x = '1'\n",
    "print (type(x))\n",
    "print (isinstance(x, str))"
   ]
  },
  {
   "cell_type": "code",
   "execution_count": 12,
   "id": "65283f8d",
   "metadata": {},
   "outputs": [
    {
     "name": "stdout",
     "output_type": "stream",
     "text": [
      "0.12345678901234568\n"
     ]
    }
   ],
   "source": [
    "a = 0.12345678901234567890 #total no of numbers after decimal displayed is 17\n",
    "print(a)"
   ]
  },
  {
   "cell_type": "code",
   "execution_count": 13,
   "id": "a308adc9",
   "metadata": {},
   "outputs": [
    {
     "data": {
      "text/plain": [
       "False"
      ]
     },
     "execution_count": 13,
     "metadata": {},
     "output_type": "execute_result"
    }
   ],
   "source": [
    "(1.1 + 2.2) == 3.3 # this should be true according to general maths"
   ]
  },
  {
   "cell_type": "code",
   "execution_count": 14,
   "id": "119f8e98",
   "metadata": {},
   "outputs": [
    {
     "data": {
      "text/plain": [
       "3.3000000000000003"
      ]
     },
     "execution_count": 14,
     "metadata": {},
     "output_type": "execute_result"
    }
   ],
   "source": [
    "1.1 + 2.2  # float numbers are not precise in python"
   ]
  },
  {
   "cell_type": "code",
   "execution_count": 18,
   "id": "370dba6e",
   "metadata": {},
   "outputs": [
    {
     "name": "stdout",
     "output_type": "stream",
     "text": [
      "3.3\n",
      "3.000\n"
     ]
    }
   ],
   "source": [
    "from decimal import Decimal as D\n",
    "print(D('1.1') + D('2.2'))\n",
    "print(D('1.2') * D('2.50'))"
   ]
  },
  {
   "cell_type": "code",
   "execution_count": 19,
   "id": "93b6ae75",
   "metadata": {},
   "outputs": [
    {
     "name": "stdout",
     "output_type": "stream",
     "text": [
      "3.300000000000000266453525910\n"
     ]
    }
   ],
   "source": [
    "print(D(1.1) + D(2.2)) # we should always use integer inside decimal as string"
   ]
  },
  {
   "cell_type": "code",
   "execution_count": 20,
   "id": "ee630805",
   "metadata": {},
   "outputs": [
    {
     "name": "stdout",
     "output_type": "stream",
     "text": [
      "3/2\n",
      "9\n",
      "1/6\n"
     ]
    }
   ],
   "source": [
    "from fractions import Fraction as F\n",
    "print (F(1.5))\n",
    "print (F(9))\n",
    "print (F(1,6))"
   ]
  },
  {
   "cell_type": "code",
   "execution_count": 21,
   "id": "1a63ab1a",
   "metadata": {},
   "outputs": [
    {
     "name": "stdout",
     "output_type": "stream",
     "text": [
      "2476979795053773/2251799813685248\n",
      "11/10\n"
     ]
    }
   ],
   "source": [
    "print(F(1.1))\n",
    "print(F('1.1'))"
   ]
  },
  {
   "cell_type": "code",
   "execution_count": 23,
   "id": "757e0142",
   "metadata": {},
   "outputs": [
    {
     "name": "stdout",
     "output_type": "stream",
     "text": [
      "a\n"
     ]
    }
   ],
   "source": [
    "import random\n",
    "\n",
    "x = ['a', 'b', 'c', 'd', 'e'] #x is a list class of variables\n",
    "\n",
    "print(random.choice(x)) # get random choice from x"
   ]
  },
  {
   "cell_type": "code",
   "execution_count": 24,
   "id": "aca94f8c",
   "metadata": {},
   "outputs": [
    {
     "name": "stdout",
     "output_type": "stream",
     "text": [
      "0.013366503419613318\n"
     ]
    }
   ],
   "source": [
    "print(random.random())"
   ]
  },
  {
   "cell_type": "code",
   "execution_count": 25,
   "id": "69bfee10",
   "metadata": {},
   "outputs": [
    {
     "name": "stdout",
     "output_type": "stream",
     "text": [
      "Help on built-in function random:\n",
      "\n",
      "random() method of random.Random instance\n",
      "    random() -> x in the interval [0, 1).\n",
      "\n"
     ]
    }
   ],
   "source": [
    "help (random.random)"
   ]
  },
  {
   "cell_type": "code",
   "execution_count": 27,
   "id": "c1c51f12",
   "metadata": {},
   "outputs": [
    {
     "name": "stdout",
     "output_type": "stream",
     "text": [
      "Help on method choice in module random:\n",
      "\n",
      "choice(seq) method of random.Random instance\n",
      "    Choose a random element from a non-empty sequence.\n",
      "\n"
     ]
    }
   ],
   "source": [
    "help (random.choice)"
   ]
  },
  {
   "cell_type": "code",
   "execution_count": 28,
   "id": "910b98b6",
   "metadata": {},
   "outputs": [],
   "source": [
    "# immutuable => cannot be changed\n",
    "x = 'nepal'"
   ]
  },
  {
   "cell_type": "code",
   "execution_count": 29,
   "id": "570f48cb",
   "metadata": {},
   "outputs": [],
   "source": [
    "x = '''nepal'''"
   ]
  },
  {
   "cell_type": "code",
   "execution_count": 31,
   "id": "587552a6",
   "metadata": {},
   "outputs": [
    {
     "name": "stdout",
     "output_type": "stream",
     "text": [
      "nepal\n",
      "hello\n"
     ]
    }
   ],
   "source": [
    "x = 'nepal\\nhello'\n",
    "print(x)"
   ]
  },
  {
   "cell_type": "code",
   "execution_count": 33,
   "id": "ba640265",
   "metadata": {},
   "outputs": [
    {
     "name": "stdout",
     "output_type": "stream",
     "text": [
      "nepal\n",
      "hello\n",
      "\n",
      "world\n"
     ]
    }
   ],
   "source": [
    "x = '''nepal \n",
    "hello\n",
    "\n",
    "world'''  # triple quotation helps to break line as choice of user\n",
    "print(x)"
   ]
  },
  {
   "cell_type": "code",
   "execution_count": 34,
   "id": "de8504c6",
   "metadata": {},
   "outputs": [
    {
     "ename": "SyntaxError",
     "evalue": "invalid syntax (3225121355.py, line 1)",
     "output_type": "error",
     "traceback": [
      "\u001b[1;36m  Cell \u001b[1;32mIn [34], line 1\u001b[1;36m\u001b[0m\n\u001b[1;33m    y = ' I'm from kathmandu' ' # \\ is escaping character\u001b[0m\n\u001b[1;37m            ^\u001b[0m\n\u001b[1;31mSyntaxError\u001b[0m\u001b[1;31m:\u001b[0m invalid syntax\n"
     ]
    }
   ],
   "source": [
    "y = ' I'm from kathmandu' ' # \\ is escaping character\n",
    "\n",
    "print (y)"
   ]
  },
  {
   "cell_type": "code",
   "execution_count": 35,
   "id": "28cdfe66",
   "metadata": {},
   "outputs": [
    {
     "name": "stdout",
     "output_type": "stream",
     "text": [
      " I'm from kathmandu\n"
     ]
    }
   ],
   "source": [
    "y = ' I\\'m from kathmandu' \n",
    "print (y)"
   ]
  },
  {
   "cell_type": "code",
   "execution_count": 37,
   "id": "d1dd454d",
   "metadata": {},
   "outputs": [
    {
     "name": "stdout",
     "output_type": "stream",
     "text": [
      "I'm from kathmandu\n"
     ]
    }
   ],
   "source": [
    "y = \"I'm from kathmandu\"\n",
    "print (y)"
   ]
  },
  {
   "cell_type": "code",
   "execution_count": 42,
   "id": "6859b290",
   "metadata": {},
   "outputs": [
    {
     "name": "stdout",
     "output_type": "stream",
     "text": [
      ":\n"
     ]
    }
   ],
   "source": [
    "print (u\"\\u003a\")  # every character have their own unicode in python"
   ]
  },
  {
   "cell_type": "code",
   "execution_count": 46,
   "id": "9c50c4ac",
   "metadata": {},
   "outputs": [
    {
     "name": "stdout",
     "output_type": "stream",
     "text": [
      "p y t h o n\n"
     ]
    }
   ],
   "source": [
    "a,b,c,d,e,f = 'python' # unpacking string to variable\n",
    "print(a,b,c,d,e,f)"
   ]
  },
  {
   "cell_type": "code",
   "execution_count": 47,
   "id": "87e38aa8",
   "metadata": {},
   "outputs": [
    {
     "name": "stdout",
     "output_type": "stream",
     "text": [
      "p y t\n"
     ]
    }
   ],
   "source": [
    "print (a,b,c)"
   ]
  },
  {
   "cell_type": "code",
   "execution_count": 48,
   "id": "60801542",
   "metadata": {},
   "outputs": [
    {
     "ename": "ValueError",
     "evalue": "too many values to unpack (expected 3)",
     "output_type": "error",
     "traceback": [
      "\u001b[1;31m---------------------------------------------------------------------------\u001b[0m",
      "\u001b[1;31mValueError\u001b[0m                                Traceback (most recent call last)",
      "Cell \u001b[1;32mIn [48], line 1\u001b[0m\n\u001b[1;32m----> 1\u001b[0m a,b,c \u001b[38;5;241m=\u001b[39m \u001b[38;5;124m'\u001b[39m\u001b[38;5;124mpython\u001b[39m\u001b[38;5;124m'\u001b[39m \u001b[38;5;66;03m# unpacking string to variable\u001b[39;00m\n\u001b[0;32m      2\u001b[0m \u001b[38;5;28mprint\u001b[39m(a,b,c)\n",
      "\u001b[1;31mValueError\u001b[0m: too many values to unpack (expected 3)"
     ]
    }
   ],
   "source": [
    "a,b,c = 'python' # unpacking string to variable\n",
    "print(a,b,c)"
   ]
  },
  {
   "cell_type": "code",
   "execution_count": 51,
   "id": "9399f75d",
   "metadata": {},
   "outputs": [
    {
     "name": "stdout",
     "output_type": "stream",
     "text": [
      "p\n",
      "n\n",
      "n\n",
      "p\n"
     ]
    }
   ],
   "source": [
    "x = 'python' #indexing\n",
    "\n",
    "print(x[0])\n",
    "print(x[5])\n",
    "print(x[-1])\n",
    "print(x[-6])"
   ]
  },
  {
   "cell_type": "code",
   "execution_count": 50,
   "id": "d7d4582c",
   "metadata": {},
   "outputs": [
    {
     "ename": "IndexError",
     "evalue": "string index out of range",
     "output_type": "error",
     "traceback": [
      "\u001b[1;31m---------------------------------------------------------------------------\u001b[0m",
      "\u001b[1;31mIndexError\u001b[0m                                Traceback (most recent call last)",
      "Cell \u001b[1;32mIn [50], line 1\u001b[0m\n\u001b[1;32m----> 1\u001b[0m \u001b[38;5;28mprint\u001b[39m(\u001b[43mx\u001b[49m\u001b[43m[\u001b[49m\u001b[38;5;241;43m6\u001b[39;49m\u001b[43m]\u001b[49m)\n",
      "\u001b[1;31mIndexError\u001b[0m: string index out of range"
     ]
    }
   ],
   "source": [
    "print(x[6])"
   ]
  },
  {
   "cell_type": "code",
   "execution_count": 52,
   "id": "d2b67b09",
   "metadata": {},
   "outputs": [
    {
     "name": "stdout",
     "output_type": "stream",
     "text": [
      "pyth\n"
     ]
    }
   ],
   "source": [
    "print(x[0:4]) #slicing"
   ]
  },
  {
   "cell_type": "code",
   "execution_count": 53,
   "id": "0a261b08",
   "metadata": {},
   "outputs": [
    {
     "name": "stdout",
     "output_type": "stream",
     "text": [
      "pyth\n"
     ]
    }
   ],
   "source": [
    "print(f\"{x[0]}{x[1]}{x[2]}{x[3]}\")"
   ]
  },
  {
   "cell_type": "code",
   "execution_count": 54,
   "id": "3cb48570",
   "metadata": {},
   "outputs": [
    {
     "name": "stdout",
     "output_type": "stream",
     "text": [
      "ytho\n"
     ]
    }
   ],
   "source": [
    "print (x[1:5])"
   ]
  },
  {
   "cell_type": "code",
   "execution_count": 55,
   "id": "266b396b",
   "metadata": {},
   "outputs": [
    {
     "name": "stdout",
     "output_type": "stream",
     "text": [
      "ython\n"
     ]
    }
   ],
   "source": [
    "print (x[1:6])"
   ]
  },
  {
   "cell_type": "code",
   "execution_count": 56,
   "id": "045765a7",
   "metadata": {},
   "outputs": [
    {
     "name": "stdout",
     "output_type": "stream",
     "text": [
      "ython\n"
     ]
    }
   ],
   "source": [
    "print (x[1:6000])"
   ]
  },
  {
   "cell_type": "code",
   "execution_count": 57,
   "id": "f63178a3",
   "metadata": {},
   "outputs": [
    {
     "name": "stdout",
     "output_type": "stream",
     "text": [
      "python\n"
     ]
    }
   ],
   "source": [
    "print(x[:])"
   ]
  },
  {
   "cell_type": "code",
   "execution_count": 58,
   "id": "69fd876d",
   "metadata": {},
   "outputs": [
    {
     "name": "stdout",
     "output_type": "stream",
     "text": [
      "2072321513840\n"
     ]
    }
   ],
   "source": [
    "x = 'python'\n",
    "y = x \n",
    "print(id(x))"
   ]
  },
  {
   "cell_type": "code",
   "execution_count": 59,
   "id": "120222fa",
   "metadata": {},
   "outputs": [
    {
     "name": "stdout",
     "output_type": "stream",
     "text": [
      "2072321513840\n"
     ]
    }
   ],
   "source": [
    "x = 'python'\n",
    "y = x [:]\n",
    "print(id(x))"
   ]
  },
  {
   "cell_type": "code",
   "execution_count": 60,
   "id": "91c713fc",
   "metadata": {},
   "outputs": [
    {
     "name": "stdout",
     "output_type": "stream",
     "text": [
      "ytho\n"
     ]
    }
   ],
   "source": [
    "print (x[-5:-1])"
   ]
  },
  {
   "cell_type": "code",
   "execution_count": 61,
   "id": "1484458e",
   "metadata": {},
   "outputs": [
    {
     "name": "stdout",
     "output_type": "stream",
     "text": [
      "thon is my favourite programming langua\n"
     ]
    }
   ],
   "source": [
    "x = 'python is my favourite programming language'\n",
    "print(x[2:-2])"
   ]
  },
  {
   "cell_type": "code",
   "execution_count": 66,
   "id": "44c12246",
   "metadata": {},
   "outputs": [
    {
     "name": "stdout",
     "output_type": "stream",
     "text": [
      "pto\n"
     ]
    }
   ],
   "source": [
    "x = 'python is my favourite programming language'\n",
    "print(x[0:6:2])"
   ]
  },
  {
   "cell_type": "code",
   "execution_count": 8,
   "id": "14910929",
   "metadata": {},
   "outputs": [
    {
     "name": "stdout",
     "output_type": "stream",
     "text": [
      "egaugnal gnimmargorp etiruovaf ym si nohtyp\n"
     ]
    }
   ],
   "source": [
    "x = 'python is my favourite programming language'\n",
    "print(x[-1::-1]) # reverse string"
   ]
  },
  {
   "cell_type": "code",
   "execution_count": 7,
   "id": "121ad2f1",
   "metadata": {},
   "outputs": [
    {
     "name": "stdout",
     "output_type": "stream",
     "text": [
      "egaugnal gnimmargorp etiruovaf ym si nohtyp\n"
     ]
    }
   ],
   "source": [
    "x = 'python is my favourite programming language'\n",
    "print(x[::-1])"
   ]
  },
  {
   "cell_type": "code",
   "execution_count": null,
   "id": "acc295d4",
   "metadata": {},
   "outputs": [],
   "source": []
  }
 ],
 "metadata": {
  "kernelspec": {
   "display_name": "Python 3 (ipykernel)",
   "language": "python",
   "name": "python3"
  },
  "language_info": {
   "codemirror_mode": {
    "name": "ipython",
    "version": 3
   },
   "file_extension": ".py",
   "mimetype": "text/x-python",
   "name": "python",
   "nbconvert_exporter": "python",
   "pygments_lexer": "ipython3",
   "version": "3.10.6"
  }
 },
 "nbformat": 4,
 "nbformat_minor": 5
}
