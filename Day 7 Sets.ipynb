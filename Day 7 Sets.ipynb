{
 "cells": [
  {
   "cell_type": "code",
   "execution_count": 2,
   "id": "ae11fa3a",
   "metadata": {},
   "outputs": [
    {
     "name": "stdout",
     "output_type": "stream",
     "text": [
      "{1, 2, 3, 4}\n",
      "<class 'set'>\n"
     ]
    }
   ],
   "source": [
    "x= {1,2,3,4}\n",
    "print(x)\n",
    "print(type(x))"
   ]
  },
  {
   "cell_type": "code",
   "execution_count": 3,
   "id": "958e775c",
   "metadata": {},
   "outputs": [
    {
     "name": "stdout",
     "output_type": "stream",
     "text": [
      "{}\n",
      "<class 'dict'>\n"
     ]
    }
   ],
   "source": [
    "x = {}\n",
    "print(x)\n",
    "print(type(x))"
   ]
  },
  {
   "cell_type": "code",
   "execution_count": 5,
   "id": "82a0c1a6",
   "metadata": {},
   "outputs": [
    {
     "name": "stdout",
     "output_type": "stream",
     "text": [
      "set()\n",
      "<class 'set'>\n"
     ]
    }
   ],
   "source": [
    "x = set()\n",
    "print(x)\n",
    "print(type(x))"
   ]
  },
  {
   "cell_type": "code",
   "execution_count": 6,
   "id": "76022682",
   "metadata": {},
   "outputs": [
    {
     "name": "stdout",
     "output_type": "stream",
     "text": [
      "{1, 2, 3, 4, 5, 'hello'}\n"
     ]
    }
   ],
   "source": [
    "x = {'hello', 5,1,3,2,4} # under collection\n",
    "print (x)"
   ]
  },
  {
   "cell_type": "code",
   "execution_count": 7,
   "id": "a77d9caf",
   "metadata": {},
   "outputs": [
    {
     "name": "stdout",
     "output_type": "stream",
     "text": [
      "{1, 2, 3, 4, 5, 'hello'}\n"
     ]
    }
   ],
   "source": [
    "x = {'hello', 5,1,3,2,4,5} # unique data only\n",
    "print(x)"
   ]
  },
  {
   "cell_type": "code",
   "execution_count": 8,
   "id": "b96ea76b",
   "metadata": {},
   "outputs": [
    {
     "ename": "TypeError",
     "evalue": "'set' object is not subscriptable",
     "output_type": "error",
     "traceback": [
      "\u001b[1;31m---------------------------------------------------------------------------\u001b[0m",
      "\u001b[1;31mTypeError\u001b[0m                                 Traceback (most recent call last)",
      "Cell \u001b[1;32mIn [8], line 2\u001b[0m\n\u001b[0;32m      1\u001b[0m x \u001b[38;5;241m=\u001b[39m {\u001b[38;5;124m'\u001b[39m\u001b[38;5;124mhello\u001b[39m\u001b[38;5;124m'\u001b[39m, \u001b[38;5;241m5\u001b[39m,\u001b[38;5;241m1\u001b[39m,\u001b[38;5;241m3\u001b[39m,\u001b[38;5;241m2\u001b[39m,\u001b[38;5;241m4\u001b[39m,\u001b[38;5;241m5\u001b[39m} \u001b[38;5;66;03m# unique data only\u001b[39;00m\n\u001b[1;32m----> 2\u001b[0m \u001b[38;5;28mprint\u001b[39m(\u001b[43mx\u001b[49m\u001b[43m[\u001b[49m\u001b[38;5;241;43m1\u001b[39;49m\u001b[43m]\u001b[49m)\n",
      "\u001b[1;31mTypeError\u001b[0m: 'set' object is not subscriptable"
     ]
    }
   ],
   "source": [
    "x = {'hello', 5,1,3,2,4,5} \n",
    "print(x[1])"
   ]
  },
  {
   "cell_type": "code",
   "execution_count": 9,
   "id": "f2b83f02",
   "metadata": {},
   "outputs": [
    {
     "name": "stdout",
     "output_type": "stream",
     "text": [
      "{1, 2, 3, 4, 5, 'hello', 6}\n"
     ]
    }
   ],
   "source": [
    "x = {'hello', 5,1,3,2,4,5} \n",
    "x.add(6)\n",
    "print(x)"
   ]
  },
  {
   "cell_type": "code",
   "execution_count": 11,
   "id": "9c262a22",
   "metadata": {},
   "outputs": [
    {
     "name": "stdout",
     "output_type": "stream",
     "text": [
      "{1, 2, 3, 4, 5, 7, 9, 22, 'hello'}\n"
     ]
    }
   ],
   "source": [
    "x = {'hello', 5,1,3,2,4,5} \n",
    "x.update([3,22,7,9])\n",
    "print(x)"
   ]
  },
  {
   "cell_type": "code",
   "execution_count": 13,
   "id": "97257ab8",
   "metadata": {},
   "outputs": [
    {
     "ename": "TypeError",
     "evalue": "unhashable type: 'list'",
     "output_type": "error",
     "traceback": [
      "\u001b[1;31m---------------------------------------------------------------------------\u001b[0m",
      "\u001b[1;31mTypeError\u001b[0m                                 Traceback (most recent call last)",
      "Cell \u001b[1;32mIn [13], line 2\u001b[0m\n\u001b[0;32m      1\u001b[0m x \u001b[38;5;241m=\u001b[39m {\u001b[38;5;124m'\u001b[39m\u001b[38;5;124mhello\u001b[39m\u001b[38;5;124m'\u001b[39m, \u001b[38;5;241m5\u001b[39m,\u001b[38;5;241m1\u001b[39m,\u001b[38;5;241m3\u001b[39m,\u001b[38;5;241m2\u001b[39m,\u001b[38;5;241m4\u001b[39m,\u001b[38;5;241m5\u001b[39m} \u001b[38;5;66;03m#hashable object => immutable object\u001b[39;00m\n\u001b[1;32m----> 2\u001b[0m \u001b[43mx\u001b[49m\u001b[38;5;241;43m.\u001b[39;49m\u001b[43madd\u001b[49m\u001b[43m(\u001b[49m\u001b[43m[\u001b[49m\u001b[38;5;241;43m3\u001b[39;49m\u001b[43m,\u001b[49m\u001b[38;5;241;43m22\u001b[39;49m\u001b[43m,\u001b[49m\u001b[38;5;241;43m7\u001b[39;49m\u001b[43m,\u001b[49m\u001b[38;5;241;43m9\u001b[39;49m\u001b[43m]\u001b[49m\u001b[43m)\u001b[49m\n\u001b[0;32m      3\u001b[0m \u001b[38;5;28mprint\u001b[39m(x)\n",
      "\u001b[1;31mTypeError\u001b[0m: unhashable type: 'list'"
     ]
    }
   ],
   "source": [
    "x = {'hello', 5,1,3,2,4,5} #hashable object => immutable object\n",
    "x.add([3,22,7,9])\n",
    "print(x)"
   ]
  },
  {
   "cell_type": "code",
   "execution_count": 14,
   "id": "1e4160bb",
   "metadata": {},
   "outputs": [
    {
     "ename": "TypeError",
     "evalue": "unhashable type: 'set'",
     "output_type": "error",
     "traceback": [
      "\u001b[1;31m---------------------------------------------------------------------------\u001b[0m",
      "\u001b[1;31mTypeError\u001b[0m                                 Traceback (most recent call last)",
      "Cell \u001b[1;32mIn [14], line 2\u001b[0m\n\u001b[0;32m      1\u001b[0m x \u001b[38;5;241m=\u001b[39m {\u001b[38;5;124m'\u001b[39m\u001b[38;5;124mhello\u001b[39m\u001b[38;5;124m'\u001b[39m, \u001b[38;5;241m5\u001b[39m,\u001b[38;5;241m1\u001b[39m,\u001b[38;5;241m3\u001b[39m,\u001b[38;5;241m2\u001b[39m,\u001b[38;5;241m4\u001b[39m,\u001b[38;5;241m5\u001b[39m} \u001b[38;5;66;03m#hashable object => immutable object\u001b[39;00m\n\u001b[1;32m----> 2\u001b[0m \u001b[43mx\u001b[49m\u001b[38;5;241;43m.\u001b[39;49m\u001b[43madd\u001b[49m\u001b[43m(\u001b[49m\u001b[43m{\u001b[49m\u001b[38;5;241;43m3\u001b[39;49m\u001b[43m,\u001b[49m\u001b[38;5;241;43m22\u001b[39;49m\u001b[43m,\u001b[49m\u001b[38;5;241;43m7\u001b[39;49m\u001b[43m,\u001b[49m\u001b[38;5;241;43m9\u001b[39;49m\u001b[43m}\u001b[49m\u001b[43m)\u001b[49m\n\u001b[0;32m      3\u001b[0m \u001b[38;5;28mprint\u001b[39m(x)\n",
      "\u001b[1;31mTypeError\u001b[0m: unhashable type: 'set'"
     ]
    }
   ],
   "source": [
    "x = {'hello', 5,1,3,2,4,5} #hashable object => immutable object\n",
    "x.add({3,22,7,9})\n",
    "print(x)"
   ]
  },
  {
   "cell_type": "code",
   "execution_count": 16,
   "id": "9b2459aa",
   "metadata": {},
   "outputs": [
    {
     "name": "stdout",
     "output_type": "stream",
     "text": [
      "{1, 2, 3, 4, 5, 'hello', (3, 22, 7, 9)}\n"
     ]
    }
   ],
   "source": [
    "x = {'hello', 5,1,3,2,4,5} #hashable object => immutable object\n",
    "x.add((3,22,7,9)) #tuples can be added\n",
    "print(x)"
   ]
  },
  {
   "cell_type": "code",
   "execution_count": 17,
   "id": "35b182a0",
   "metadata": {},
   "outputs": [
    {
     "name": "stdout",
     "output_type": "stream",
     "text": [
      "{1, 2, 3, 4, 'hello'}\n"
     ]
    }
   ],
   "source": [
    "x = {'hello', 5,1,3,2,4,5}\n",
    "x.remove(5)\n",
    "print(x)"
   ]
  },
  {
   "cell_type": "code",
   "execution_count": 18,
   "id": "4147aff2",
   "metadata": {},
   "outputs": [
    {
     "ename": "KeyError",
     "evalue": "15",
     "output_type": "error",
     "traceback": [
      "\u001b[1;31m---------------------------------------------------------------------------\u001b[0m",
      "\u001b[1;31mKeyError\u001b[0m                                  Traceback (most recent call last)",
      "Cell \u001b[1;32mIn [18], line 2\u001b[0m\n\u001b[0;32m      1\u001b[0m x \u001b[38;5;241m=\u001b[39m {\u001b[38;5;124m'\u001b[39m\u001b[38;5;124mhello\u001b[39m\u001b[38;5;124m'\u001b[39m, \u001b[38;5;241m5\u001b[39m,\u001b[38;5;241m1\u001b[39m,\u001b[38;5;241m3\u001b[39m,\u001b[38;5;241m2\u001b[39m,\u001b[38;5;241m4\u001b[39m,\u001b[38;5;241m5\u001b[39m} \n\u001b[1;32m----> 2\u001b[0m \u001b[43mx\u001b[49m\u001b[38;5;241;43m.\u001b[39;49m\u001b[43mremove\u001b[49m\u001b[43m(\u001b[49m\u001b[38;5;241;43m15\u001b[39;49m\u001b[43m)\u001b[49m\n\u001b[0;32m      3\u001b[0m \u001b[38;5;28mprint\u001b[39m(x)\n",
      "\u001b[1;31mKeyError\u001b[0m: 15"
     ]
    }
   ],
   "source": [
    "x = {'hello', 5,1,3,2,4,5} \n",
    "x.remove(15)\n",
    "print(x)"
   ]
  },
  {
   "cell_type": "code",
   "execution_count": 19,
   "id": "cd907150",
   "metadata": {},
   "outputs": [
    {
     "name": "stdout",
     "output_type": "stream",
     "text": [
      "{1, 2, 3, 4, 'hello'}\n"
     ]
    }
   ],
   "source": [
    "x = {'hello', 5,1,3,2,4,5} \n",
    "x.discard(5)\n",
    "print(x)"
   ]
  },
  {
   "cell_type": "code",
   "execution_count": 21,
   "id": "cfa7fae0",
   "metadata": {},
   "outputs": [
    {
     "name": "stdout",
     "output_type": "stream",
     "text": [
      "{1, 2, 3, 4, 5, 'hello'}\n"
     ]
    }
   ],
   "source": [
    "x = {'hello', 5,1,3,2,4,5} \n",
    "x.discard(15)\n",
    "print(x)"
   ]
  },
  {
   "cell_type": "code",
   "execution_count": 22,
   "id": "f59d712c",
   "metadata": {},
   "outputs": [
    {
     "name": "stdout",
     "output_type": "stream",
     "text": [
      "{2, 3, 4, 5, 'hello'}\n"
     ]
    }
   ],
   "source": [
    "x = {'hello', 5,1,3,2,4,5} \n",
    "x.pop()\n",
    "print(x)"
   ]
  },
  {
   "cell_type": "code",
   "execution_count": 23,
   "id": "316fcba2",
   "metadata": {},
   "outputs": [
    {
     "name": "stdout",
     "output_type": "stream",
     "text": [
      "set()\n"
     ]
    }
   ],
   "source": [
    "x = {'hello', 5,1,3,2,4,5} \n",
    "x.clear()\n",
    "print(x)"
   ]
  },
  {
   "cell_type": "code",
   "execution_count": 24,
   "id": "78397b1e",
   "metadata": {},
   "outputs": [
    {
     "name": "stdout",
     "output_type": "stream",
     "text": [
      "{'hari', 'shyam', 'gita', 'sita', 'ram'}\n"
     ]
    }
   ],
   "source": [
    "tea = {'ram', 'shyam', 'sita'}\n",
    "coffee = {'hari', 'shyam', 'gita'}\n",
    "\n",
    "tea_or_coffee = tea | coffee #union\n",
    "print ( tea_or_coffee)"
   ]
  },
  {
   "cell_type": "code",
   "execution_count": 25,
   "id": "711b5264",
   "metadata": {},
   "outputs": [
    {
     "name": "stdout",
     "output_type": "stream",
     "text": [
      "{'hari', 'shyam', 'gita', 'sita', 'ram'}\n"
     ]
    }
   ],
   "source": [
    "tea = {'ram', 'shyam', 'sita'}\n",
    "coffee = {'hari', 'shyam', 'gita'}\n",
    "\n",
    "tea_or_coffee = tea.union(coffee) #union\n",
    "print ( tea_or_coffee)"
   ]
  },
  {
   "cell_type": "code",
   "execution_count": 26,
   "id": "6bc99370",
   "metadata": {},
   "outputs": [
    {
     "name": "stdout",
     "output_type": "stream",
     "text": [
      "{'shyam'}\n"
     ]
    }
   ],
   "source": [
    "tea = {'ram', 'shyam', 'sita'}\n",
    "coffee = {'hari', 'shyam', 'gita'}\n",
    "\n",
    "tea_and_coffee = tea & coffee #intersection\n",
    "print ( tea_and_coffee)"
   ]
  },
  {
   "cell_type": "code",
   "execution_count": 27,
   "id": "6f600fdd",
   "metadata": {},
   "outputs": [
    {
     "name": "stdout",
     "output_type": "stream",
     "text": [
      "{'shyam'}\n"
     ]
    }
   ],
   "source": [
    "tea = {'ram', 'shyam', 'sita'}\n",
    "coffee = {'hari', 'shyam', 'gita'}\n",
    "\n",
    "tea_and_coffee = tea.intersection(coffee) #intersection\n",
    "print ( tea_and_coffee)"
   ]
  },
  {
   "cell_type": "code",
   "execution_count": 28,
   "id": "f2149f2d",
   "metadata": {},
   "outputs": [
    {
     "name": "stdout",
     "output_type": "stream",
     "text": [
      "{'ram', 'sita'}\n"
     ]
    }
   ],
   "source": [
    "tea = {'ram', 'shyam', 'sita'}\n",
    "coffee = {'hari', 'shyam', 'gita'}\n",
    "\n",
    "tea_only = tea - coffee #difference\n",
    "print ( tea_only)"
   ]
  },
  {
   "cell_type": "code",
   "execution_count": 29,
   "id": "9d567e20",
   "metadata": {},
   "outputs": [
    {
     "name": "stdout",
     "output_type": "stream",
     "text": [
      "{'ram', 'sita'}\n"
     ]
    }
   ],
   "source": [
    "tea = {'ram', 'shyam', 'sita'}\n",
    "coffee = {'hari', 'shyam', 'gita'}\n",
    "\n",
    "tea_only = tea.difference(coffee) #difference\n",
    "print ( tea_only)"
   ]
  },
  {
   "cell_type": "code",
   "execution_count": 30,
   "id": "6f5742dc",
   "metadata": {},
   "outputs": [
    {
     "name": "stdout",
     "output_type": "stream",
     "text": [
      "{'hari', 'gita'}\n"
     ]
    }
   ],
   "source": [
    "tea = {'ram', 'shyam', 'sita'}\n",
    "coffee = {'hari', 'shyam', 'gita'}\n",
    "\n",
    "coffee_only = coffee - tea #difference\n",
    "print ( coffee_only)"
   ]
  },
  {
   "cell_type": "code",
   "execution_count": 34,
   "id": "0de229c9",
   "metadata": {},
   "outputs": [
    {
     "name": "stdout",
     "output_type": "stream",
     "text": [
      "{'hari', 'gita'}\n",
      "{'hari', 'shyam', 'gita'}\n"
     ]
    }
   ],
   "source": [
    "tea = {'ram', 'shyam', 'sita'}\n",
    "coffee = {'hari', 'shyam', 'gita'}\n",
    "\n",
    "coffee_only = coffee.difference(tea) #difference\n",
    "print ( coffee_only)\n",
    "print (coffee)"
   ]
  },
  {
   "cell_type": "code",
   "execution_count": 33,
   "id": "d7b3e7cb",
   "metadata": {},
   "outputs": [
    {
     "name": "stdout",
     "output_type": "stream",
     "text": [
      "{'hari', 'gita'}\n"
     ]
    }
   ],
   "source": [
    "tea = {'ram', 'shyam', 'sita'}\n",
    "coffee = {'hari', 'shyam', 'gita'}\n",
    "\n",
    "coffee.difference_update(tea) #difference\n",
    "print (coffee)"
   ]
  },
  {
   "cell_type": "code",
   "execution_count": 35,
   "id": "ae1e90b4",
   "metadata": {},
   "outputs": [
    {
     "name": "stdout",
     "output_type": "stream",
     "text": [
      "{'ram', 'hari', 'gita', 'sita'}\n"
     ]
    }
   ],
   "source": [
    "tea = {'ram', 'shyam', 'sita'}\n",
    "coffee = {'hari', 'shyam', 'gita'}\n",
    "\n",
    "coffee_only_and_tea_only = tea ^ coffee #symmetric difference\n",
    "print ( coffee_only_and_tea_only)"
   ]
  },
  {
   "cell_type": "code",
   "execution_count": 36,
   "id": "715b1c67",
   "metadata": {},
   "outputs": [
    {
     "name": "stdout",
     "output_type": "stream",
     "text": [
      "{'ram', 'hari', 'gita', 'sita'}\n"
     ]
    }
   ],
   "source": [
    "tea = {'ram', 'shyam', 'sita'}\n",
    "coffee = {'hari', 'shyam', 'gita'}\n",
    "\n",
    "coffee_only_and_tea_only = tea.symmetric_difference(coffee)  #symmetric difference\n",
    "print ( coffee_only_and_tea_only)"
   ]
  },
  {
   "cell_type": "code",
   "execution_count": 38,
   "id": "a700873f",
   "metadata": {},
   "outputs": [
    {
     "name": "stdout",
     "output_type": "stream",
     "text": [
      "True\n",
      "False\n",
      "True\n"
     ]
    }
   ],
   "source": [
    "natural_no = {1,2,3,4,5,6}\n",
    "odd_no = {1,3,5}\n",
    "\n",
    "print(natural_no.issuperset(odd_no))\n",
    "print(odd_no.issuperset(natural_no))\n",
    "print(odd_no.issubset(natural_no))"
   ]
  },
  {
   "cell_type": "code",
   "execution_count": 39,
   "id": "02086abd",
   "metadata": {},
   "outputs": [
    {
     "name": "stdout",
     "output_type": "stream",
     "text": [
      "False\n",
      "False\n",
      "False\n"
     ]
    }
   ],
   "source": [
    "natural_no = {1,2,3,4,5,6}\n",
    "odd_no = {1,3,5,7}\n",
    "\n",
    "print(natural_no.issuperset(odd_no))\n",
    "print(odd_no.issuperset(natural_no))\n",
    "print(odd_no.issubset(natural_no))"
   ]
  },
  {
   "cell_type": "code",
   "execution_count": 40,
   "id": "1680011b",
   "metadata": {},
   "outputs": [
    {
     "data": {
      "text/plain": [
       "False"
      ]
     },
     "execution_count": 40,
     "metadata": {},
     "output_type": "execute_result"
    }
   ],
   "source": [
    "all([False, 0 , [], set(), {}, (), ''])"
   ]
  },
  {
   "cell_type": "code",
   "execution_count": 41,
   "id": "d01a6acb",
   "metadata": {},
   "outputs": [
    {
     "data": {
      "text/plain": [
       "False"
      ]
     },
     "execution_count": 41,
     "metadata": {},
     "output_type": "execute_result"
    }
   ],
   "source": [
    "all({0, 12, 32, 'hello'})"
   ]
  },
  {
   "cell_type": "code",
   "execution_count": 42,
   "id": "ece64350",
   "metadata": {},
   "outputs": [
    {
     "data": {
      "text/plain": [
       "32"
      ]
     },
     "execution_count": 42,
     "metadata": {},
     "output_type": "execute_result"
    }
   ],
   "source": [
    "max({0, 12, 32})"
   ]
  },
  {
   "cell_type": "code",
   "execution_count": 44,
   "id": "af0e20a8",
   "metadata": {},
   "outputs": [
    {
     "data": {
      "text/plain": [
       "'hello'"
      ]
     },
     "execution_count": 44,
     "metadata": {},
     "output_type": "execute_result"
    }
   ],
   "source": [
    "max({'hello', 'A', '1'})"
   ]
  },
  {
   "cell_type": "code",
   "execution_count": 45,
   "id": "fdcc7cb3",
   "metadata": {},
   "outputs": [
    {
     "data": {
      "text/plain": [
       "['1', 'A', 'hello']"
      ]
     },
     "execution_count": 45,
     "metadata": {},
     "output_type": "execute_result"
    }
   ],
   "source": [
    "sorted({'hello', 'A', '1'})"
   ]
  },
  {
   "cell_type": "code",
   "execution_count": 46,
   "id": "2cfc08b4",
   "metadata": {},
   "outputs": [
    {
     "ename": "TypeError",
     "evalue": "unsupported operand type(s) for +: 'int' and 'str'",
     "output_type": "error",
     "traceback": [
      "\u001b[1;31m---------------------------------------------------------------------------\u001b[0m",
      "\u001b[1;31mTypeError\u001b[0m                                 Traceback (most recent call last)",
      "Cell \u001b[1;32mIn [46], line 1\u001b[0m\n\u001b[1;32m----> 1\u001b[0m \u001b[38;5;28;43msum\u001b[39;49m\u001b[43m(\u001b[49m\u001b[43m{\u001b[49m\u001b[38;5;124;43m'\u001b[39;49m\u001b[38;5;124;43mhello\u001b[39;49m\u001b[38;5;124;43m'\u001b[39;49m\u001b[43m,\u001b[49m\u001b[43m \u001b[49m\u001b[38;5;124;43m'\u001b[39;49m\u001b[38;5;124;43mA\u001b[39;49m\u001b[38;5;124;43m'\u001b[39;49m\u001b[43m,\u001b[49m\u001b[43m \u001b[49m\u001b[38;5;124;43m'\u001b[39;49m\u001b[38;5;124;43m1\u001b[39;49m\u001b[38;5;124;43m'\u001b[39;49m\u001b[43m}\u001b[49m\u001b[43m)\u001b[49m\n",
      "\u001b[1;31mTypeError\u001b[0m: unsupported operand type(s) for +: 'int' and 'str'"
     ]
    }
   ],
   "source": [
    "sum({'hello', 'A', '1'})"
   ]
  },
  {
   "cell_type": "code",
   "execution_count": 47,
   "id": "7a876815",
   "metadata": {},
   "outputs": [
    {
     "data": {
      "text/plain": [
       "44"
      ]
     },
     "execution_count": 47,
     "metadata": {},
     "output_type": "execute_result"
    }
   ],
   "source": [
    "sum ({0,12,32})"
   ]
  },
  {
   "cell_type": "code",
   "execution_count": 48,
   "id": "9984993e",
   "metadata": {},
   "outputs": [
    {
     "data": {
      "text/plain": [
       "False"
      ]
     },
     "execution_count": 48,
     "metadata": {},
     "output_type": "execute_result"
    }
   ],
   "source": [
    "1 in {0,12,32}"
   ]
  },
  {
   "cell_type": "code",
   "execution_count": 50,
   "id": "b9de3d0d",
   "metadata": {},
   "outputs": [
    {
     "name": "stdout",
     "output_type": "stream",
     "text": [
      "0\n",
      "32\n",
      "12\n"
     ]
    }
   ],
   "source": [
    "for i in {0,12,32}:\n",
    "    print (i)"
   ]
  },
  {
   "cell_type": "code",
   "execution_count": 52,
   "id": "c2a55d83",
   "metadata": {},
   "outputs": [
    {
     "name": "stdout",
     "output_type": "stream",
     "text": [
      "0 32 12 "
     ]
    }
   ],
   "source": [
    "for i in {0,12,32}:\n",
    "    print (i, end = ' ')"
   ]
  },
  {
   "cell_type": "code",
   "execution_count": null,
   "id": "7aa90db3",
   "metadata": {},
   "outputs": [],
   "source": []
  },
  {
   "cell_type": "code",
   "execution_count": 53,
   "id": "d015de0a",
   "metadata": {},
   "outputs": [],
   "source": [
    "#control flow"
   ]
  },
  {
   "cell_type": "code",
   "execution_count": 54,
   "id": "b012f1da",
   "metadata": {},
   "outputs": [
    {
     "name": "stdout",
     "output_type": "stream",
     "text": [
      "3\n"
     ]
    }
   ],
   "source": [
    "a = 1\n",
    "b = 2\n",
    "\n",
    "sum = a + b\n",
    "print(sum)"
   ]
  },
  {
   "cell_type": "code",
   "execution_count": 58,
   "id": "0996b379",
   "metadata": {},
   "outputs": [],
   "source": [
    "a = 1\n",
    "b = 2\n",
    "\n",
    "sum = a + b\n",
    "\n",
    "if sum > 100: #flow control / decision making statement\n",
    "    print(sum)"
   ]
  },
  {
   "cell_type": "code",
   "execution_count": 60,
   "id": "bdf33e5e",
   "metadata": {},
   "outputs": [
    {
     "name": "stdout",
     "output_type": "stream",
     "text": [
      "pass\n",
      "welcome to python course\n"
     ]
    }
   ],
   "source": [
    "marks = 40\n",
    "\n",
    "if marks>= 40:\n",
    "    print(\"pass\")\n",
    "    \n",
    "print ('welcome to python course')"
   ]
  },
  {
   "cell_type": "code",
   "execution_count": 61,
   "id": "504445ab",
   "metadata": {},
   "outputs": [
    {
     "name": "stdout",
     "output_type": "stream",
     "text": [
      "welcome to python course\n"
     ]
    }
   ],
   "source": [
    "marks = 30\n",
    "\n",
    "if marks>= 40:\n",
    "    print(\"pass\")\n",
    "    \n",
    "print ('welcome to python course')"
   ]
  },
  {
   "cell_type": "code",
   "execution_count": 62,
   "id": "35d88fc8",
   "metadata": {},
   "outputs": [
    {
     "name": "stdout",
     "output_type": "stream",
     "text": [
      "num2 is greater than num1\n"
     ]
    }
   ],
   "source": [
    "num1 = 5\n",
    "num2 = 6\n",
    "\n",
    "if num1 > num2:\n",
    "    print('num1 is greater than num2')\n",
    "if num2 > num1:\n",
    "    print('num2 is greater than num1')\n"
   ]
  },
  {
   "cell_type": "code",
   "execution_count": 63,
   "id": "05cdb668",
   "metadata": {},
   "outputs": [
    {
     "name": "stdout",
     "output_type": "stream",
     "text": [
      "fail\n"
     ]
    }
   ],
   "source": [
    "marks = 30\n",
    "\n",
    "if marks>= 40:\n",
    "    print(\"pass\")\n",
    "else:\n",
    "    print(\"fail\")"
   ]
  },
  {
   "cell_type": "code",
   "execution_count": 67,
   "id": "17dc1d3d",
   "metadata": {},
   "outputs": [
    {
     "name": "stdout",
     "output_type": "stream",
     "text": [
      "pass\n"
     ]
    }
   ],
   "source": [
    "marks = [50,79,45,98,55,54,80,60]\n",
    "pass_count =0\n",
    "\n",
    "for m in marks:\n",
    "    if m>=40:\n",
    "        pass_count += 1\n",
    "        \n",
    "if pass_count == 8:\n",
    "    print('pass')"
   ]
  },
  {
   "cell_type": "code",
   "execution_count": 68,
   "id": "7b3e9fa1",
   "metadata": {},
   "outputs": [
    {
     "name": "stdout",
     "output_type": "stream",
     "text": [
      "fail\n"
     ]
    }
   ],
   "source": [
    "maths = 50\n",
    "science = 48\n",
    "social = 90\n",
    "nepali = 20\n",
    "eph = 70\n",
    "computer = 89\n",
    "health = 66\n",
    "opt_math = 59\n",
    "\n",
    "if maths >= 40 and science >= 40 and social >= 40 and nepali >= 40 and eph >= 40 and computer >=40 and health >=40 and opt_math >= 40:\n",
    "    print(\"pass\")\n",
    "else:\n",
    "    print(\"fail\")"
   ]
  },
  {
   "cell_type": "code",
   "execution_count": 73,
   "id": "b86e1733",
   "metadata": {},
   "outputs": [
    {
     "name": "stdout",
     "output_type": "stream",
     "text": [
      "you scored : 61.5 % \n"
     ]
    }
   ],
   "source": [
    "average = (maths+science+social+nepali+eph+computer+health+opt_math)/8\n",
    "print(f\"you scored : {average} % \")"
   ]
  },
  {
   "cell_type": "code",
   "execution_count": 75,
   "id": "5f5b17c4",
   "metadata": {},
   "outputs": [
    {
     "name": "stdout",
     "output_type": "stream",
     "text": [
      "please enter your username : admin\n",
      "please enter your password: admin\n",
      "welcome back\n"
     ]
    }
   ],
   "source": [
    "username = input('please enter your username : ')\n",
    "password = input('please enter your password: ')\n",
    "\n",
    "if username == \"admin\" and password == \"admin\":\n",
    "    print(\"welcome back\")\n",
    "else:\n",
    "    print(\"please check your details\")\n",
    "\n"
   ]
  },
  {
   "cell_type": "code",
   "execution_count": 78,
   "id": "734c75a1",
   "metadata": {},
   "outputs": [
    {
     "name": "stdout",
     "output_type": "stream",
     "text": [
      "please enter your username : helool\n",
      "please enter your password: hek\n",
      "welcome back\n"
     ]
    }
   ],
   "source": [
    "username = input('please enter your username : ')\n",
    "password = input('please enter your password: ')\n",
    "role =\"administrator\"\n",
    "\n",
    "if username == \"admin\" and password == \"admin\" or role == \"administrator\":\n",
    "    print(\"welcome back\")\n",
    "else:\n",
    "    print(\"please check your details\")"
   ]
  },
  {
   "cell_type": "code",
   "execution_count": 80,
   "id": "43e1b53a",
   "metadata": {},
   "outputs": [
    {
     "name": "stdout",
     "output_type": "stream",
     "text": [
      "fail\n",
      "you scored : 61.5 % \n",
      "C\n"
     ]
    }
   ],
   "source": [
    "maths = 50\n",
    "science = 48\n",
    "social = 90\n",
    "nepali = 20\n",
    "eph = 70\n",
    "computer = 89\n",
    "health = 66\n",
    "opt_math = 59\n",
    "\n",
    "if maths >= 40 and science >= 40 and social >= 40 and nepali >= 40 and eph >= 40 and computer >=40 and health >=40 and opt_math >= 40:\n",
    "    print(\"pass\")\n",
    "else:\n",
    "    print(\"fail\")\n",
    "    \n",
    "average = (maths+science+social+nepali+eph+computer+health+opt_math)/8\n",
    "print(f\"you scored : {average} % \")\n",
    "\n",
    "if average>= 90:\n",
    "    print (\"A\")\n",
    "if 89>= average >=70:\n",
    "    print (\"B\")\n",
    "if 69>= average >=60:\n",
    "    print(\"C\")\n",
    "if 59>= average >=50:\n",
    "    print(\"D\")\n",
    "if average< 40:\n",
    "    print(\"F\")"
   ]
  },
  {
   "cell_type": "code",
   "execution_count": null,
   "id": "ac0a4685",
   "metadata": {},
   "outputs": [],
   "source": []
  },
  {
   "cell_type": "code",
   "execution_count": null,
   "id": "6087ae98",
   "metadata": {},
   "outputs": [],
   "source": []
  },
  {
   "cell_type": "code",
   "execution_count": null,
   "id": "521207f4",
   "metadata": {},
   "outputs": [],
   "source": []
  },
  {
   "cell_type": "code",
   "execution_count": null,
   "id": "c5796cfe",
   "metadata": {},
   "outputs": [],
   "source": []
  },
  {
   "cell_type": "code",
   "execution_count": null,
   "id": "ec6a9f75",
   "metadata": {},
   "outputs": [],
   "source": []
  },
  {
   "cell_type": "code",
   "execution_count": null,
   "id": "54eeb64f",
   "metadata": {},
   "outputs": [],
   "source": []
  },
  {
   "cell_type": "code",
   "execution_count": null,
   "id": "8b5c4657",
   "metadata": {},
   "outputs": [],
   "source": []
  },
  {
   "cell_type": "code",
   "execution_count": null,
   "id": "71961173",
   "metadata": {},
   "outputs": [],
   "source": []
  }
 ],
 "metadata": {
  "kernelspec": {
   "display_name": "Python 3 (ipykernel)",
   "language": "python",
   "name": "python3"
  },
  "language_info": {
   "codemirror_mode": {
    "name": "ipython",
    "version": 3
   },
   "file_extension": ".py",
   "mimetype": "text/x-python",
   "name": "python",
   "nbconvert_exporter": "python",
   "pygments_lexer": "ipython3",
   "version": "3.10.6"
  }
 },
 "nbformat": 4,
 "nbformat_minor": 5
}
