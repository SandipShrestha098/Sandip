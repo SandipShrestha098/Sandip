{
 "cells": [
  {
   "cell_type": "code",
   "execution_count": 11,
   "id": "6a26fc2b",
   "metadata": {},
   "outputs": [],
   "source": [
    "def name(first_name , last_name):\n",
    " \n",
    "    full_name =     first_name + last_name\n",
    "    \n",
    "    return name\n",
    "    print (f\"My name is {first_name} {last_name}\")\n"
   ]
  },
  {
   "cell_type": "code",
   "execution_count": 12,
   "id": "100b51c2",
   "metadata": {},
   "outputs": [
    {
     "name": "stdout",
     "output_type": "stream",
     "text": [
      "Enter your first name sanfi\n",
      "Enter your last name sjdka\n"
     ]
    },
    {
     "data": {
      "text/plain": [
       "<function __main__.name(first_name, last_name)>"
      ]
     },
     "execution_count": 12,
     "metadata": {},
     "output_type": "execute_result"
    }
   ],
   "source": [
    "name(\"sandip\",\"shrestha\")"
   ]
  },
  {
   "cell_type": "code",
   "execution_count": 14,
   "id": "eab43a7a",
   "metadata": {},
   "outputs": [],
   "source": [
    "#p , t, r => simple interest\n",
    "#i = (p*t*r)/100"
   ]
  },
  {
   "cell_type": "code",
   "execution_count": 15,
   "id": "0de6032a",
   "metadata": {},
   "outputs": [],
   "source": [
    "def simple_interest(p,t,r):\n",
    "    si = (p*t*r)/100\n",
    "    return si"
   ]
  },
  {
   "cell_type": "code",
   "execution_count": 16,
   "id": "21d8d44c",
   "metadata": {},
   "outputs": [
    {
     "data": {
      "text/plain": [
       "5200.0"
      ]
     },
     "execution_count": 16,
     "metadata": {},
     "output_type": "execute_result"
    }
   ],
   "source": [
    "simple_interest (10000,4,13)"
   ]
  },
  {
   "cell_type": "code",
   "execution_count": 10,
   "id": "f2ef78f1",
   "metadata": {},
   "outputs": [],
   "source": [
    "def squares(numbers):\n",
    "    squared_list = []\n",
    "    for n in numbers:\n",
    "        squared_list.append(n**2)\n",
    "        \n",
    "    return squared_list"
   ]
  },
  {
   "cell_type": "code",
   "execution_count": 11,
   "id": "f2b38585",
   "metadata": {},
   "outputs": [
    {
     "data": {
      "text/plain": [
       "[1, 16, 225, 529, 1681, 9, 169]"
      ]
     },
     "execution_count": 11,
     "metadata": {},
     "output_type": "execute_result"
    }
   ],
   "source": [
    "numbers = [1,4,15,23,41,3,13]\n",
    "squares(numbers)"
   ]
  },
  {
   "cell_type": "code",
   "execution_count": 13,
   "id": "18f889c8",
   "metadata": {},
   "outputs": [],
   "source": [
    "numbers = [1,4,15,23,41,3,13,4,15,41,1]"
   ]
  },
  {
   "cell_type": "code",
   "execution_count": 14,
   "id": "ad7b80da",
   "metadata": {},
   "outputs": [],
   "source": [
    "def unique_only(numbers):\n",
    "    unique = list(set(numbers))\n",
    "    return unique\n",
    "    "
   ]
  },
  {
   "cell_type": "code",
   "execution_count": 16,
   "id": "53db7d0d",
   "metadata": {},
   "outputs": [
    {
     "data": {
      "text/plain": [
       "[1, 3, 4, 41, 13, 15, 23]"
      ]
     },
     "execution_count": 16,
     "metadata": {},
     "output_type": "execute_result"
    }
   ],
   "source": [
    "unique_only(numbers)"
   ]
  },
  {
   "cell_type": "code",
   "execution_count": 18,
   "id": "35757c6c",
   "metadata": {},
   "outputs": [],
   "source": [
    "def unique_only_loop(numbers):\n",
    "    unique_list = []\n",
    "    \n",
    "    for n in numbers:\n",
    "        if n not in unique_list:\n",
    "            unique_list.append(n)\n",
    "  \n",
    "    return unique_list\n",
    "    "
   ]
  },
  {
   "cell_type": "code",
   "execution_count": 19,
   "id": "c1213289",
   "metadata": {},
   "outputs": [
    {
     "data": {
      "text/plain": [
       "[1, 4, 15, 23, 41, 3, 13]"
      ]
     },
     "execution_count": 19,
     "metadata": {},
     "output_type": "execute_result"
    }
   ],
   "source": [
    "unique_only_loop(numbers)"
   ]
  },
  {
   "cell_type": "code",
   "execution_count": 23,
   "id": "5792a481",
   "metadata": {},
   "outputs": [],
   "source": [
    "def unique_and_sum(numbers):\n",
    "    unique_list = []\n",
    "    sum = 0\n",
    "    \n",
    "    for n in numbers:\n",
    "        if n not in unique_list:\n",
    "            unique_list.append(n)\n",
    "            sum += n\n",
    "  \n",
    "    return unique_list,sum\n",
    "\n",
    "    "
   ]
  },
  {
   "cell_type": "code",
   "execution_count": 24,
   "id": "6e056287",
   "metadata": {},
   "outputs": [
    {
     "data": {
      "text/plain": [
       "([1, 4, 15, 23, 41, 3, 13], 100)"
      ]
     },
     "execution_count": 24,
     "metadata": {},
     "output_type": "execute_result"
    }
   ],
   "source": [
    "unique_and_sum(numbers) #returned value is in the form of tuple"
   ]
  },
  {
   "cell_type": "code",
   "execution_count": 26,
   "id": "4fef2c6d",
   "metadata": {},
   "outputs": [
    {
     "name": "stdout",
     "output_type": "stream",
     "text": [
      "[1, 4, 15, 23, 41, 3, 13]\n",
      "100\n"
     ]
    }
   ],
   "source": [
    "unique_list, sum = unique_and_sum(numbers) # unpacking the tuple\n",
    "print(unique_list)\n",
    "print(sum)"
   ]
  },
  {
   "cell_type": "code",
   "execution_count": 28,
   "id": "9d764895",
   "metadata": {},
   "outputs": [],
   "source": [
    "numbers = [1,4,15,23,41,3,13,4,15,41,1]\n",
    "\n",
    "def odd_or_even_list(numbers):\n",
    "    odd_list = []\n",
    "    even_list = []\n",
    "    \n",
    "    for n in numbers:\n",
    "        if n % 2 == 1:\n",
    "            odd_list.append(n)\n",
    "        else:\n",
    "            even_list.append(n)\n",
    "    \n",
    "    return odd_list,even_list\n",
    "    "
   ]
  },
  {
   "cell_type": "code",
   "execution_count": 29,
   "id": "921f7205",
   "metadata": {},
   "outputs": [
    {
     "data": {
      "text/plain": [
       "([1, 15, 23, 41, 3, 13, 15, 41, 1], [4, 4])"
      ]
     },
     "execution_count": 29,
     "metadata": {},
     "output_type": "execute_result"
    }
   ],
   "source": [
    "odd_or_even_list(numbers)"
   ]
  },
  {
   "cell_type": "code",
   "execution_count": 30,
   "id": "cc16ace3",
   "metadata": {},
   "outputs": [],
   "source": [
    "def odd_or_even_unique(numbers):\n",
    "    odd_list = []\n",
    "    even_list = []\n",
    "    \n",
    "    for n in numbers:\n",
    "        if n % 2 == 1:\n",
    "            if n not in odd_list:\n",
    "                odd_list.append(n)\n",
    "        else:\n",
    "            if n not in even_list:\n",
    "                even_list.append(n)\n",
    "    \n",
    "    return odd_list,even_list\n",
    "    "
   ]
  },
  {
   "cell_type": "code",
   "execution_count": 31,
   "id": "96d96b0d",
   "metadata": {},
   "outputs": [
    {
     "data": {
      "text/plain": [
       "([1, 15, 23, 41, 3, 13], [4])"
      ]
     },
     "execution_count": 31,
     "metadata": {},
     "output_type": "execute_result"
    }
   ],
   "source": [
    "odd_or_even_unique(numbers)"
   ]
  },
  {
   "cell_type": "code",
   "execution_count": 32,
   "id": "77e7a973",
   "metadata": {},
   "outputs": [],
   "source": [
    "def unique_only_loop(numbers):\n",
    "    unique_list = []\n",
    "    \n",
    "    for n in numbers:\n",
    "        if n not in unique_list:\n",
    "            unique_list.append(n)\n",
    "  \n",
    "    return unique_list\n",
    "    \n",
    "def unique_and_sum(numbers):\n",
    "    unique_list = unique_only_loop(numbers)\n",
    "    sum = 0\n",
    "    \n",
    "    for n in unique_list:\n",
    "        sum += n\n",
    "  \n",
    "    return sum\n"
   ]
  },
  {
   "cell_type": "code",
   "execution_count": 36,
   "id": "0409ed6d",
   "metadata": {},
   "outputs": [],
   "source": [
    "birth_date = 1990\n",
    "def age_calculator(birth_date):\n",
    "    present_age = 2022 - birth_date\n",
    "    return present_age"
   ]
  },
  {
   "cell_type": "code",
   "execution_count": 37,
   "id": "bb2b5c85",
   "metadata": {},
   "outputs": [
    {
     "data": {
      "text/plain": [
       "32"
      ]
     },
     "execution_count": 37,
     "metadata": {},
     "output_type": "execute_result"
    }
   ],
   "source": [
    "age_calculator(birth_date)"
   ]
  },
  {
   "cell_type": "code",
   "execution_count": 47,
   "id": "f9fc4707",
   "metadata": {},
   "outputs": [
    {
     "name": "stdout",
     "output_type": "stream",
     "text": [
      "2022\n"
     ]
    }
   ],
   "source": [
    "from datetime import datetime\n",
    "today = datetime.utcnow().date().year #working with date and time\n",
    "print (today)"
   ]
  },
  {
   "cell_type": "code",
   "execution_count": 49,
   "id": "a05ec2f2",
   "metadata": {},
   "outputs": [],
   "source": [
    "def addition(a,b=1): # b=1 is default argument\n",
    "    return a+b"
   ]
  },
  {
   "cell_type": "code",
   "execution_count": 51,
   "id": "1a536203",
   "metadata": {},
   "outputs": [
    {
     "data": {
      "text/plain": [
       "7"
      ]
     },
     "execution_count": 51,
     "metadata": {},
     "output_type": "execute_result"
    }
   ],
   "source": [
    "addition(6)"
   ]
  },
  {
   "cell_type": "code",
   "execution_count": 52,
   "id": "8e688942",
   "metadata": {},
   "outputs": [
    {
     "data": {
      "text/plain": [
       "16"
      ]
     },
     "execution_count": 52,
     "metadata": {},
     "output_type": "execute_result"
    }
   ],
   "source": [
    "addition(7,9)"
   ]
  },
  {
   "cell_type": "code",
   "execution_count": 56,
   "id": "d30fa234",
   "metadata": {},
   "outputs": [],
   "source": [
    "def full_name_gen(first_name , last_name ,middle_name = \"\"):\n",
    "    full_name = f\"{first_name} {middle_name} {last_name}\"\n",
    "    \n",
    "    return full_name"
   ]
  },
  {
   "cell_type": "code",
   "execution_count": 58,
   "id": "2b251090",
   "metadata": {},
   "outputs": [
    {
     "data": {
      "text/plain": [
       "'sandip prasad Shrestha'"
      ]
     },
     "execution_count": 58,
     "metadata": {},
     "output_type": "execute_result"
    }
   ],
   "source": [
    "full_name_gen(\"sandip\",\"Shrestha\")"
   ]
  },
  {
   "cell_type": "code",
   "execution_count": 60,
   "id": "1a1eb875",
   "metadata": {},
   "outputs": [
    {
     "data": {
      "text/plain": [
       "'Sandip Shrestha Bahadur'"
      ]
     },
     "execution_count": 60,
     "metadata": {},
     "output_type": "execute_result"
    }
   ],
   "source": [
    "full_name_gen(\"Sandip\",\"Bahadur\",\"Shrestha\")"
   ]
  },
  {
   "cell_type": "code",
   "execution_count": 62,
   "id": "62a1b111",
   "metadata": {},
   "outputs": [
    {
     "data": {
      "text/plain": [
       "'Sandip Bahadur Shrestha'"
      ]
     },
     "execution_count": 62,
     "metadata": {},
     "output_type": "execute_result"
    }
   ],
   "source": [
    "full_name_gen(first_name = \"Sandip\",middle_name = \"Bahadur\",last_name = \"Shrestha\")"
   ]
  },
  {
   "cell_type": "code",
   "execution_count": 64,
   "id": "f7e29227",
   "metadata": {},
   "outputs": [
    {
     "ename": "SyntaxError",
     "evalue": "positional argument follows keyword argument (258108850.py, line 1)",
     "output_type": "error",
     "traceback": [
      "\u001b[1;36m  Cell \u001b[1;32mIn [64], line 1\u001b[1;36m\u001b[0m\n\u001b[1;33m    full_name_gen(first_name = \"Sandip\",middle_name = \"Bahadur\",Shrestha)\u001b[0m\n\u001b[1;37m                                                                        ^\u001b[0m\n\u001b[1;31mSyntaxError\u001b[0m\u001b[1;31m:\u001b[0m positional argument follows keyword argument\n"
     ]
    }
   ],
   "source": [
    "full_name_gen(first_name = \"Sandip\",middle_name = \"Bahadur\",Shrestha)"
   ]
  },
  {
   "cell_type": "code",
   "execution_count": 66,
   "id": "e1e82d25",
   "metadata": {},
   "outputs": [
    {
     "data": {
      "text/plain": [
       "'Sandip Bahadur Shrestha'"
      ]
     },
     "execution_count": 66,
     "metadata": {},
     "output_type": "execute_result"
    }
   ],
   "source": [
    "full_name_gen(\"Sandip\", \"Shrestha\",middle_name = \"Bahadur\")"
   ]
  },
  {
   "cell_type": "code",
   "execution_count": 67,
   "id": "38fd2d95",
   "metadata": {},
   "outputs": [],
   "source": [
    "def full_name_gen(first_name , last_name ,middle_name = \"\"):\n",
    "    \"\"\"generate full name from first, middle and last name\"\"\"\n",
    "    full_name = f\"{first_name} {middle_name} {last_name}\"\n",
    "    \n",
    "    return full_name"
   ]
  },
  {
   "cell_type": "code",
   "execution_count": 68,
   "id": "83728cdc",
   "metadata": {},
   "outputs": [
    {
     "name": "stdout",
     "output_type": "stream",
     "text": [
      "Help on function full_name_gen in module __main__:\n",
      "\n",
      "full_name_gen(first_name, last_name, middle_name='')\n",
      "    generate full name from first, middle and last name\n",
      "\n"
     ]
    }
   ],
   "source": [
    "help(full_name_gen)"
   ]
  },
  {
   "cell_type": "code",
   "execution_count": 71,
   "id": "18a017fb",
   "metadata": {},
   "outputs": [],
   "source": [
    "def check_return_value(first_name , last_name ,middle_name = \"\"):\n",
    "    full_name = f\"{first_name} {middle_name} {last_name}\"\n",
    "    \n",
    "    return 'hello_world'\n",
    "    return full_name"
   ]
  },
  {
   "cell_type": "code",
   "execution_count": 72,
   "id": "53b7858e",
   "metadata": {},
   "outputs": [
    {
     "data": {
      "text/plain": [
       "'hello_world'"
      ]
     },
     "execution_count": 72,
     "metadata": {},
     "output_type": "execute_result"
    }
   ],
   "source": [
    "check_return_value(\"Sandip\", \"Shrestha\",middle_name = \"Bahadur\")"
   ]
  },
  {
   "cell_type": "code",
   "execution_count": 79,
   "id": "5030ff43",
   "metadata": {},
   "outputs": [],
   "source": [
    "numbers = [1,4,15,23,41,3,13,4,15,41,1]\n",
    "def breaking_duplicate(numbers):\n",
    "    unique_list = []\n",
    "    \n",
    "    for n in numbers:\n",
    "        if n not in unique_list:\n",
    "            unique_list.append(n)\n",
    "        else:\n",
    "            break\n",
    "  \n",
    "    return unique_list\n",
    "    "
   ]
  },
  {
   "cell_type": "code",
   "execution_count": 80,
   "id": "9a86f025",
   "metadata": {},
   "outputs": [
    {
     "data": {
      "text/plain": [
       "[1, 4, 15, 23, 41, 3, 13]"
      ]
     },
     "execution_count": 80,
     "metadata": {},
     "output_type": "execute_result"
    }
   ],
   "source": [
    "breaking_duplicate(numbers)"
   ]
  },
  {
   "cell_type": "code",
   "execution_count": 81,
   "id": "da7b5f12",
   "metadata": {},
   "outputs": [],
   "source": [
    "def return_inside_loop(numbers):\n",
    "    unique_list = []\n",
    "    \n",
    "    for n in numbers:\n",
    "        if n in unique_list:\n",
    "            return unique_list\n",
    "        else:\n",
    "            unique_list.append(n)\n",
    "  \n",
    "    return unique_list\n",
    "    "
   ]
  },
  {
   "cell_type": "code",
   "execution_count": 82,
   "id": "46bf619c",
   "metadata": {},
   "outputs": [
    {
     "data": {
      "text/plain": [
       "[1, 4, 15, 23, 41, 3, 13]"
      ]
     },
     "execution_count": 82,
     "metadata": {},
     "output_type": "execute_result"
    }
   ],
   "source": [
    "return_inside_loop(numbers)"
   ]
  },
  {
   "cell_type": "code",
   "execution_count": 83,
   "id": "511dab3e",
   "metadata": {},
   "outputs": [],
   "source": [
    "def number_type(number):\n",
    "    if number > 0:\n",
    "        return \"Positive\"\n",
    "    elif number < 0 :\n",
    "        return \"Negative\"\n",
    "    else:\n",
    "        return \"0\""
   ]
  },
  {
   "cell_type": "code",
   "execution_count": 84,
   "id": "1d0b21bd",
   "metadata": {},
   "outputs": [
    {
     "data": {
      "text/plain": [
       "'Negative'"
      ]
     },
     "execution_count": 84,
     "metadata": {},
     "output_type": "execute_result"
    }
   ],
   "source": [
    "number_type(-7)"
   ]
  },
  {
   "cell_type": "code",
   "execution_count": null,
   "id": "b7e71dad",
   "metadata": {},
   "outputs": [],
   "source": []
  }
 ],
 "metadata": {
  "kernelspec": {
   "display_name": "Python 3 (ipykernel)",
   "language": "python",
   "name": "python3"
  },
  "language_info": {
   "codemirror_mode": {
    "name": "ipython",
    "version": 3
   },
   "file_extension": ".py",
   "mimetype": "text/x-python",
   "name": "python",
   "nbconvert_exporter": "python",
   "pygments_lexer": "ipython3",
   "version": "3.10.6"
  }
 },
 "nbformat": 4,
 "nbformat_minor": 5
}
