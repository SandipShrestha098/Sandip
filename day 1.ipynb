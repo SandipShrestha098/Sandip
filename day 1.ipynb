{
 "cells": [
  {
   "cell_type": "code",
   "execution_count": 1,
   "id": "de5ccc0e",
   "metadata": {},
   "outputs": [
    {
     "data": {
      "text/plain": [
       "2"
      ]
     },
     "execution_count": 1,
     "metadata": {},
     "output_type": "execute_result"
    }
   ],
   "source": [
    "1+1"
   ]
  },
  {
   "cell_type": "code",
   "execution_count": 2,
   "id": "7167f144",
   "metadata": {},
   "outputs": [
    {
     "name": "stdout",
     "output_type": "stream",
     "text": [
      "9\n"
     ]
    }
   ],
   "source": [
    "a=4 #integer type\n",
    "b=5.9 #float\n",
    "sum =a+b\n",
    "print (sum)"
   ]
  },
  {
   "cell_type": "code",
   "execution_count": 3,
   "id": "810a9579",
   "metadata": {},
   "outputs": [],
   "source": [
    "def square (num):\n",
    "    \"Function to find square of the value\"\n",
    "    return num**2\n"
   ]
  },
  {
   "cell_type": "code",
   "execution_count": 4,
   "id": "ae9dba99",
   "metadata": {},
   "outputs": [
    {
     "name": "stdout",
     "output_type": "stream",
     "text": [
      "Help on function square in module __main__:\n",
      "\n",
      "square(num)\n",
      "    Function to find square of the value\n",
      "\n"
     ]
    }
   ],
   "source": [
    "help(square)\n"
   ]
  },
  {
   "cell_type": "code",
   "execution_count": 5,
   "id": "0640c091",
   "metadata": {},
   "outputs": [
    {
     "name": "stdout",
     "output_type": "stream",
     "text": [
      "Hello World\n"
     ]
    }
   ],
   "source": [
    "print (\"Hello World\")"
   ]
  },
  {
   "cell_type": "code",
   "execution_count": 6,
   "id": "83b3ad74",
   "metadata": {},
   "outputs": [
    {
     "name": "stdout",
     "output_type": "stream",
     "text": [
      "ramesh\n"
     ]
    }
   ],
   "source": [
    "name =\"ramesh\"\n",
    "\n",
    "print (name)"
   ]
  },
  {
   "cell_type": "code",
   "execution_count": 7,
   "id": "7b08e6ec",
   "metadata": {},
   "outputs": [
    {
     "name": "stdout",
     "output_type": "stream",
     "text": [
      "hello ramesh\n"
     ]
    }
   ],
   "source": [
    "print(\"hello\",name)"
   ]
  },
  {
   "cell_type": "code",
   "execution_count": 11,
   "id": "b0dc0972",
   "metadata": {},
   "outputs": [
    {
     "name": "stdout",
     "output_type": "stream",
     "text": [
      "ramesh Kathmandu\n"
     ]
    }
   ],
   "source": [
    "address=\"Kathmandu\"\n",
    "print(name, address)"
   ]
  },
  {
   "cell_type": "code",
   "execution_count": 14,
   "id": "0d35383e",
   "metadata": {},
   "outputs": [
    {
     "name": "stdout",
     "output_type": "stream",
     "text": [
      "my name isramesh. I live in Kathmandu.\n"
     ]
    }
   ],
   "source": [
    "print(f\"my name is{name}. I live in {address}.\")"
   ]
  },
  {
   "cell_type": "code",
   "execution_count": 16,
   "id": "3e6e1b96",
   "metadata": {},
   "outputs": [
    {
     "name": "stdout",
     "output_type": "stream",
     "text": [
      "The sum of x and y is : 9\n"
     ]
    }
   ],
   "source": [
    "x=2\n",
    "y=7\n",
    "\n",
    "print(f\"The sum of x and y is : {x+y}\") #string interpolation"
   ]
  },
  {
   "cell_type": "code",
   "execution_count": 17,
   "id": "48865655",
   "metadata": {},
   "outputs": [
    {
     "name": "stdout",
     "output_type": "stream",
     "text": [
      "1 2 3 4 hello\n"
     ]
    }
   ],
   "source": [
    "x=1\n",
    "y=2\n",
    "z=3\n",
    "a=4\n",
    "\n",
    "print(x,y,z,a,\"hello\")"
   ]
  },
  {
   "cell_type": "code",
   "execution_count": 18,
   "id": "12651b9b",
   "metadata": {},
   "outputs": [
    {
     "name": "stdout",
     "output_type": "stream",
     "text": [
      "1#2#3#4#hello\n"
     ]
    }
   ],
   "source": [
    "x=1\n",
    "y=2\n",
    "z=3\n",
    "a=4\n",
    "\n",
    "print(x,y,z,a,\"hello\", sep=\"#\")"
   ]
  },
  {
   "cell_type": "code",
   "execution_count": 19,
   "id": "0be1c689",
   "metadata": {},
   "outputs": [
    {
     "name": "stdout",
     "output_type": "stream",
     "text": [
      "1#2#3#4#hello4"
     ]
    }
   ],
   "source": [
    "x=1\n",
    "y=2\n",
    "z=3\n",
    "a=4\n",
    "\n",
    "print(x,y,z,a,\"hello\", sep=\"#\" , end=\"4\")"
   ]
  },
  {
   "cell_type": "code",
   "execution_count": 20,
   "id": "dbd217a0",
   "metadata": {},
   "outputs": [
    {
     "name": "stdout",
     "output_type": "stream",
     "text": [
      "The value of x is 6 and y is 12\n"
     ]
    }
   ],
   "source": [
    "x= 6; y=12\n",
    "print('The value of x is {} and y is {}'. format (x,y))"
   ]
  },
  {
   "cell_type": "code",
   "execution_count": 21,
   "id": "2639d349",
   "metadata": {},
   "outputs": [
    {
     "name": "stdout",
     "output_type": "stream",
     "text": [
      "My name is ramesh. I live in Kathmandu\n"
     ]
    }
   ],
   "source": [
    "name =\"ramesh\"\n",
    "address=\"Kathmandu\"\n",
    "print('My name is {}. I live in {}'.format(name, address))"
   ]
  },
  {
   "cell_type": "code",
   "execution_count": 22,
   "id": "834d8a6c",
   "metadata": {},
   "outputs": [
    {
     "name": "stdout",
     "output_type": "stream",
     "text": [
      "My name is ramesh. I live in Kathmandu\n"
     ]
    }
   ],
   "source": [
    "name =\"ramesh\"\n",
    "address=\"Kathmandu\"\n",
    "print('My name is {x}. I live in {y}'.format(x=name, y=address))"
   ]
  },
  {
   "cell_type": "code",
   "execution_count": 23,
   "id": "4133f94d",
   "metadata": {},
   "outputs": [
    {
     "name": "stdout",
     "output_type": "stream",
     "text": [
      "My name is ramesh. I live in Kathmandu\n"
     ]
    }
   ],
   "source": [
    "name =\"ramesh\"\n",
    "address=\"Kathmandu\"\n",
    "print('My name is {1}. I live in {0}'.format(address,name))"
   ]
  },
  {
   "cell_type": "code",
   "execution_count": 26,
   "id": "78e87763",
   "metadata": {},
   "outputs": [
    {
     "name": "stdout",
     "output_type": "stream",
     "text": [
      "The value of x is 12.35\n",
      "The value of x is 12.346\n"
     ]
    }
   ],
   "source": [
    "x=12.34567890\n",
    "print('The value of x is %0.2f' %x) # \"%0.2\" means only 2 number after decimal\n",
    "print('The value of x is %0.3f' %x) # \"%0.3\" means only 3 number after decimal"
   ]
  },
  {
   "cell_type": "code",
   "execution_count": 29,
   "id": "5a8afcf6",
   "metadata": {},
   "outputs": [
    {
     "name": "stdout",
     "output_type": "stream",
     "text": [
      "Enter your name: Sandip\n",
      "Enter your address: Bhaktapur\n",
      "My name is Sandip and I live in Bhaktapur.\n"
     ]
    }
   ],
   "source": [
    "name = input ('Enter your name: ')\n",
    "address = input ('Enter your address: ')\n",
    "print(f\"My name is {name} and I live in {address}.\")"
   ]
  },
  {
   "cell_type": "code",
   "execution_count": 3,
   "id": "0df7e3db",
   "metadata": {},
   "outputs": [
    {
     "name": "stdout",
     "output_type": "stream",
     "text": [
      "First number: 5\n",
      "Second number: 9\n",
      "The sum is: 14\n"
     ]
    }
   ],
   "source": [
    " a = int(input ('First number: '))\n",
    " b = int(input ('Second number: '))\n",
    "sum = a +b\n",
    "print (f\"The sum is: {sum}\")"
   ]
  },
  {
   "cell_type": "code",
   "execution_count": 1,
   "id": "a1778f59",
   "metadata": {},
   "outputs": [
    {
     "data": {
      "text/plain": [
       "9"
      ]
     },
     "execution_count": 1,
     "metadata": {},
     "output_type": "execute_result"
    }
   ],
   "source": [
    "eval ('6+3') # Eval function can add numbers in string data type\n"
   ]
  },
  {
   "cell_type": "code",
   "execution_count": 4,
   "id": "aaa095ad",
   "metadata": {},
   "outputs": [
    {
     "data": {
      "text/plain": [
       "14"
      ]
     },
     "execution_count": 4,
     "metadata": {},
     "output_type": "execute_result"
    }
   ],
   "source": [
    "eval (\"a+b\")\n"
   ]
  },
  {
   "cell_type": "code",
   "execution_count": 5,
   "id": "46f7971f",
   "metadata": {},
   "outputs": [
    {
     "name": "stdout",
     "output_type": "stream",
     "text": [
      "Enter number: 25\n",
      "\n",
      "\n",
      "The number in decimal format is: 25\n",
      "The number in octal format is: 31\n",
      "The number in binary format is: 11001\n",
      "The number in hexadecimal format is: 19\n"
     ]
    }
   ],
   "source": [
    "number = int (input(\"Enter number: \"))\n",
    "print (\"\\n\")\n",
    "print (\"The number in decimal format is: {:d}\".format (number))\n",
    "print (\"The number in octal format is: {0:o}\".format (number))\n",
    "print (\"The number in binary format is: {0:b}\".format (number))\n",
    "print (\"The number in hexadecimal format is: {0:x}\".format (number))\n"
   ]
  },
  {
   "cell_type": "code",
   "execution_count": null,
   "id": "9031321d",
   "metadata": {},
   "outputs": [],
   "source": []
  },
  {
   "cell_type": "code",
   "execution_count": null,
   "id": "3f50fb34",
   "metadata": {},
   "outputs": [],
   "source": []
  }
 ],
 "metadata": {
  "kernelspec": {
   "display_name": "Python 3 (ipykernel)",
   "language": "python",
   "name": "python3"
  },
  "language_info": {
   "codemirror_mode": {
    "name": "ipython",
    "version": 3
   },
   "file_extension": ".py",
   "mimetype": "text/x-python",
   "name": "python",
   "nbconvert_exporter": "python",
   "pygments_lexer": "ipython3",
   "version": "3.10.6"
  }
 },
 "nbformat": 4,
 "nbformat_minor": 5
}
